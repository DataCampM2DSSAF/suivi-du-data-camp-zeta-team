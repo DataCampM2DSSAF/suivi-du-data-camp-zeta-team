{
  "nbformat": 4,
  "nbformat_minor": 0,
  "metadata": {
    "accelerator": "GPU",
    "colab": {
      "name": "Label_encodingone_hotmodels_v2.ipynb",
      "provenance": [],
      "collapsed_sections": [],
      "machine_shape": "hm"
    },
    "kernelspec": {
      "name": "python3",
      "display_name": "Python 3"
    },
    "language_info": {
      "codemirror_mode": {
        "name": "ipython",
        "version": 3
      },
      "file_extension": ".py",
      "mimetype": "text/x-python",
      "name": "python",
      "nbconvert_exporter": "python",
      "pygments_lexer": "ipython3",
      "version": "3.7.3"
    },
    "latex_envs": {
      "LaTeX_envs_menu_present": true,
      "autoclose": false,
      "autocomplete": true,
      "bibliofile": "biblio.bib",
      "cite_by": "apalike",
      "current_citInitial": 1,
      "eqLabelWithNumbers": true,
      "eqNumInitial": 1,
      "hotkeys": {
        "equation": "Ctrl-E",
        "itemize": "Ctrl-I"
      },
      "labels_anchors": false,
      "latex_user_defs": false,
      "report_style_numbering": false,
      "user_envs_cfg": false
    }
  },
  "cells": [
    {
      "cell_type": "markdown",
      "metadata": {
        "colab_type": "text",
        "id": "UO0U107H1hea"
      },
      "source": [
        "# Competition Objective is to detect fraud in transactions; \n",
        "\n",
        "## Data\n",
        "\n",
        "\n",
        "In this competition you are predicting the probability that an online transaction is fraudulent, as denoted by the binary target ```isFraud```.\n",
        "\n",
        "The data is broken into two files **identity** and **transaction**, which are joined by ```TransactionID```. \n",
        "\n",
        "> Note: Not all transactions have corresponding identity information.\n",
        "\n",
        "**Transaction variables**\n",
        "\n",
        "- TransactionDT: timedelta from a given reference datetime (not an actual timestamp)\n",
        "- TransactionAMT: transaction payment amount in USD\n",
        "- ProductCD: product code, the product for each transaction\n",
        "- card1 - card6: payment card information, such as card type, card category, issue bank, country, etc.\n",
        "- addr: address\n",
        "- dist: distance\n",
        "- P_ and (R__) emaildomain: purchaser and recipient email domain\n",
        "- C1-C14: counting, such as how many addresses are found to be associated with the payment card, etc. The actual meaning is masked.\n",
        "- D1-D15: timedelta, such as days between previous transaction, etc.\n",
        "- M1-M9: match, such as names on card and address, etc.\n",
        "- Vxxx: Vesta engineered rich features, including ranking, counting, and other entity relations.\n",
        "\n",
        "**Categorical Features - Transaction**\n",
        "\n",
        "- ProductCD\n",
        "- emaildomain\n",
        "- card1 - card6\n",
        "- addr1, addr2\n",
        "- P_emaildomain\n",
        "- R_emaildomain\n",
        "- M1 - M9\n",
        "\n",
        "**Categorical Features - Identity**\n",
        "\n",
        "- DeviceType\n",
        "- DeviceInfo\n",
        "- id_12 - id_38\n",
        "\n",
        "**The TransactionDT feature is a timedelta from a given reference datetime (not an actual timestamp).**\n"
      ]
    },
    {
      "cell_type": "markdown",
      "metadata": {
        "colab_type": "text",
        "id": "xFBFES091hed"
      },
      "source": [
        "# 1. Importation and memory reduction\n",
        "## 1.1. Importing necessary libraries"
      ]
    },
    {
      "cell_type": "code",
      "metadata": {
        "_cell_guid": "79c7e3d0-c299-4dcb-8224-4455121ee9b0",
        "_kg_hide-input": true,
        "_uuid": "d629ff2d2480ee46fbb7e2d37f6b5fab8052498a",
        "colab_type": "code",
        "id": "d9BVKC0V1hee",
        "outputId": "67b3e20b-1d65-41b8-95e5-a1c6c3bfe85f",
        "colab": {
          "base_uri": "https://localhost:8080/",
          "height": 17
        }
      },
      "source": [
        "import numpy as np # linear algebra\n",
        "import pandas as pd # data processing, CSV file I/O (e.g. pd.read_csv)\n",
        "import scipy as sp\n",
        "from scipy import stats\n",
        "import matplotlib.pyplot as plt\n",
        "import seaborn as sns\n",
        "import datetime\n",
        "\n",
        "# Standard plotly imports\n",
        "#import plotly.plotly as py\n",
        "import plotly.graph_objs as go\n",
        "\n",
        "import plotly.express as px\n",
        "import plotly.tools as tls\n",
        "from plotly.subplots import make_subplots\n",
        "\n",
        "from plotly.offline import iplot, init_notebook_mode\n",
        "#import cufflinks\n",
        "#import cufflinks as cf\n",
        "import plotly.figure_factory as ff\n",
        "\n",
        "\n",
        "# Using plotly + cufflinks in offline mode\n",
        "init_notebook_mode(connected=True)\n",
        "#cufflinks.go_offline(connected=True)\n",
        "\n",
        "# Preprocessing, modelling and evaluating\n",
        "from sklearn import preprocessing\n",
        "from sklearn.metrics import confusion_matrix, roc_auc_score\n",
        "from sklearn.model_selection import StratifiedKFold, cross_val_score, KFold\n",
        "from xgboost import XGBClassifier\n",
        "import xgboost as xgb\n",
        "\n",
        "## Hyperopt modules\n",
        "from hyperopt import fmin, hp, tpe, Trials, space_eval, STATUS_OK, STATUS_RUNNING\n",
        "from functools import partial\n",
        "\n",
        "import os\n",
        "import gc\n",
        "import time"
      ],
      "execution_count": 1,
      "outputs": [
        {
          "output_type": "display_data",
          "data": {
            "text/html": [
              "        <script type=\"text/javascript\">\n",
              "        window.PlotlyConfig = {MathJaxConfig: 'local'};\n",
              "        if (window.MathJax) {MathJax.Hub.Config({SVG: {font: \"STIX-Web\"}});}\n",
              "        if (typeof require !== 'undefined') {\n",
              "        require.undef(\"plotly\");\n",
              "        requirejs.config({\n",
              "            paths: {\n",
              "                'plotly': ['https://cdn.plot.ly/plotly-latest.min']\n",
              "            }\n",
              "        });\n",
              "        require(['plotly'], function(Plotly) {\n",
              "            window._Plotly = Plotly;\n",
              "        });\n",
              "        }\n",
              "        </script>\n",
              "        "
            ]
          },
          "metadata": {
            "tags": []
          }
        }
      ]
    },
    {
      "cell_type": "code",
      "metadata": {
        "colab_type": "code",
        "id": "CxrRerF61ngk",
        "colab": {}
      },
      "source": [
        "### Import data from google drive\n",
        "\n",
        "!pip install -U -q PyDrive\n",
        "from pydrive.auth import GoogleAuth\n",
        "from pydrive.drive import GoogleDrive\n",
        "from google.colab import auth\n",
        "from oauth2client.client import GoogleCredentials\n",
        "# Authenticate and create the PyDrive client.\n",
        "auth.authenticate_user()\n",
        "gauth = GoogleAuth()\n",
        "gauth.credentials = GoogleCredentials.get_application_default()\n",
        "drive = GoogleDrive(gauth)\n",
        "link1 = 'https://drive.google.com/open?id=1-2YM1zPLC6L4e94c7UHtfm70-UhrJAx9'\n",
        "link2 = 'https://drive.google.com/open?id=1-8b83OZ7qoWypGqquhyXXmbETyhjDq0G'\n",
        "\n",
        "link5 = 'https://drive.google.com/open?id=1v5in81M0aYl-pX5u-8Tq4G8kwFp4CVez'\n",
        "_, id1 = link1.split('=')\n",
        "_, id2 = link2.split('=')\n",
        "\n",
        "_, id5 = link5.split('=')\n",
        "\n",
        "downloaded1 = drive.CreateFile({'id':id1}) \n",
        "downloaded1.GetContentFile('df_train.pkl')  \n",
        "downloaded2 = drive.CreateFile({'id':id2}) \n",
        "downloaded2.GetContentFile('df_test.pkl')  \n",
        "\n",
        "downloaded5 = drive.CreateFile({'id':id5}) \n",
        "downloaded5.GetContentFile('sample_submission.csv')"
      ],
      "execution_count": 0,
      "outputs": []
    },
    {
      "cell_type": "markdown",
      "metadata": {
        "colab_type": "text",
        "id": "TASyWquR1hel"
      },
      "source": [
        "## 1.2. Importing train datasets"
      ]
    },
    {
      "cell_type": "code",
      "metadata": {
        "colab_type": "code",
        "id": "k7sR73H41heo",
        "colab": {}
      },
      "source": [
        "df_train = pd.read_pickle(\"df_train.pkl\")\n",
        "df_test = pd.read_pickle(\"df_test.pkl\")\n",
        "sample_submission = pd.read_csv('sample_submission.csv')"
      ],
      "execution_count": 0,
      "outputs": []
    },
    {
      "cell_type": "code",
      "metadata": {
        "colab_type": "code",
        "id": "akrrzpwY0C5N",
        "outputId": "3eb74ec5-9687-4314-9350-0372f0e1af7e",
        "colab": {
          "base_uri": "https://localhost:8080/",
          "height": 53
        }
      },
      "source": [
        "print(df_train.shape)\n",
        "print(df_test.shape)"
      ],
      "execution_count": 4,
      "outputs": [
        {
          "output_type": "stream",
          "text": [
            "(590540, 430)\n",
            "(506691, 429)\n"
          ],
          "name": "stdout"
        }
      ]
    },
    {
      "cell_type": "markdown",
      "metadata": {
        "colab_type": "text",
        "id": "b-d0a9Pq1hev"
      },
      "source": [
        "## 1.3. Memory reduction"
      ]
    },
    {
      "cell_type": "code",
      "metadata": {
        "_kg_hide-input": true,
        "colab_type": "code",
        "id": "ghZftLEB1hey",
        "colab": {}
      },
      "source": [
        "def resumetable(df):\n",
        "    n = df.shape[0]\n",
        "    print(f\"Dataset Shape: {df.shape}\")\n",
        "    summary = pd.DataFrame(df.dtypes,columns=['dtypes'])\n",
        "    summary = summary.reset_index()\n",
        "    summary['Name'] = summary['index']\n",
        "    summary = summary[['Name','dtypes']]\n",
        "    summary['Missing'] = df.isnull().sum().values  \n",
        "    summary['Missing %'] = round(summary['Missing'] / n * 100,2)\n",
        "    summary['Uniques'] = df.nunique().values\n",
        "    summary['First Value'] = df.loc[0].values\n",
        "    summary['Second Value'] = df.loc[1].values\n",
        "    summary['Third Value'] = df.loc[2].values\n",
        "\n",
        "\n",
        "    return summary\n",
        "\n",
        "## Function to reduce the DF size\n",
        "def reduce_mem_usage(df, verbose=True, object_tranform = False):\n",
        "    numerics = ['int16', 'int32', 'int64', 'float16', 'float32', 'float64']\n",
        "    start_mem = df.memory_usage().sum() / 1024**2    \n",
        "    for col in df.columns:\n",
        "        col_type = df[col].dtypes\n",
        "        if col_type in numerics:\n",
        "            c_min = df[col].min()\n",
        "            c_max = df[col].max()\n",
        "            if str(col_type)[:3] == 'int':\n",
        "                if c_min > np.iinfo(np.int8).min and c_max < np.iinfo(np.int8).max:\n",
        "                    df[col] = df[col].astype(np.int8)\n",
        "                elif c_min > np.iinfo(np.int16).min and c_max < np.iinfo(np.int16).max:\n",
        "                    df[col] = df[col].astype(np.int16)\n",
        "                elif c_min > np.iinfo(np.int32).min and c_max < np.iinfo(np.int32).max:\n",
        "                    df[col] = df[col].astype(np.int32)\n",
        "                elif c_min > np.iinfo(np.int64).min and c_max < np.iinfo(np.int64).max:\n",
        "                    df[col] = df[col].astype(np.int64)  \n",
        "            else:\n",
        "                if c_min > np.finfo(np.float16).min and c_max < np.finfo(np.float16).max:\n",
        "                    df[col] = df[col].astype(np.float16)\n",
        "                elif c_min > np.finfo(np.float32).min and c_max < np.finfo(np.float32).max:\n",
        "                    df[col] = df[col].astype(np.float32)\n",
        "                else:\n",
        "                    df[col] = df[col].astype(np.float64)   \n",
        "    end_mem = df.memory_usage().sum() / 1024**2\n",
        "    if verbose: print('Mem. usage decreased to {:5.2f} Mb ({:.1f}% reduction)'.format(end_mem, 100 * (start_mem - end_mem) / start_mem))\n",
        "    return df\n",
        "\n",
        "def CalcOutliers(df_num): \n",
        "\n",
        "    # calculating mean and std of the array\n",
        "    data_mean, data_std = np.mean(df_num), np.std(df_num)\n",
        "\n",
        "    # seting the cut line to both higher and lower values\n",
        "    # You can change this value\n",
        "    cut = data_std * 3\n",
        "\n",
        "    #Calculating the higher and lower cut values\n",
        "    lower, upper = data_mean - cut, data_mean + cut\n",
        "\n",
        "    # creating an array of lower, higher and total outlier values \n",
        "    outliers_lower = [x for x in df_num if x < lower]\n",
        "    outliers_higher = [x for x in df_num if x > upper]\n",
        "    outliers_total = [x for x in df_num if x < lower or x > upper]\n",
        "\n",
        "    # array without outlier values\n",
        "    outliers_removed = [x for x in df_num if x > lower and x < upper]\n",
        "    print('Lower bounded value: {:.2f}'.format(lower))\n",
        "    print('Upper bounded value: {:.2f}'.format(upper))\n",
        "    print('Identified lowest outliers: %d' % len(outliers_lower)) # printing total number of values in lower cut of outliers\n",
        "    print('Identified upper outliers: %d' % len(outliers_higher)) # printing total number of values in higher cut of outliers\n",
        "    print('Total outlier observations: %d' % len(outliers_total)) # printing total number of values outliers of both sides\n",
        "    print('Non-outlier observations: %d' % len(outliers_removed)) # printing total number of non outlier values\n",
        "    print(\"Total percentual of Outliers: \", round((len(outliers_total) / len(outliers_removed) )*100, 4)) # Percentual of outliers in points\n",
        "    \n",
        "    return"
      ],
      "execution_count": 0,
      "outputs": []
    },
    {
      "cell_type": "markdown",
      "metadata": {
        "colab_type": "text",
        "id": "nMLaYvbD1he8"
      },
      "source": [
        "To see the output of the Resume Table, click to see the output "
      ]
    },
    {
      "cell_type": "markdown",
      "metadata": {
        "colab_type": "text",
        "id": "iL8OyKpa1hih"
      },
      "source": [
        "# 2. Preprocessing"
      ]
    },
    {
      "cell_type": "code",
      "metadata": {
        "colab_type": "code",
        "id": "zvDByS6P6VKD",
        "outputId": "26ed4aa9-2ad0-4924-a696-a8031e1497e0",
        "colab": {
          "base_uri": "https://localhost:8080/",
          "height": 253
        }
      },
      "source": [
        "df_train.head()"
      ],
      "execution_count": 6,
      "outputs": [
        {
          "output_type": "execute_result",
          "data": {
            "text/html": [
              "<div>\n",
              "<style scoped>\n",
              "    .dataframe tbody tr th:only-of-type {\n",
              "        vertical-align: middle;\n",
              "    }\n",
              "\n",
              "    .dataframe tbody tr th {\n",
              "        vertical-align: top;\n",
              "    }\n",
              "\n",
              "    .dataframe thead th {\n",
              "        text-align: right;\n",
              "    }\n",
              "</style>\n",
              "<table border=\"1\" class=\"dataframe\">\n",
              "  <thead>\n",
              "    <tr style=\"text-align: right;\">\n",
              "      <th></th>\n",
              "      <th>TransactionID</th>\n",
              "      <th>isFraud</th>\n",
              "      <th>TransactionDT</th>\n",
              "      <th>TransactionAmt</th>\n",
              "      <th>ProductCD</th>\n",
              "      <th>card1</th>\n",
              "      <th>card2</th>\n",
              "      <th>card3</th>\n",
              "      <th>card4</th>\n",
              "      <th>card5</th>\n",
              "      <th>card6</th>\n",
              "      <th>addr1</th>\n",
              "      <th>addr2</th>\n",
              "      <th>dist1</th>\n",
              "      <th>dist2</th>\n",
              "      <th>P_emaildomain</th>\n",
              "      <th>R_emaildomain</th>\n",
              "      <th>C1</th>\n",
              "      <th>C2</th>\n",
              "      <th>C3</th>\n",
              "      <th>C4</th>\n",
              "      <th>C5</th>\n",
              "      <th>C6</th>\n",
              "      <th>C7</th>\n",
              "      <th>C8</th>\n",
              "      <th>C9</th>\n",
              "      <th>C10</th>\n",
              "      <th>C11</th>\n",
              "      <th>C12</th>\n",
              "      <th>C13</th>\n",
              "      <th>C14</th>\n",
              "      <th>D1</th>\n",
              "      <th>D2</th>\n",
              "      <th>D3</th>\n",
              "      <th>D4</th>\n",
              "      <th>D5</th>\n",
              "      <th>D6</th>\n",
              "      <th>D8</th>\n",
              "      <th>D9</th>\n",
              "      <th>D10</th>\n",
              "      <th>...</th>\n",
              "      <th>V337</th>\n",
              "      <th>V338</th>\n",
              "      <th>V339</th>\n",
              "      <th>id_01</th>\n",
              "      <th>id_02</th>\n",
              "      <th>id_03</th>\n",
              "      <th>id_04</th>\n",
              "      <th>id_05</th>\n",
              "      <th>id_06</th>\n",
              "      <th>id_09</th>\n",
              "      <th>id_10</th>\n",
              "      <th>id_11</th>\n",
              "      <th>id_12</th>\n",
              "      <th>id_13</th>\n",
              "      <th>id_14</th>\n",
              "      <th>id_15</th>\n",
              "      <th>id_16</th>\n",
              "      <th>id_17</th>\n",
              "      <th>id_19</th>\n",
              "      <th>id_20</th>\n",
              "      <th>id_27</th>\n",
              "      <th>id_28</th>\n",
              "      <th>id_29</th>\n",
              "      <th>id_30</th>\n",
              "      <th>id_31</th>\n",
              "      <th>id_32</th>\n",
              "      <th>id_33</th>\n",
              "      <th>id_34</th>\n",
              "      <th>id_35</th>\n",
              "      <th>id_36</th>\n",
              "      <th>id_37</th>\n",
              "      <th>id_38</th>\n",
              "      <th>DeviceType</th>\n",
              "      <th>DeviceInfo</th>\n",
              "      <th>_merge</th>\n",
              "      <th>dist1_na</th>\n",
              "      <th>dist2_na</th>\n",
              "      <th>_Weekdays</th>\n",
              "      <th>_Hours</th>\n",
              "      <th>_Days</th>\n",
              "    </tr>\n",
              "  </thead>\n",
              "  <tbody>\n",
              "    <tr>\n",
              "      <th>0</th>\n",
              "      <td>2987000</td>\n",
              "      <td>0</td>\n",
              "      <td>86400</td>\n",
              "      <td>4.226562</td>\n",
              "      <td>W</td>\n",
              "      <td>13926</td>\n",
              "      <td>-inf</td>\n",
              "      <td>150</td>\n",
              "      <td>discover</td>\n",
              "      <td>142</td>\n",
              "      <td>credit</td>\n",
              "      <td>315</td>\n",
              "      <td>87</td>\n",
              "      <td>19.0</td>\n",
              "      <td>0.0</td>\n",
              "      <td>gmail.com</td>\n",
              "      <td>gmail.com</td>\n",
              "      <td>1.0</td>\n",
              "      <td>1.0</td>\n",
              "      <td>0.0</td>\n",
              "      <td>0.0</td>\n",
              "      <td>0.0</td>\n",
              "      <td>1.0</td>\n",
              "      <td>0.0</td>\n",
              "      <td>0.0</td>\n",
              "      <td>1.0</td>\n",
              "      <td>0.0</td>\n",
              "      <td>2.0</td>\n",
              "      <td>0.0</td>\n",
              "      <td>1.0</td>\n",
              "      <td>1.0</td>\n",
              "      <td>14.0</td>\n",
              "      <td>97.0</td>\n",
              "      <td>13.0</td>\n",
              "      <td>26.0</td>\n",
              "      <td>10.0</td>\n",
              "      <td>0.0</td>\n",
              "      <td>37.875</td>\n",
              "      <td>0.666504</td>\n",
              "      <td>13.0</td>\n",
              "      <td>...</td>\n",
              "      <td>0.0</td>\n",
              "      <td>0.0</td>\n",
              "      <td>0.0</td>\n",
              "      <td>0.0</td>\n",
              "      <td>70787.0</td>\n",
              "      <td>0.0</td>\n",
              "      <td>0.0</td>\n",
              "      <td>0.0</td>\n",
              "      <td>0.0</td>\n",
              "      <td>0.0</td>\n",
              "      <td>0.0</td>\n",
              "      <td>100.0</td>\n",
              "      <td>NotFound</td>\n",
              "      <td>52.0</td>\n",
              "      <td>-480.0</td>\n",
              "      <td>New</td>\n",
              "      <td>NotFound</td>\n",
              "      <td>166.0</td>\n",
              "      <td>542.0</td>\n",
              "      <td>144.0</td>\n",
              "      <td>Miss</td>\n",
              "      <td>New</td>\n",
              "      <td>NotFound</td>\n",
              "      <td>Android</td>\n",
              "      <td>Samsung</td>\n",
              "      <td>32.0</td>\n",
              "      <td>2220x1080</td>\n",
              "      <td>match_status:2</td>\n",
              "      <td>T</td>\n",
              "      <td>F</td>\n",
              "      <td>T</td>\n",
              "      <td>T</td>\n",
              "      <td>mobile</td>\n",
              "      <td>Others</td>\n",
              "      <td>both</td>\n",
              "      <td>False</td>\n",
              "      <td>True</td>\n",
              "      <td>5</td>\n",
              "      <td>0</td>\n",
              "      <td>2</td>\n",
              "    </tr>\n",
              "    <tr>\n",
              "      <th>1</th>\n",
              "      <td>2987001</td>\n",
              "      <td>0</td>\n",
              "      <td>86401</td>\n",
              "      <td>3.367188</td>\n",
              "      <td>W</td>\n",
              "      <td>2755</td>\n",
              "      <td>404</td>\n",
              "      <td>150</td>\n",
              "      <td>mastercard</td>\n",
              "      <td>102</td>\n",
              "      <td>credit</td>\n",
              "      <td>325</td>\n",
              "      <td>87</td>\n",
              "      <td>8.0</td>\n",
              "      <td>0.0</td>\n",
              "      <td>gmail.com</td>\n",
              "      <td>Maybe_P</td>\n",
              "      <td>1.0</td>\n",
              "      <td>1.0</td>\n",
              "      <td>0.0</td>\n",
              "      <td>0.0</td>\n",
              "      <td>0.0</td>\n",
              "      <td>1.0</td>\n",
              "      <td>0.0</td>\n",
              "      <td>0.0</td>\n",
              "      <td>0.0</td>\n",
              "      <td>0.0</td>\n",
              "      <td>1.0</td>\n",
              "      <td>0.0</td>\n",
              "      <td>1.0</td>\n",
              "      <td>1.0</td>\n",
              "      <td>0.0</td>\n",
              "      <td>97.0</td>\n",
              "      <td>8.0</td>\n",
              "      <td>0.0</td>\n",
              "      <td>10.0</td>\n",
              "      <td>0.0</td>\n",
              "      <td>37.875</td>\n",
              "      <td>0.666504</td>\n",
              "      <td>0.0</td>\n",
              "      <td>...</td>\n",
              "      <td>0.0</td>\n",
              "      <td>0.0</td>\n",
              "      <td>0.0</td>\n",
              "      <td>-5.0</td>\n",
              "      <td>98945.0</td>\n",
              "      <td>0.0</td>\n",
              "      <td>0.0</td>\n",
              "      <td>0.0</td>\n",
              "      <td>-5.0</td>\n",
              "      <td>0.0</td>\n",
              "      <td>0.0</td>\n",
              "      <td>100.0</td>\n",
              "      <td>NotFound</td>\n",
              "      <td>49.0</td>\n",
              "      <td>-300.0</td>\n",
              "      <td>New</td>\n",
              "      <td>NotFound</td>\n",
              "      <td>166.0</td>\n",
              "      <td>621.0</td>\n",
              "      <td>500.0</td>\n",
              "      <td>Miss</td>\n",
              "      <td>New</td>\n",
              "      <td>NotFound</td>\n",
              "      <td>iOS</td>\n",
              "      <td>Safari</td>\n",
              "      <td>32.0</td>\n",
              "      <td>1334x750</td>\n",
              "      <td>match_status:1</td>\n",
              "      <td>T</td>\n",
              "      <td>F</td>\n",
              "      <td>F</td>\n",
              "      <td>T</td>\n",
              "      <td>mobile</td>\n",
              "      <td>iOS Device</td>\n",
              "      <td>both</td>\n",
              "      <td>True</td>\n",
              "      <td>True</td>\n",
              "      <td>5</td>\n",
              "      <td>0</td>\n",
              "      <td>2</td>\n",
              "    </tr>\n",
              "    <tr>\n",
              "      <th>2</th>\n",
              "      <td>2987002</td>\n",
              "      <td>0</td>\n",
              "      <td>86469</td>\n",
              "      <td>4.078125</td>\n",
              "      <td>W</td>\n",
              "      <td>4663</td>\n",
              "      <td>490</td>\n",
              "      <td>150</td>\n",
              "      <td>visa</td>\n",
              "      <td>166</td>\n",
              "      <td>debit</td>\n",
              "      <td>330</td>\n",
              "      <td>87</td>\n",
              "      <td>287.0</td>\n",
              "      <td>0.0</td>\n",
              "      <td>outlook.com</td>\n",
              "      <td>Maybe_P</td>\n",
              "      <td>1.0</td>\n",
              "      <td>1.0</td>\n",
              "      <td>0.0</td>\n",
              "      <td>0.0</td>\n",
              "      <td>0.0</td>\n",
              "      <td>1.0</td>\n",
              "      <td>0.0</td>\n",
              "      <td>0.0</td>\n",
              "      <td>1.0</td>\n",
              "      <td>0.0</td>\n",
              "      <td>1.0</td>\n",
              "      <td>0.0</td>\n",
              "      <td>1.0</td>\n",
              "      <td>1.0</td>\n",
              "      <td>0.0</td>\n",
              "      <td>97.0</td>\n",
              "      <td>8.0</td>\n",
              "      <td>0.0</td>\n",
              "      <td>10.0</td>\n",
              "      <td>0.0</td>\n",
              "      <td>37.875</td>\n",
              "      <td>0.666504</td>\n",
              "      <td>0.0</td>\n",
              "      <td>...</td>\n",
              "      <td>0.0</td>\n",
              "      <td>0.0</td>\n",
              "      <td>0.0</td>\n",
              "      <td>-5.0</td>\n",
              "      <td>191631.0</td>\n",
              "      <td>0.0</td>\n",
              "      <td>0.0</td>\n",
              "      <td>0.0</td>\n",
              "      <td>0.0</td>\n",
              "      <td>0.0</td>\n",
              "      <td>0.0</td>\n",
              "      <td>100.0</td>\n",
              "      <td>NotFound</td>\n",
              "      <td>52.0</td>\n",
              "      <td>-300.0</td>\n",
              "      <td>Found</td>\n",
              "      <td>Found</td>\n",
              "      <td>121.0</td>\n",
              "      <td>410.0</td>\n",
              "      <td>142.0</td>\n",
              "      <td>Miss</td>\n",
              "      <td>Found</td>\n",
              "      <td>Found</td>\n",
              "      <td>Miss</td>\n",
              "      <td>Chrome</td>\n",
              "      <td>24.0</td>\n",
              "      <td>1920x1080</td>\n",
              "      <td>match_status:2</td>\n",
              "      <td>F</td>\n",
              "      <td>F</td>\n",
              "      <td>T</td>\n",
              "      <td>T</td>\n",
              "      <td>desktop</td>\n",
              "      <td>Windows</td>\n",
              "      <td>both</td>\n",
              "      <td>False</td>\n",
              "      <td>True</td>\n",
              "      <td>5</td>\n",
              "      <td>0</td>\n",
              "      <td>2</td>\n",
              "    </tr>\n",
              "    <tr>\n",
              "      <th>3</th>\n",
              "      <td>2987003</td>\n",
              "      <td>0</td>\n",
              "      <td>86499</td>\n",
              "      <td>3.912109</td>\n",
              "      <td>W</td>\n",
              "      <td>18132</td>\n",
              "      <td>567</td>\n",
              "      <td>150</td>\n",
              "      <td>mastercard</td>\n",
              "      <td>117</td>\n",
              "      <td>debit</td>\n",
              "      <td>476</td>\n",
              "      <td>87</td>\n",
              "      <td>8.0</td>\n",
              "      <td>0.0</td>\n",
              "      <td>yahoo.com</td>\n",
              "      <td>Maybe_P</td>\n",
              "      <td>2.0</td>\n",
              "      <td>5.0</td>\n",
              "      <td>0.0</td>\n",
              "      <td>0.0</td>\n",
              "      <td>0.0</td>\n",
              "      <td>4.0</td>\n",
              "      <td>0.0</td>\n",
              "      <td>0.0</td>\n",
              "      <td>1.0</td>\n",
              "      <td>0.0</td>\n",
              "      <td>1.0</td>\n",
              "      <td>0.0</td>\n",
              "      <td>25.0</td>\n",
              "      <td>1.0</td>\n",
              "      <td>112.0</td>\n",
              "      <td>112.0</td>\n",
              "      <td>0.0</td>\n",
              "      <td>94.0</td>\n",
              "      <td>0.0</td>\n",
              "      <td>0.0</td>\n",
              "      <td>37.875</td>\n",
              "      <td>0.666504</td>\n",
              "      <td>84.0</td>\n",
              "      <td>...</td>\n",
              "      <td>0.0</td>\n",
              "      <td>0.0</td>\n",
              "      <td>0.0</td>\n",
              "      <td>-5.0</td>\n",
              "      <td>221832.0</td>\n",
              "      <td>0.0</td>\n",
              "      <td>0.0</td>\n",
              "      <td>0.0</td>\n",
              "      <td>-6.0</td>\n",
              "      <td>0.0</td>\n",
              "      <td>0.0</td>\n",
              "      <td>100.0</td>\n",
              "      <td>NotFound</td>\n",
              "      <td>52.0</td>\n",
              "      <td>-300.0</td>\n",
              "      <td>New</td>\n",
              "      <td>NotFound</td>\n",
              "      <td>225.0</td>\n",
              "      <td>176.0</td>\n",
              "      <td>507.0</td>\n",
              "      <td>Miss</td>\n",
              "      <td>New</td>\n",
              "      <td>NotFound</td>\n",
              "      <td>Miss</td>\n",
              "      <td>Chrome</td>\n",
              "      <td>24.0</td>\n",
              "      <td>1920x1080</td>\n",
              "      <td>match_status:2</td>\n",
              "      <td>F</td>\n",
              "      <td>F</td>\n",
              "      <td>T</td>\n",
              "      <td>T</td>\n",
              "      <td>desktop</td>\n",
              "      <td>Windows</td>\n",
              "      <td>both</td>\n",
              "      <td>True</td>\n",
              "      <td>True</td>\n",
              "      <td>5</td>\n",
              "      <td>0</td>\n",
              "      <td>2</td>\n",
              "    </tr>\n",
              "    <tr>\n",
              "      <th>4</th>\n",
              "      <td>2987004</td>\n",
              "      <td>0</td>\n",
              "      <td>86506</td>\n",
              "      <td>3.912109</td>\n",
              "      <td>H</td>\n",
              "      <td>4497</td>\n",
              "      <td>514</td>\n",
              "      <td>150</td>\n",
              "      <td>mastercard</td>\n",
              "      <td>102</td>\n",
              "      <td>credit</td>\n",
              "      <td>420</td>\n",
              "      <td>87</td>\n",
              "      <td>8.0</td>\n",
              "      <td>0.0</td>\n",
              "      <td>gmail.com</td>\n",
              "      <td>Maybe_P</td>\n",
              "      <td>1.0</td>\n",
              "      <td>1.0</td>\n",
              "      <td>0.0</td>\n",
              "      <td>0.0</td>\n",
              "      <td>0.0</td>\n",
              "      <td>1.0</td>\n",
              "      <td>0.0</td>\n",
              "      <td>1.0</td>\n",
              "      <td>0.0</td>\n",
              "      <td>1.0</td>\n",
              "      <td>1.0</td>\n",
              "      <td>0.0</td>\n",
              "      <td>1.0</td>\n",
              "      <td>1.0</td>\n",
              "      <td>0.0</td>\n",
              "      <td>97.0</td>\n",
              "      <td>8.0</td>\n",
              "      <td>26.0</td>\n",
              "      <td>10.0</td>\n",
              "      <td>0.0</td>\n",
              "      <td>37.875</td>\n",
              "      <td>0.666504</td>\n",
              "      <td>15.0</td>\n",
              "      <td>...</td>\n",
              "      <td>0.0</td>\n",
              "      <td>0.0</td>\n",
              "      <td>0.0</td>\n",
              "      <td>0.0</td>\n",
              "      <td>7460.0</td>\n",
              "      <td>0.0</td>\n",
              "      <td>0.0</td>\n",
              "      <td>1.0</td>\n",
              "      <td>0.0</td>\n",
              "      <td>0.0</td>\n",
              "      <td>0.0</td>\n",
              "      <td>100.0</td>\n",
              "      <td>NotFound</td>\n",
              "      <td>52.0</td>\n",
              "      <td>-300.0</td>\n",
              "      <td>Found</td>\n",
              "      <td>Found</td>\n",
              "      <td>166.0</td>\n",
              "      <td>529.0</td>\n",
              "      <td>575.0</td>\n",
              "      <td>Miss</td>\n",
              "      <td>Found</td>\n",
              "      <td>Found</td>\n",
              "      <td>Mac</td>\n",
              "      <td>Chrome</td>\n",
              "      <td>24.0</td>\n",
              "      <td>1280x800</td>\n",
              "      <td>match_status:2</td>\n",
              "      <td>T</td>\n",
              "      <td>F</td>\n",
              "      <td>T</td>\n",
              "      <td>T</td>\n",
              "      <td>desktop</td>\n",
              "      <td>MacOS</td>\n",
              "      <td>both</td>\n",
              "      <td>True</td>\n",
              "      <td>True</td>\n",
              "      <td>5</td>\n",
              "      <td>0</td>\n",
              "      <td>2</td>\n",
              "    </tr>\n",
              "  </tbody>\n",
              "</table>\n",
              "<p>5 rows × 430 columns</p>\n",
              "</div>"
            ],
            "text/plain": [
              "   TransactionID  isFraud  TransactionDT  ...  _Weekdays _Hours _Days\n",
              "0        2987000        0          86400  ...          5      0     2\n",
              "1        2987001        0          86401  ...          5      0     2\n",
              "2        2987002        0          86469  ...          5      0     2\n",
              "3        2987003        0          86499  ...          5      0     2\n",
              "4        2987004        0          86506  ...          5      0     2\n",
              "\n",
              "[5 rows x 430 columns]"
            ]
          },
          "metadata": {
            "tags": []
          },
          "execution_count": 6
        }
      ]
    },
    {
      "cell_type": "code",
      "metadata": {
        "colab_type": "code",
        "id": "IoF_wy-AdtHe",
        "colab": {}
      },
      "source": [
        "df_train.drop(['_merge'], axis='columns', inplace=True)\n",
        "df_test.drop(['_merge'], axis='columns', inplace=True)"
      ],
      "execution_count": 0,
      "outputs": []
    },
    {
      "cell_type": "code",
      "metadata": {
        "colab_type": "code",
        "id": "TcatNO3xswd8",
        "colab": {}
      },
      "source": [
        "categorical_features = []\n",
        "for col in df_train.columns.drop('isFraud') :\n",
        "    if df_train[col].dtype == 'object' or df_test[col].dtype=='object':\n",
        "        categorical_features.append(col)\n"
      ],
      "execution_count": 0,
      "outputs": []
    },
    {
      "cell_type": "code",
      "metadata": {
        "colab_type": "code",
        "id": "BSeLf3_ngTpF",
        "outputId": "ca34c034-9c2a-4882-da06-9483e20fe3f7",
        "colab": {
          "base_uri": "https://localhost:8080/",
          "height": 1000
        }
      },
      "source": [
        "categorical_resume = resumetable(df_train[categorical_features])\n",
        "categorical_resume"
      ],
      "execution_count": 9,
      "outputs": [
        {
          "output_type": "stream",
          "text": [
            "Dataset Shape: (590540, 36)\n"
          ],
          "name": "stdout"
        },
        {
          "output_type": "execute_result",
          "data": {
            "text/html": [
              "<div>\n",
              "<style scoped>\n",
              "    .dataframe tbody tr th:only-of-type {\n",
              "        vertical-align: middle;\n",
              "    }\n",
              "\n",
              "    .dataframe tbody tr th {\n",
              "        vertical-align: top;\n",
              "    }\n",
              "\n",
              "    .dataframe thead th {\n",
              "        text-align: right;\n",
              "    }\n",
              "</style>\n",
              "<table border=\"1\" class=\"dataframe\">\n",
              "  <thead>\n",
              "    <tr style=\"text-align: right;\">\n",
              "      <th></th>\n",
              "      <th>Name</th>\n",
              "      <th>dtypes</th>\n",
              "      <th>Missing</th>\n",
              "      <th>Missing %</th>\n",
              "      <th>Uniques</th>\n",
              "      <th>First Value</th>\n",
              "      <th>Second Value</th>\n",
              "      <th>Third Value</th>\n",
              "    </tr>\n",
              "  </thead>\n",
              "  <tbody>\n",
              "    <tr>\n",
              "      <th>0</th>\n",
              "      <td>ProductCD</td>\n",
              "      <td>object</td>\n",
              "      <td>0</td>\n",
              "      <td>0.0</td>\n",
              "      <td>5</td>\n",
              "      <td>W</td>\n",
              "      <td>W</td>\n",
              "      <td>W</td>\n",
              "    </tr>\n",
              "    <tr>\n",
              "      <th>1</th>\n",
              "      <td>card1</td>\n",
              "      <td>object</td>\n",
              "      <td>0</td>\n",
              "      <td>0.0</td>\n",
              "      <td>13553</td>\n",
              "      <td>13926</td>\n",
              "      <td>2755</td>\n",
              "      <td>4663</td>\n",
              "    </tr>\n",
              "    <tr>\n",
              "      <th>2</th>\n",
              "      <td>card2</td>\n",
              "      <td>object</td>\n",
              "      <td>0</td>\n",
              "      <td>0.0</td>\n",
              "      <td>501</td>\n",
              "      <td>-inf</td>\n",
              "      <td>404</td>\n",
              "      <td>490</td>\n",
              "    </tr>\n",
              "    <tr>\n",
              "      <th>3</th>\n",
              "      <td>card3</td>\n",
              "      <td>object</td>\n",
              "      <td>0</td>\n",
              "      <td>0.0</td>\n",
              "      <td>115</td>\n",
              "      <td>150</td>\n",
              "      <td>150</td>\n",
              "      <td>150</td>\n",
              "    </tr>\n",
              "    <tr>\n",
              "      <th>4</th>\n",
              "      <td>card4</td>\n",
              "      <td>object</td>\n",
              "      <td>0</td>\n",
              "      <td>0.0</td>\n",
              "      <td>5</td>\n",
              "      <td>discover</td>\n",
              "      <td>mastercard</td>\n",
              "      <td>visa</td>\n",
              "    </tr>\n",
              "    <tr>\n",
              "      <th>5</th>\n",
              "      <td>card5</td>\n",
              "      <td>object</td>\n",
              "      <td>0</td>\n",
              "      <td>0.0</td>\n",
              "      <td>120</td>\n",
              "      <td>142</td>\n",
              "      <td>102</td>\n",
              "      <td>166</td>\n",
              "    </tr>\n",
              "    <tr>\n",
              "      <th>6</th>\n",
              "      <td>card6</td>\n",
              "      <td>object</td>\n",
              "      <td>0</td>\n",
              "      <td>0.0</td>\n",
              "      <td>5</td>\n",
              "      <td>credit</td>\n",
              "      <td>credit</td>\n",
              "      <td>debit</td>\n",
              "    </tr>\n",
              "    <tr>\n",
              "      <th>7</th>\n",
              "      <td>addr1</td>\n",
              "      <td>object</td>\n",
              "      <td>0</td>\n",
              "      <td>0.0</td>\n",
              "      <td>333</td>\n",
              "      <td>315</td>\n",
              "      <td>325</td>\n",
              "      <td>330</td>\n",
              "    </tr>\n",
              "    <tr>\n",
              "      <th>8</th>\n",
              "      <td>addr2</td>\n",
              "      <td>object</td>\n",
              "      <td>0</td>\n",
              "      <td>0.0</td>\n",
              "      <td>75</td>\n",
              "      <td>87</td>\n",
              "      <td>87</td>\n",
              "      <td>87</td>\n",
              "    </tr>\n",
              "    <tr>\n",
              "      <th>9</th>\n",
              "      <td>P_emaildomain</td>\n",
              "      <td>object</td>\n",
              "      <td>0</td>\n",
              "      <td>0.0</td>\n",
              "      <td>31</td>\n",
              "      <td>gmail.com</td>\n",
              "      <td>gmail.com</td>\n",
              "      <td>outlook.com</td>\n",
              "    </tr>\n",
              "    <tr>\n",
              "      <th>10</th>\n",
              "      <td>R_emaildomain</td>\n",
              "      <td>object</td>\n",
              "      <td>0</td>\n",
              "      <td>0.0</td>\n",
              "      <td>28</td>\n",
              "      <td>gmail.com</td>\n",
              "      <td>Maybe_P</td>\n",
              "      <td>Maybe_P</td>\n",
              "    </tr>\n",
              "    <tr>\n",
              "      <th>11</th>\n",
              "      <td>M1</td>\n",
              "      <td>object</td>\n",
              "      <td>0</td>\n",
              "      <td>0.0</td>\n",
              "      <td>3</td>\n",
              "      <td>T</td>\n",
              "      <td>Miss</td>\n",
              "      <td>T</td>\n",
              "    </tr>\n",
              "    <tr>\n",
              "      <th>12</th>\n",
              "      <td>M2</td>\n",
              "      <td>object</td>\n",
              "      <td>0</td>\n",
              "      <td>0.0</td>\n",
              "      <td>3</td>\n",
              "      <td>T</td>\n",
              "      <td>Miss</td>\n",
              "      <td>T</td>\n",
              "    </tr>\n",
              "    <tr>\n",
              "      <th>13</th>\n",
              "      <td>M3</td>\n",
              "      <td>object</td>\n",
              "      <td>0</td>\n",
              "      <td>0.0</td>\n",
              "      <td>3</td>\n",
              "      <td>T</td>\n",
              "      <td>Miss</td>\n",
              "      <td>T</td>\n",
              "    </tr>\n",
              "    <tr>\n",
              "      <th>14</th>\n",
              "      <td>M4</td>\n",
              "      <td>object</td>\n",
              "      <td>0</td>\n",
              "      <td>0.0</td>\n",
              "      <td>4</td>\n",
              "      <td>M2</td>\n",
              "      <td>M0</td>\n",
              "      <td>M0</td>\n",
              "    </tr>\n",
              "    <tr>\n",
              "      <th>15</th>\n",
              "      <td>M5</td>\n",
              "      <td>object</td>\n",
              "      <td>0</td>\n",
              "      <td>0.0</td>\n",
              "      <td>3</td>\n",
              "      <td>F</td>\n",
              "      <td>T</td>\n",
              "      <td>F</td>\n",
              "    </tr>\n",
              "    <tr>\n",
              "      <th>16</th>\n",
              "      <td>M6</td>\n",
              "      <td>object</td>\n",
              "      <td>0</td>\n",
              "      <td>0.0</td>\n",
              "      <td>3</td>\n",
              "      <td>T</td>\n",
              "      <td>T</td>\n",
              "      <td>F</td>\n",
              "    </tr>\n",
              "    <tr>\n",
              "      <th>17</th>\n",
              "      <td>M7</td>\n",
              "      <td>object</td>\n",
              "      <td>0</td>\n",
              "      <td>0.0</td>\n",
              "      <td>3</td>\n",
              "      <td>Miss</td>\n",
              "      <td>Miss</td>\n",
              "      <td>F</td>\n",
              "    </tr>\n",
              "    <tr>\n",
              "      <th>18</th>\n",
              "      <td>M8</td>\n",
              "      <td>object</td>\n",
              "      <td>0</td>\n",
              "      <td>0.0</td>\n",
              "      <td>3</td>\n",
              "      <td>Miss</td>\n",
              "      <td>Miss</td>\n",
              "      <td>F</td>\n",
              "    </tr>\n",
              "    <tr>\n",
              "      <th>19</th>\n",
              "      <td>M9</td>\n",
              "      <td>object</td>\n",
              "      <td>0</td>\n",
              "      <td>0.0</td>\n",
              "      <td>3</td>\n",
              "      <td>Miss</td>\n",
              "      <td>Miss</td>\n",
              "      <td>F</td>\n",
              "    </tr>\n",
              "    <tr>\n",
              "      <th>20</th>\n",
              "      <td>id_12</td>\n",
              "      <td>object</td>\n",
              "      <td>0</td>\n",
              "      <td>0.0</td>\n",
              "      <td>3</td>\n",
              "      <td>NotFound</td>\n",
              "      <td>NotFound</td>\n",
              "      <td>NotFound</td>\n",
              "    </tr>\n",
              "    <tr>\n",
              "      <th>21</th>\n",
              "      <td>id_15</td>\n",
              "      <td>object</td>\n",
              "      <td>0</td>\n",
              "      <td>0.0</td>\n",
              "      <td>4</td>\n",
              "      <td>New</td>\n",
              "      <td>New</td>\n",
              "      <td>Found</td>\n",
              "    </tr>\n",
              "    <tr>\n",
              "      <th>22</th>\n",
              "      <td>id_16</td>\n",
              "      <td>object</td>\n",
              "      <td>0</td>\n",
              "      <td>0.0</td>\n",
              "      <td>3</td>\n",
              "      <td>NotFound</td>\n",
              "      <td>NotFound</td>\n",
              "      <td>Found</td>\n",
              "    </tr>\n",
              "    <tr>\n",
              "      <th>23</th>\n",
              "      <td>id_27</td>\n",
              "      <td>object</td>\n",
              "      <td>0</td>\n",
              "      <td>0.0</td>\n",
              "      <td>3</td>\n",
              "      <td>Miss</td>\n",
              "      <td>Miss</td>\n",
              "      <td>Miss</td>\n",
              "    </tr>\n",
              "    <tr>\n",
              "      <th>24</th>\n",
              "      <td>id_28</td>\n",
              "      <td>object</td>\n",
              "      <td>0</td>\n",
              "      <td>0.0</td>\n",
              "      <td>3</td>\n",
              "      <td>New</td>\n",
              "      <td>New</td>\n",
              "      <td>Found</td>\n",
              "    </tr>\n",
              "    <tr>\n",
              "      <th>25</th>\n",
              "      <td>id_29</td>\n",
              "      <td>object</td>\n",
              "      <td>0</td>\n",
              "      <td>0.0</td>\n",
              "      <td>3</td>\n",
              "      <td>NotFound</td>\n",
              "      <td>NotFound</td>\n",
              "      <td>Found</td>\n",
              "    </tr>\n",
              "    <tr>\n",
              "      <th>26</th>\n",
              "      <td>id_30</td>\n",
              "      <td>object</td>\n",
              "      <td>0</td>\n",
              "      <td>0.0</td>\n",
              "      <td>8</td>\n",
              "      <td>Android</td>\n",
              "      <td>iOS</td>\n",
              "      <td>Miss</td>\n",
              "    </tr>\n",
              "    <tr>\n",
              "      <th>27</th>\n",
              "      <td>id_31</td>\n",
              "      <td>object</td>\n",
              "      <td>0</td>\n",
              "      <td>0.0</td>\n",
              "      <td>10</td>\n",
              "      <td>Samsung</td>\n",
              "      <td>Safari</td>\n",
              "      <td>Chrome</td>\n",
              "    </tr>\n",
              "    <tr>\n",
              "      <th>28</th>\n",
              "      <td>id_33</td>\n",
              "      <td>object</td>\n",
              "      <td>0</td>\n",
              "      <td>0.0</td>\n",
              "      <td>260</td>\n",
              "      <td>2220x1080</td>\n",
              "      <td>1334x750</td>\n",
              "      <td>1920x1080</td>\n",
              "    </tr>\n",
              "    <tr>\n",
              "      <th>29</th>\n",
              "      <td>id_34</td>\n",
              "      <td>object</td>\n",
              "      <td>0</td>\n",
              "      <td>0.0</td>\n",
              "      <td>4</td>\n",
              "      <td>match_status:2</td>\n",
              "      <td>match_status:1</td>\n",
              "      <td>match_status:2</td>\n",
              "    </tr>\n",
              "    <tr>\n",
              "      <th>30</th>\n",
              "      <td>id_35</td>\n",
              "      <td>object</td>\n",
              "      <td>0</td>\n",
              "      <td>0.0</td>\n",
              "      <td>2</td>\n",
              "      <td>T</td>\n",
              "      <td>T</td>\n",
              "      <td>F</td>\n",
              "    </tr>\n",
              "    <tr>\n",
              "      <th>31</th>\n",
              "      <td>id_36</td>\n",
              "      <td>object</td>\n",
              "      <td>0</td>\n",
              "      <td>0.0</td>\n",
              "      <td>2</td>\n",
              "      <td>F</td>\n",
              "      <td>F</td>\n",
              "      <td>F</td>\n",
              "    </tr>\n",
              "    <tr>\n",
              "      <th>32</th>\n",
              "      <td>id_37</td>\n",
              "      <td>object</td>\n",
              "      <td>0</td>\n",
              "      <td>0.0</td>\n",
              "      <td>2</td>\n",
              "      <td>T</td>\n",
              "      <td>F</td>\n",
              "      <td>T</td>\n",
              "    </tr>\n",
              "    <tr>\n",
              "      <th>33</th>\n",
              "      <td>id_38</td>\n",
              "      <td>object</td>\n",
              "      <td>0</td>\n",
              "      <td>0.0</td>\n",
              "      <td>2</td>\n",
              "      <td>T</td>\n",
              "      <td>T</td>\n",
              "      <td>T</td>\n",
              "    </tr>\n",
              "    <tr>\n",
              "      <th>34</th>\n",
              "      <td>DeviceType</td>\n",
              "      <td>object</td>\n",
              "      <td>0</td>\n",
              "      <td>0.0</td>\n",
              "      <td>2</td>\n",
              "      <td>mobile</td>\n",
              "      <td>mobile</td>\n",
              "      <td>desktop</td>\n",
              "    </tr>\n",
              "    <tr>\n",
              "      <th>35</th>\n",
              "      <td>DeviceInfo</td>\n",
              "      <td>object</td>\n",
              "      <td>0</td>\n",
              "      <td>0.0</td>\n",
              "      <td>5</td>\n",
              "      <td>Others</td>\n",
              "      <td>iOS Device</td>\n",
              "      <td>Windows</td>\n",
              "    </tr>\n",
              "  </tbody>\n",
              "</table>\n",
              "</div>"
            ],
            "text/plain": [
              "             Name  dtypes  ...    Second Value     Third Value\n",
              "0       ProductCD  object  ...               W               W\n",
              "1           card1  object  ...            2755            4663\n",
              "2           card2  object  ...             404             490\n",
              "3           card3  object  ...             150             150\n",
              "4           card4  object  ...      mastercard            visa\n",
              "5           card5  object  ...             102             166\n",
              "6           card6  object  ...          credit           debit\n",
              "7           addr1  object  ...             325             330\n",
              "8           addr2  object  ...              87              87\n",
              "9   P_emaildomain  object  ...       gmail.com     outlook.com\n",
              "10  R_emaildomain  object  ...         Maybe_P         Maybe_P\n",
              "11             M1  object  ...            Miss               T\n",
              "12             M2  object  ...            Miss               T\n",
              "13             M3  object  ...            Miss               T\n",
              "14             M4  object  ...              M0              M0\n",
              "15             M5  object  ...               T               F\n",
              "16             M6  object  ...               T               F\n",
              "17             M7  object  ...            Miss               F\n",
              "18             M8  object  ...            Miss               F\n",
              "19             M9  object  ...            Miss               F\n",
              "20          id_12  object  ...        NotFound        NotFound\n",
              "21          id_15  object  ...             New           Found\n",
              "22          id_16  object  ...        NotFound           Found\n",
              "23          id_27  object  ...            Miss            Miss\n",
              "24          id_28  object  ...             New           Found\n",
              "25          id_29  object  ...        NotFound           Found\n",
              "26          id_30  object  ...             iOS            Miss\n",
              "27          id_31  object  ...          Safari          Chrome\n",
              "28          id_33  object  ...        1334x750       1920x1080\n",
              "29          id_34  object  ...  match_status:1  match_status:2\n",
              "30          id_35  object  ...               T               F\n",
              "31          id_36  object  ...               F               F\n",
              "32          id_37  object  ...               F               T\n",
              "33          id_38  object  ...               T               T\n",
              "34     DeviceType  object  ...          mobile         desktop\n",
              "35     DeviceInfo  object  ...      iOS Device         Windows\n",
              "\n",
              "[36 rows x 8 columns]"
            ]
          },
          "metadata": {
            "tags": []
          },
          "execution_count": 9
        }
      ]
    },
    {
      "cell_type": "markdown",
      "metadata": {
        "id": "SZYoJCL0GS1R",
        "colab_type": "text"
      },
      "source": [
        "#### **Label Encoding :**"
      ]
    },
    {
      "cell_type": "code",
      "metadata": {
        "colab_type": "code",
        "id": "p0Nf7ciH1hio",
        "colab": {}
      },
      "source": [
        "# Label Encoding\n",
        "\n",
        "categorical_features_v2 = categorical_features.copy() #création d'une liste categorical_features_v2 pour le one-hot encoding\n",
        "for f in categorical_features:\n",
        "    if float(categorical_resume.loc[categorical_resume['Name']==f, 'Uniques']) > 8 : #pour les categorical_features donc le nombre de classe est > 8 nous faisons du label encoding \n",
        "        lbl = preprocessing.LabelEncoder()\n",
        "        lbl.fit(list(df_train[f].values) + list(df_test[f].values))\n",
        "        df_train[f] = lbl.transform(list(df_train[f].values))\n",
        "        df_test[f] = lbl.transform(list(df_test[f].values))  \n",
        "        categorical_features_v2.remove(f) #suppresion des categorical_features dont on a fait le label encoding\n"
      ],
      "execution_count": 0,
      "outputs": []
    },
    {
      "cell_type": "code",
      "metadata": {
        "colab_type": "code",
        "id": "KFhUfSzTADDU",
        "outputId": "230444ee-ed08-48ab-a5dc-4d0805169ef2",
        "colab": {
          "base_uri": "https://localhost:8080/",
          "height": 873
        }
      },
      "source": [
        "categorical_resume_v2 = resumetable(df_train[categorical_features_v2]) \n",
        "categorical_resume_v2\n"
      ],
      "execution_count": 11,
      "outputs": [
        {
          "output_type": "stream",
          "text": [
            "Dataset Shape: (590540, 26)\n"
          ],
          "name": "stdout"
        },
        {
          "output_type": "execute_result",
          "data": {
            "text/html": [
              "<div>\n",
              "<style scoped>\n",
              "    .dataframe tbody tr th:only-of-type {\n",
              "        vertical-align: middle;\n",
              "    }\n",
              "\n",
              "    .dataframe tbody tr th {\n",
              "        vertical-align: top;\n",
              "    }\n",
              "\n",
              "    .dataframe thead th {\n",
              "        text-align: right;\n",
              "    }\n",
              "</style>\n",
              "<table border=\"1\" class=\"dataframe\">\n",
              "  <thead>\n",
              "    <tr style=\"text-align: right;\">\n",
              "      <th></th>\n",
              "      <th>Name</th>\n",
              "      <th>dtypes</th>\n",
              "      <th>Missing</th>\n",
              "      <th>Missing %</th>\n",
              "      <th>Uniques</th>\n",
              "      <th>First Value</th>\n",
              "      <th>Second Value</th>\n",
              "      <th>Third Value</th>\n",
              "    </tr>\n",
              "  </thead>\n",
              "  <tbody>\n",
              "    <tr>\n",
              "      <th>0</th>\n",
              "      <td>ProductCD</td>\n",
              "      <td>object</td>\n",
              "      <td>0</td>\n",
              "      <td>0.0</td>\n",
              "      <td>5</td>\n",
              "      <td>W</td>\n",
              "      <td>W</td>\n",
              "      <td>W</td>\n",
              "    </tr>\n",
              "    <tr>\n",
              "      <th>1</th>\n",
              "      <td>card4</td>\n",
              "      <td>object</td>\n",
              "      <td>0</td>\n",
              "      <td>0.0</td>\n",
              "      <td>5</td>\n",
              "      <td>discover</td>\n",
              "      <td>mastercard</td>\n",
              "      <td>visa</td>\n",
              "    </tr>\n",
              "    <tr>\n",
              "      <th>2</th>\n",
              "      <td>card6</td>\n",
              "      <td>object</td>\n",
              "      <td>0</td>\n",
              "      <td>0.0</td>\n",
              "      <td>5</td>\n",
              "      <td>credit</td>\n",
              "      <td>credit</td>\n",
              "      <td>debit</td>\n",
              "    </tr>\n",
              "    <tr>\n",
              "      <th>3</th>\n",
              "      <td>M1</td>\n",
              "      <td>object</td>\n",
              "      <td>0</td>\n",
              "      <td>0.0</td>\n",
              "      <td>3</td>\n",
              "      <td>T</td>\n",
              "      <td>Miss</td>\n",
              "      <td>T</td>\n",
              "    </tr>\n",
              "    <tr>\n",
              "      <th>4</th>\n",
              "      <td>M2</td>\n",
              "      <td>object</td>\n",
              "      <td>0</td>\n",
              "      <td>0.0</td>\n",
              "      <td>3</td>\n",
              "      <td>T</td>\n",
              "      <td>Miss</td>\n",
              "      <td>T</td>\n",
              "    </tr>\n",
              "    <tr>\n",
              "      <th>5</th>\n",
              "      <td>M3</td>\n",
              "      <td>object</td>\n",
              "      <td>0</td>\n",
              "      <td>0.0</td>\n",
              "      <td>3</td>\n",
              "      <td>T</td>\n",
              "      <td>Miss</td>\n",
              "      <td>T</td>\n",
              "    </tr>\n",
              "    <tr>\n",
              "      <th>6</th>\n",
              "      <td>M4</td>\n",
              "      <td>object</td>\n",
              "      <td>0</td>\n",
              "      <td>0.0</td>\n",
              "      <td>4</td>\n",
              "      <td>M2</td>\n",
              "      <td>M0</td>\n",
              "      <td>M0</td>\n",
              "    </tr>\n",
              "    <tr>\n",
              "      <th>7</th>\n",
              "      <td>M5</td>\n",
              "      <td>object</td>\n",
              "      <td>0</td>\n",
              "      <td>0.0</td>\n",
              "      <td>3</td>\n",
              "      <td>F</td>\n",
              "      <td>T</td>\n",
              "      <td>F</td>\n",
              "    </tr>\n",
              "    <tr>\n",
              "      <th>8</th>\n",
              "      <td>M6</td>\n",
              "      <td>object</td>\n",
              "      <td>0</td>\n",
              "      <td>0.0</td>\n",
              "      <td>3</td>\n",
              "      <td>T</td>\n",
              "      <td>T</td>\n",
              "      <td>F</td>\n",
              "    </tr>\n",
              "    <tr>\n",
              "      <th>9</th>\n",
              "      <td>M7</td>\n",
              "      <td>object</td>\n",
              "      <td>0</td>\n",
              "      <td>0.0</td>\n",
              "      <td>3</td>\n",
              "      <td>Miss</td>\n",
              "      <td>Miss</td>\n",
              "      <td>F</td>\n",
              "    </tr>\n",
              "    <tr>\n",
              "      <th>10</th>\n",
              "      <td>M8</td>\n",
              "      <td>object</td>\n",
              "      <td>0</td>\n",
              "      <td>0.0</td>\n",
              "      <td>3</td>\n",
              "      <td>Miss</td>\n",
              "      <td>Miss</td>\n",
              "      <td>F</td>\n",
              "    </tr>\n",
              "    <tr>\n",
              "      <th>11</th>\n",
              "      <td>M9</td>\n",
              "      <td>object</td>\n",
              "      <td>0</td>\n",
              "      <td>0.0</td>\n",
              "      <td>3</td>\n",
              "      <td>Miss</td>\n",
              "      <td>Miss</td>\n",
              "      <td>F</td>\n",
              "    </tr>\n",
              "    <tr>\n",
              "      <th>12</th>\n",
              "      <td>id_12</td>\n",
              "      <td>object</td>\n",
              "      <td>0</td>\n",
              "      <td>0.0</td>\n",
              "      <td>3</td>\n",
              "      <td>NotFound</td>\n",
              "      <td>NotFound</td>\n",
              "      <td>NotFound</td>\n",
              "    </tr>\n",
              "    <tr>\n",
              "      <th>13</th>\n",
              "      <td>id_15</td>\n",
              "      <td>object</td>\n",
              "      <td>0</td>\n",
              "      <td>0.0</td>\n",
              "      <td>4</td>\n",
              "      <td>New</td>\n",
              "      <td>New</td>\n",
              "      <td>Found</td>\n",
              "    </tr>\n",
              "    <tr>\n",
              "      <th>14</th>\n",
              "      <td>id_16</td>\n",
              "      <td>object</td>\n",
              "      <td>0</td>\n",
              "      <td>0.0</td>\n",
              "      <td>3</td>\n",
              "      <td>NotFound</td>\n",
              "      <td>NotFound</td>\n",
              "      <td>Found</td>\n",
              "    </tr>\n",
              "    <tr>\n",
              "      <th>15</th>\n",
              "      <td>id_27</td>\n",
              "      <td>object</td>\n",
              "      <td>0</td>\n",
              "      <td>0.0</td>\n",
              "      <td>3</td>\n",
              "      <td>Miss</td>\n",
              "      <td>Miss</td>\n",
              "      <td>Miss</td>\n",
              "    </tr>\n",
              "    <tr>\n",
              "      <th>16</th>\n",
              "      <td>id_28</td>\n",
              "      <td>object</td>\n",
              "      <td>0</td>\n",
              "      <td>0.0</td>\n",
              "      <td>3</td>\n",
              "      <td>New</td>\n",
              "      <td>New</td>\n",
              "      <td>Found</td>\n",
              "    </tr>\n",
              "    <tr>\n",
              "      <th>17</th>\n",
              "      <td>id_29</td>\n",
              "      <td>object</td>\n",
              "      <td>0</td>\n",
              "      <td>0.0</td>\n",
              "      <td>3</td>\n",
              "      <td>NotFound</td>\n",
              "      <td>NotFound</td>\n",
              "      <td>Found</td>\n",
              "    </tr>\n",
              "    <tr>\n",
              "      <th>18</th>\n",
              "      <td>id_30</td>\n",
              "      <td>object</td>\n",
              "      <td>0</td>\n",
              "      <td>0.0</td>\n",
              "      <td>8</td>\n",
              "      <td>Android</td>\n",
              "      <td>iOS</td>\n",
              "      <td>Miss</td>\n",
              "    </tr>\n",
              "    <tr>\n",
              "      <th>19</th>\n",
              "      <td>id_34</td>\n",
              "      <td>object</td>\n",
              "      <td>0</td>\n",
              "      <td>0.0</td>\n",
              "      <td>4</td>\n",
              "      <td>match_status:2</td>\n",
              "      <td>match_status:1</td>\n",
              "      <td>match_status:2</td>\n",
              "    </tr>\n",
              "    <tr>\n",
              "      <th>20</th>\n",
              "      <td>id_35</td>\n",
              "      <td>object</td>\n",
              "      <td>0</td>\n",
              "      <td>0.0</td>\n",
              "      <td>2</td>\n",
              "      <td>T</td>\n",
              "      <td>T</td>\n",
              "      <td>F</td>\n",
              "    </tr>\n",
              "    <tr>\n",
              "      <th>21</th>\n",
              "      <td>id_36</td>\n",
              "      <td>object</td>\n",
              "      <td>0</td>\n",
              "      <td>0.0</td>\n",
              "      <td>2</td>\n",
              "      <td>F</td>\n",
              "      <td>F</td>\n",
              "      <td>F</td>\n",
              "    </tr>\n",
              "    <tr>\n",
              "      <th>22</th>\n",
              "      <td>id_37</td>\n",
              "      <td>object</td>\n",
              "      <td>0</td>\n",
              "      <td>0.0</td>\n",
              "      <td>2</td>\n",
              "      <td>T</td>\n",
              "      <td>F</td>\n",
              "      <td>T</td>\n",
              "    </tr>\n",
              "    <tr>\n",
              "      <th>23</th>\n",
              "      <td>id_38</td>\n",
              "      <td>object</td>\n",
              "      <td>0</td>\n",
              "      <td>0.0</td>\n",
              "      <td>2</td>\n",
              "      <td>T</td>\n",
              "      <td>T</td>\n",
              "      <td>T</td>\n",
              "    </tr>\n",
              "    <tr>\n",
              "      <th>24</th>\n",
              "      <td>DeviceType</td>\n",
              "      <td>object</td>\n",
              "      <td>0</td>\n",
              "      <td>0.0</td>\n",
              "      <td>2</td>\n",
              "      <td>mobile</td>\n",
              "      <td>mobile</td>\n",
              "      <td>desktop</td>\n",
              "    </tr>\n",
              "    <tr>\n",
              "      <th>25</th>\n",
              "      <td>DeviceInfo</td>\n",
              "      <td>object</td>\n",
              "      <td>0</td>\n",
              "      <td>0.0</td>\n",
              "      <td>5</td>\n",
              "      <td>Others</td>\n",
              "      <td>iOS Device</td>\n",
              "      <td>Windows</td>\n",
              "    </tr>\n",
              "  </tbody>\n",
              "</table>\n",
              "</div>"
            ],
            "text/plain": [
              "          Name  dtypes  Missing  ...     First Value    Second Value     Third Value\n",
              "0    ProductCD  object        0  ...               W               W               W\n",
              "1        card4  object        0  ...        discover      mastercard            visa\n",
              "2        card6  object        0  ...          credit          credit           debit\n",
              "3           M1  object        0  ...               T            Miss               T\n",
              "4           M2  object        0  ...               T            Miss               T\n",
              "5           M3  object        0  ...               T            Miss               T\n",
              "6           M4  object        0  ...              M2              M0              M0\n",
              "7           M5  object        0  ...               F               T               F\n",
              "8           M6  object        0  ...               T               T               F\n",
              "9           M7  object        0  ...            Miss            Miss               F\n",
              "10          M8  object        0  ...            Miss            Miss               F\n",
              "11          M9  object        0  ...            Miss            Miss               F\n",
              "12       id_12  object        0  ...        NotFound        NotFound        NotFound\n",
              "13       id_15  object        0  ...             New             New           Found\n",
              "14       id_16  object        0  ...        NotFound        NotFound           Found\n",
              "15       id_27  object        0  ...            Miss            Miss            Miss\n",
              "16       id_28  object        0  ...             New             New           Found\n",
              "17       id_29  object        0  ...        NotFound        NotFound           Found\n",
              "18       id_30  object        0  ...         Android             iOS            Miss\n",
              "19       id_34  object        0  ...  match_status:2  match_status:1  match_status:2\n",
              "20       id_35  object        0  ...               T               T               F\n",
              "21       id_36  object        0  ...               F               F               F\n",
              "22       id_37  object        0  ...               T               F               T\n",
              "23       id_38  object        0  ...               T               T               T\n",
              "24  DeviceType  object        0  ...          mobile          mobile         desktop\n",
              "25  DeviceInfo  object        0  ...          Others      iOS Device         Windows\n",
              "\n",
              "[26 rows x 8 columns]"
            ]
          },
          "metadata": {
            "tags": []
          },
          "execution_count": 11
        }
      ]
    },
    {
      "cell_type": "markdown",
      "metadata": {
        "id": "jPOndrKxGaBk",
        "colab_type": "text"
      },
      "source": [
        "####**One hot encoding :**"
      ]
    },
    {
      "cell_type": "code",
      "metadata": {
        "colab_type": "code",
        "id": "kOwmLk3Gsw0C",
        "outputId": "6452a94a-495a-48ec-ac25-255a1f52ecc3",
        "colab": {
          "base_uri": "https://localhost:8080/",
          "height": 437
        }
      },
      "source": [
        "# One hot encoding\n",
        "\n",
        "merged_train_test = pd.concat([df_train[categorical_features_v2], df_test[categorical_features_v2]], axis =0, ignore_index=True) #création d'un seul dataframe pour simplifier le one-hot\n",
        "\n",
        "#On effectue le one-hot encoding sur categorical_features_v2 (celle qui n'ont pas subit le label encoding)\n",
        "for col in merged_train_test.columns :\n",
        "    encoder = preprocessing.OneHotEncoder(sparse=False) # création de l'instance du one-hot encoder\n",
        "    a = pd.DataFrame(encoder.fit_transform(merged_train_test[[col]].astype(np.str))) #création des colonnes correspond au nombre de classe\n",
        "    a.columns = encoder.get_feature_names([col]) #nommé les colonnes par rapport au nom de classe correspond\n",
        "    merged_train_test.drop(col ,axis=1, inplace=True)\n",
        "    merged_train_test= pd.concat([merged_train_test, a ], axis=1)\n",
        "resumetable(merged_train_test)\n"
      ],
      "execution_count": 12,
      "outputs": [
        {
          "output_type": "stream",
          "text": [
            "Dataset Shape: (1097231, 89)\n"
          ],
          "name": "stdout"
        },
        {
          "output_type": "execute_result",
          "data": {
            "text/html": [
              "<div>\n",
              "<style scoped>\n",
              "    .dataframe tbody tr th:only-of-type {\n",
              "        vertical-align: middle;\n",
              "    }\n",
              "\n",
              "    .dataframe tbody tr th {\n",
              "        vertical-align: top;\n",
              "    }\n",
              "\n",
              "    .dataframe thead th {\n",
              "        text-align: right;\n",
              "    }\n",
              "</style>\n",
              "<table border=\"1\" class=\"dataframe\">\n",
              "  <thead>\n",
              "    <tr style=\"text-align: right;\">\n",
              "      <th></th>\n",
              "      <th>Name</th>\n",
              "      <th>dtypes</th>\n",
              "      <th>Missing</th>\n",
              "      <th>Missing %</th>\n",
              "      <th>Uniques</th>\n",
              "      <th>First Value</th>\n",
              "      <th>Second Value</th>\n",
              "      <th>Third Value</th>\n",
              "    </tr>\n",
              "  </thead>\n",
              "  <tbody>\n",
              "    <tr>\n",
              "      <th>0</th>\n",
              "      <td>ProductCD_C</td>\n",
              "      <td>float64</td>\n",
              "      <td>0</td>\n",
              "      <td>0.0</td>\n",
              "      <td>2</td>\n",
              "      <td>0.0</td>\n",
              "      <td>0.0</td>\n",
              "      <td>0.0</td>\n",
              "    </tr>\n",
              "    <tr>\n",
              "      <th>1</th>\n",
              "      <td>ProductCD_H</td>\n",
              "      <td>float64</td>\n",
              "      <td>0</td>\n",
              "      <td>0.0</td>\n",
              "      <td>2</td>\n",
              "      <td>0.0</td>\n",
              "      <td>0.0</td>\n",
              "      <td>0.0</td>\n",
              "    </tr>\n",
              "    <tr>\n",
              "      <th>2</th>\n",
              "      <td>ProductCD_R</td>\n",
              "      <td>float64</td>\n",
              "      <td>0</td>\n",
              "      <td>0.0</td>\n",
              "      <td>2</td>\n",
              "      <td>0.0</td>\n",
              "      <td>0.0</td>\n",
              "      <td>0.0</td>\n",
              "    </tr>\n",
              "    <tr>\n",
              "      <th>3</th>\n",
              "      <td>ProductCD_S</td>\n",
              "      <td>float64</td>\n",
              "      <td>0</td>\n",
              "      <td>0.0</td>\n",
              "      <td>2</td>\n",
              "      <td>0.0</td>\n",
              "      <td>0.0</td>\n",
              "      <td>0.0</td>\n",
              "    </tr>\n",
              "    <tr>\n",
              "      <th>4</th>\n",
              "      <td>ProductCD_W</td>\n",
              "      <td>float64</td>\n",
              "      <td>0</td>\n",
              "      <td>0.0</td>\n",
              "      <td>2</td>\n",
              "      <td>1.0</td>\n",
              "      <td>1.0</td>\n",
              "      <td>1.0</td>\n",
              "    </tr>\n",
              "    <tr>\n",
              "      <th>...</th>\n",
              "      <td>...</td>\n",
              "      <td>...</td>\n",
              "      <td>...</td>\n",
              "      <td>...</td>\n",
              "      <td>...</td>\n",
              "      <td>...</td>\n",
              "      <td>...</td>\n",
              "      <td>...</td>\n",
              "    </tr>\n",
              "    <tr>\n",
              "      <th>84</th>\n",
              "      <td>DeviceInfo_MacOS</td>\n",
              "      <td>float64</td>\n",
              "      <td>0</td>\n",
              "      <td>0.0</td>\n",
              "      <td>2</td>\n",
              "      <td>0.0</td>\n",
              "      <td>0.0</td>\n",
              "      <td>0.0</td>\n",
              "    </tr>\n",
              "    <tr>\n",
              "      <th>85</th>\n",
              "      <td>DeviceInfo_Others</td>\n",
              "      <td>float64</td>\n",
              "      <td>0</td>\n",
              "      <td>0.0</td>\n",
              "      <td>2</td>\n",
              "      <td>1.0</td>\n",
              "      <td>0.0</td>\n",
              "      <td>0.0</td>\n",
              "    </tr>\n",
              "    <tr>\n",
              "      <th>86</th>\n",
              "      <td>DeviceInfo_Trident/7.0</td>\n",
              "      <td>float64</td>\n",
              "      <td>0</td>\n",
              "      <td>0.0</td>\n",
              "      <td>2</td>\n",
              "      <td>0.0</td>\n",
              "      <td>0.0</td>\n",
              "      <td>0.0</td>\n",
              "    </tr>\n",
              "    <tr>\n",
              "      <th>87</th>\n",
              "      <td>DeviceInfo_Windows</td>\n",
              "      <td>float64</td>\n",
              "      <td>0</td>\n",
              "      <td>0.0</td>\n",
              "      <td>2</td>\n",
              "      <td>0.0</td>\n",
              "      <td>0.0</td>\n",
              "      <td>1.0</td>\n",
              "    </tr>\n",
              "    <tr>\n",
              "      <th>88</th>\n",
              "      <td>DeviceInfo_iOS Device</td>\n",
              "      <td>float64</td>\n",
              "      <td>0</td>\n",
              "      <td>0.0</td>\n",
              "      <td>2</td>\n",
              "      <td>0.0</td>\n",
              "      <td>1.0</td>\n",
              "      <td>0.0</td>\n",
              "    </tr>\n",
              "  </tbody>\n",
              "</table>\n",
              "<p>89 rows × 8 columns</p>\n",
              "</div>"
            ],
            "text/plain": [
              "                      Name   dtypes  ...  Second Value  Third Value\n",
              "0              ProductCD_C  float64  ...           0.0          0.0\n",
              "1              ProductCD_H  float64  ...           0.0          0.0\n",
              "2              ProductCD_R  float64  ...           0.0          0.0\n",
              "3              ProductCD_S  float64  ...           0.0          0.0\n",
              "4              ProductCD_W  float64  ...           1.0          1.0\n",
              "..                     ...      ...  ...           ...          ...\n",
              "84        DeviceInfo_MacOS  float64  ...           0.0          0.0\n",
              "85       DeviceInfo_Others  float64  ...           0.0          0.0\n",
              "86  DeviceInfo_Trident/7.0  float64  ...           0.0          0.0\n",
              "87      DeviceInfo_Windows  float64  ...           0.0          1.0\n",
              "88   DeviceInfo_iOS Device  float64  ...           1.0          0.0\n",
              "\n",
              "[89 rows x 8 columns]"
            ]
          },
          "metadata": {
            "tags": []
          },
          "execution_count": 12
        }
      ]
    },
    {
      "cell_type": "code",
      "metadata": {
        "colab_type": "code",
        "id": "k8dTach-Ip1L",
        "colab": {}
      },
      "source": [
        "df_train.drop(categorical_features_v2, axis =1, inplace = True) # suppression des colonnes qui ont subit le one-hot encoding\n",
        "df_test.drop(categorical_features_v2, axis =1, inplace = True) # suppression des colonnes qui ont subit le one-hot encoding\n",
        "df_train = pd.concat([df_train, merged_train_test[0:len(df_train)]], axis = 1, ignore_index=False) # on ajoute le resultat du one hot a notre dataframe df_train\n",
        "df_test = pd.concat([df_test, merged_train_test[len(df_train):].reset_index(drop= True)], axis = 1, ignore_index=False) # on ajoute le resultat du one hot a notre dataframe df_test\n"
      ],
      "execution_count": 0,
      "outputs": []
    },
    {
      "cell_type": "code",
      "metadata": {
        "colab_type": "code",
        "id": "A67fjwtYIHJk",
        "outputId": "a5be07b9-7911-4592-e2ed-1bff311beace",
        "colab": {
          "base_uri": "https://localhost:8080/",
          "height": 53
        }
      },
      "source": [
        "print(df_train.shape)\n",
        "print(df_test.shape)"
      ],
      "execution_count": 14,
      "outputs": [
        {
          "output_type": "stream",
          "text": [
            "(590540, 492)\n",
            "(506691, 491)\n"
          ],
          "name": "stdout"
        }
      ]
    },
    {
      "cell_type": "code",
      "metadata": {
        "colab_type": "code",
        "id": "1jFa_DfG8VK3",
        "outputId": "b709d04e-5ada-4ecd-83d5-6730e52f954d",
        "colab": {
          "base_uri": "https://localhost:8080/",
          "height": 53
        }
      },
      "source": [
        "df_train=reduce_mem_usage(df_train, verbose=True, object_tranform = False)\n",
        "df_test=reduce_mem_usage(df_test, verbose=True, object_tranform = False)"
      ],
      "execution_count": 15,
      "outputs": [
        {
          "output_type": "stream",
          "text": [
            "Mem. usage decreased to 601.48 Mb (35.9% reduction)\n",
            "Mem. usage decreased to 523.33 Mb (35.6% reduction)\n"
          ],
          "name": "stdout"
        }
      ]
    },
    {
      "cell_type": "markdown",
      "metadata": {
        "id": "BWtR3gg1EKyK",
        "colab_type": "text"
      },
      "source": [
        "#### **V-features:**"
      ]
    },
    {
      "cell_type": "code",
      "metadata": {
        "id": "lka8PhJ6EKU-",
        "colab_type": "code",
        "outputId": "889ed1d0-39be-4678-a024-9cbe91d0afd7",
        "colab": {
          "base_uri": "https://localhost:8080/",
          "height": 35
        }
      },
      "source": [
        "vfeatures = []\n",
        "for i in df_train.columns:\n",
        "    if 'V' in i:\n",
        "        vfeatures.append(i)\n",
        "len(vfeatures)"
      ],
      "execution_count": 16,
      "outputs": [
        {
          "output_type": "execute_result",
          "data": {
            "text/plain": [
              "339"
            ]
          },
          "metadata": {
            "tags": []
          },
          "execution_count": 16
        }
      ]
    },
    {
      "cell_type": "code",
      "metadata": {
        "id": "B-xewAa9EWrf",
        "colab_type": "code",
        "outputId": "0d07334c-3907-4b74-a4ed-b145e9207e3c",
        "colab": {
          "base_uri": "https://localhost:8080/",
          "height": 55
        }
      },
      "source": [
        "print(vfeatures)"
      ],
      "execution_count": 17,
      "outputs": [
        {
          "output_type": "stream",
          "text": [
            "['V1', 'V2', 'V3', 'V4', 'V5', 'V6', 'V7', 'V8', 'V9', 'V10', 'V11', 'V12', 'V13', 'V14', 'V15', 'V16', 'V17', 'V18', 'V19', 'V20', 'V21', 'V22', 'V23', 'V24', 'V25', 'V26', 'V27', 'V28', 'V29', 'V30', 'V31', 'V32', 'V33', 'V34', 'V35', 'V36', 'V37', 'V38', 'V39', 'V40', 'V41', 'V42', 'V43', 'V44', 'V45', 'V46', 'V47', 'V48', 'V49', 'V50', 'V51', 'V52', 'V53', 'V54', 'V55', 'V56', 'V57', 'V58', 'V59', 'V60', 'V61', 'V62', 'V63', 'V64', 'V65', 'V66', 'V67', 'V68', 'V69', 'V70', 'V71', 'V72', 'V73', 'V74', 'V75', 'V76', 'V77', 'V78', 'V79', 'V80', 'V81', 'V82', 'V83', 'V84', 'V85', 'V86', 'V87', 'V88', 'V89', 'V90', 'V91', 'V92', 'V93', 'V94', 'V95', 'V96', 'V97', 'V98', 'V99', 'V100', 'V101', 'V102', 'V103', 'V104', 'V105', 'V106', 'V107', 'V108', 'V109', 'V110', 'V111', 'V112', 'V113', 'V114', 'V115', 'V116', 'V117', 'V118', 'V119', 'V120', 'V121', 'V122', 'V123', 'V124', 'V125', 'V126', 'V127', 'V128', 'V129', 'V130', 'V131', 'V132', 'V133', 'V134', 'V135', 'V136', 'V137', 'V138', 'V139', 'V140', 'V141', 'V142', 'V143', 'V144', 'V145', 'V146', 'V147', 'V148', 'V149', 'V150', 'V151', 'V152', 'V153', 'V154', 'V155', 'V156', 'V157', 'V158', 'V159', 'V160', 'V161', 'V162', 'V163', 'V164', 'V165', 'V166', 'V167', 'V168', 'V169', 'V170', 'V171', 'V172', 'V173', 'V174', 'V175', 'V176', 'V177', 'V178', 'V179', 'V180', 'V181', 'V182', 'V183', 'V184', 'V185', 'V186', 'V187', 'V188', 'V189', 'V190', 'V191', 'V192', 'V193', 'V194', 'V195', 'V196', 'V197', 'V198', 'V199', 'V200', 'V201', 'V202', 'V203', 'V204', 'V205', 'V206', 'V207', 'V208', 'V209', 'V210', 'V211', 'V212', 'V213', 'V214', 'V215', 'V216', 'V217', 'V218', 'V219', 'V220', 'V221', 'V222', 'V223', 'V224', 'V225', 'V226', 'V227', 'V228', 'V229', 'V230', 'V231', 'V232', 'V233', 'V234', 'V235', 'V236', 'V237', 'V238', 'V239', 'V240', 'V241', 'V242', 'V243', 'V244', 'V245', 'V246', 'V247', 'V248', 'V249', 'V250', 'V251', 'V252', 'V253', 'V254', 'V255', 'V256', 'V257', 'V258', 'V259', 'V260', 'V261', 'V262', 'V263', 'V264', 'V265', 'V266', 'V267', 'V268', 'V269', 'V270', 'V271', 'V272', 'V273', 'V274', 'V275', 'V276', 'V277', 'V278', 'V279', 'V280', 'V281', 'V282', 'V283', 'V284', 'V285', 'V286', 'V287', 'V288', 'V289', 'V290', 'V291', 'V292', 'V293', 'V294', 'V295', 'V296', 'V297', 'V298', 'V299', 'V300', 'V301', 'V302', 'V303', 'V304', 'V305', 'V306', 'V307', 'V308', 'V309', 'V310', 'V311', 'V312', 'V313', 'V314', 'V315', 'V316', 'V317', 'V318', 'V319', 'V320', 'V321', 'V322', 'V323', 'V324', 'V325', 'V326', 'V327', 'V328', 'V329', 'V330', 'V331', 'V332', 'V333', 'V334', 'V335', 'V336', 'V337', 'V338', 'V339']\n"
          ],
          "name": "stdout"
        }
      ]
    },
    {
      "cell_type": "markdown",
      "metadata": {
        "id": "nMmWSVdZ-rcO",
        "colab_type": "text"
      },
      "source": [
        "#### **PCA V-features :**"
      ]
    },
    {
      "cell_type": "code",
      "metadata": {
        "id": "WS6lEnN8Rg6r",
        "colab_type": "code",
        "colab": {}
      },
      "source": [
        "def PCA_change(df, cols, n_components, prefix='PCA_', rand_seed=10):\n",
        "    pca = PCA(n_components=n_components, random_state=rand_seed)\n",
        "    principalComponents = pca.fit_transform(df[cols])\n",
        "    principalDf = pd.DataFrame(principalComponents)\n",
        "    plt.plot(np.cumsum(pca.explained_variance_ratio_))\n",
        "    plt.xlabel('number of components')\n",
        "    plt.ylabel('cumulative explained variance')\n",
        "    df.drop(cols, axis=1, inplace=True)\n",
        "    principalDf.rename(columns=lambda x: str(prefix)+str(x), inplace=True)\n",
        "    df = pd.concat([df, principalDf], axis=1)\n",
        "    \n",
        "    return df"
      ],
      "execution_count": 0,
      "outputs": []
    },
    {
      "cell_type": "code",
      "metadata": {
        "id": "ro8h8BsLR7lB",
        "colab_type": "code",
        "colab": {}
      },
      "source": [
        "from sklearn.preprocessing import minmax_scale\n",
        "from sklearn.decomposition import PCA\n"
      ],
      "execution_count": 0,
      "outputs": []
    },
    {
      "cell_type": "code",
      "metadata": {
        "id": "igNd72Yd6pDH",
        "colab_type": "code",
        "outputId": "7a103ea9-993e-4fd5-8054-44f236fe3d47",
        "colab": {
          "base_uri": "https://localhost:8080/",
          "height": 486
        }
      },
      "source": [
        "merged_train_test = pd.concat([df_train[vfeatures], df_test[vfeatures]], axis =0, ignore_index=True) #création d'un seul dataframe pour simplifier le one-hot\n",
        "for col in vfeatures:\n",
        "    merged_train_test[col] = (minmax_scale(merged_train_test[col], feature_range=(0,1)))\n",
        "\n",
        "merged_train_test = PCA_change(merged_train_test, vfeatures, prefix='PCA_V_', n_components=30)\n",
        "merged_train_test.head()"
      ],
      "execution_count": 20,
      "outputs": [
        {
          "output_type": "execute_result",
          "data": {
            "text/html": [
              "<div>\n",
              "<style scoped>\n",
              "    .dataframe tbody tr th:only-of-type {\n",
              "        vertical-align: middle;\n",
              "    }\n",
              "\n",
              "    .dataframe tbody tr th {\n",
              "        vertical-align: top;\n",
              "    }\n",
              "\n",
              "    .dataframe thead th {\n",
              "        text-align: right;\n",
              "    }\n",
              "</style>\n",
              "<table border=\"1\" class=\"dataframe\">\n",
              "  <thead>\n",
              "    <tr style=\"text-align: right;\">\n",
              "      <th></th>\n",
              "      <th>PCA_V_0</th>\n",
              "      <th>PCA_V_1</th>\n",
              "      <th>PCA_V_2</th>\n",
              "      <th>PCA_V_3</th>\n",
              "      <th>PCA_V_4</th>\n",
              "      <th>PCA_V_5</th>\n",
              "      <th>PCA_V_6</th>\n",
              "      <th>PCA_V_7</th>\n",
              "      <th>PCA_V_8</th>\n",
              "      <th>PCA_V_9</th>\n",
              "      <th>PCA_V_10</th>\n",
              "      <th>PCA_V_11</th>\n",
              "      <th>PCA_V_12</th>\n",
              "      <th>PCA_V_13</th>\n",
              "      <th>PCA_V_14</th>\n",
              "      <th>PCA_V_15</th>\n",
              "      <th>PCA_V_16</th>\n",
              "      <th>PCA_V_17</th>\n",
              "      <th>PCA_V_18</th>\n",
              "      <th>PCA_V_19</th>\n",
              "      <th>PCA_V_20</th>\n",
              "      <th>PCA_V_21</th>\n",
              "      <th>PCA_V_22</th>\n",
              "      <th>PCA_V_23</th>\n",
              "      <th>PCA_V_24</th>\n",
              "      <th>PCA_V_25</th>\n",
              "      <th>PCA_V_26</th>\n",
              "      <th>PCA_V_27</th>\n",
              "      <th>PCA_V_28</th>\n",
              "      <th>PCA_V_29</th>\n",
              "    </tr>\n",
              "  </thead>\n",
              "  <tbody>\n",
              "    <tr>\n",
              "      <th>0</th>\n",
              "      <td>-0.153477</td>\n",
              "      <td>-0.234965</td>\n",
              "      <td>-0.087372</td>\n",
              "      <td>-0.004832</td>\n",
              "      <td>0.056986</td>\n",
              "      <td>-0.058954</td>\n",
              "      <td>-0.006371</td>\n",
              "      <td>-0.044854</td>\n",
              "      <td>0.006245</td>\n",
              "      <td>-0.037562</td>\n",
              "      <td>-0.006179</td>\n",
              "      <td>-0.039167</td>\n",
              "      <td>-0.008556</td>\n",
              "      <td>0.000418</td>\n",
              "      <td>-0.035123</td>\n",
              "      <td>-0.025491</td>\n",
              "      <td>0.099918</td>\n",
              "      <td>-0.000949</td>\n",
              "      <td>0.017832</td>\n",
              "      <td>0.044673</td>\n",
              "      <td>0.026768</td>\n",
              "      <td>0.004023</td>\n",
              "      <td>0.010879</td>\n",
              "      <td>0.021593</td>\n",
              "      <td>0.031913</td>\n",
              "      <td>-0.006193</td>\n",
              "      <td>0.007768</td>\n",
              "      <td>0.016069</td>\n",
              "      <td>-0.026891</td>\n",
              "      <td>-0.025466</td>\n",
              "    </tr>\n",
              "    <tr>\n",
              "      <th>1</th>\n",
              "      <td>0.164787</td>\n",
              "      <td>-0.014400</td>\n",
              "      <td>0.027499</td>\n",
              "      <td>-0.334006</td>\n",
              "      <td>-0.108994</td>\n",
              "      <td>-0.023342</td>\n",
              "      <td>0.089121</td>\n",
              "      <td>-0.004151</td>\n",
              "      <td>-0.035853</td>\n",
              "      <td>-0.002951</td>\n",
              "      <td>-0.001366</td>\n",
              "      <td>0.046187</td>\n",
              "      <td>0.015678</td>\n",
              "      <td>-0.017441</td>\n",
              "      <td>-0.005605</td>\n",
              "      <td>-0.001102</td>\n",
              "      <td>0.020608</td>\n",
              "      <td>-0.007255</td>\n",
              "      <td>-0.007409</td>\n",
              "      <td>0.001689</td>\n",
              "      <td>-0.002543</td>\n",
              "      <td>0.002222</td>\n",
              "      <td>0.005758</td>\n",
              "      <td>0.009135</td>\n",
              "      <td>-0.016805</td>\n",
              "      <td>-0.004565</td>\n",
              "      <td>-0.000264</td>\n",
              "      <td>-0.001551</td>\n",
              "      <td>0.000943</td>\n",
              "      <td>-0.008022</td>\n",
              "    </tr>\n",
              "    <tr>\n",
              "      <th>2</th>\n",
              "      <td>-0.145220</td>\n",
              "      <td>-0.236204</td>\n",
              "      <td>-0.085772</td>\n",
              "      <td>0.016137</td>\n",
              "      <td>-0.046415</td>\n",
              "      <td>-0.005279</td>\n",
              "      <td>-0.014030</td>\n",
              "      <td>0.006788</td>\n",
              "      <td>-0.028609</td>\n",
              "      <td>-0.035786</td>\n",
              "      <td>-0.005683</td>\n",
              "      <td>-0.007171</td>\n",
              "      <td>0.001615</td>\n",
              "      <td>-0.015473</td>\n",
              "      <td>-0.002529</td>\n",
              "      <td>-0.001181</td>\n",
              "      <td>0.003105</td>\n",
              "      <td>-0.002174</td>\n",
              "      <td>-0.005238</td>\n",
              "      <td>-0.003257</td>\n",
              "      <td>0.002928</td>\n",
              "      <td>0.005600</td>\n",
              "      <td>0.003248</td>\n",
              "      <td>0.010721</td>\n",
              "      <td>0.003295</td>\n",
              "      <td>0.001209</td>\n",
              "      <td>-0.005682</td>\n",
              "      <td>-0.000765</td>\n",
              "      <td>0.010495</td>\n",
              "      <td>-0.008472</td>\n",
              "    </tr>\n",
              "    <tr>\n",
              "      <th>3</th>\n",
              "      <td>-0.148197</td>\n",
              "      <td>-0.243113</td>\n",
              "      <td>-0.090288</td>\n",
              "      <td>0.008653</td>\n",
              "      <td>-0.012343</td>\n",
              "      <td>0.077776</td>\n",
              "      <td>0.029918</td>\n",
              "      <td>-0.005872</td>\n",
              "      <td>0.002053</td>\n",
              "      <td>0.014049</td>\n",
              "      <td>-0.018579</td>\n",
              "      <td>0.000329</td>\n",
              "      <td>-0.088947</td>\n",
              "      <td>0.084000</td>\n",
              "      <td>0.106655</td>\n",
              "      <td>-0.060851</td>\n",
              "      <td>-0.007296</td>\n",
              "      <td>-0.020695</td>\n",
              "      <td>-0.010788</td>\n",
              "      <td>-0.017413</td>\n",
              "      <td>0.005133</td>\n",
              "      <td>0.033610</td>\n",
              "      <td>-0.007034</td>\n",
              "      <td>-0.012341</td>\n",
              "      <td>0.019809</td>\n",
              "      <td>0.033971</td>\n",
              "      <td>0.057537</td>\n",
              "      <td>-0.001686</td>\n",
              "      <td>0.006050</td>\n",
              "      <td>-0.009605</td>\n",
              "    </tr>\n",
              "    <tr>\n",
              "      <th>4</th>\n",
              "      <td>-0.099110</td>\n",
              "      <td>-0.598494</td>\n",
              "      <td>1.275604</td>\n",
              "      <td>0.289744</td>\n",
              "      <td>0.001767</td>\n",
              "      <td>-0.058603</td>\n",
              "      <td>0.070346</td>\n",
              "      <td>0.016769</td>\n",
              "      <td>-0.019807</td>\n",
              "      <td>-0.014905</td>\n",
              "      <td>-0.015026</td>\n",
              "      <td>-0.012464</td>\n",
              "      <td>0.006872</td>\n",
              "      <td>-0.006201</td>\n",
              "      <td>0.003117</td>\n",
              "      <td>-0.030022</td>\n",
              "      <td>-0.005065</td>\n",
              "      <td>0.016783</td>\n",
              "      <td>0.009546</td>\n",
              "      <td>-0.048355</td>\n",
              "      <td>0.014582</td>\n",
              "      <td>-0.115095</td>\n",
              "      <td>-0.034562</td>\n",
              "      <td>0.002965</td>\n",
              "      <td>0.053289</td>\n",
              "      <td>0.001489</td>\n",
              "      <td>0.036398</td>\n",
              "      <td>0.018091</td>\n",
              "      <td>-0.060369</td>\n",
              "      <td>0.055510</td>\n",
              "    </tr>\n",
              "  </tbody>\n",
              "</table>\n",
              "</div>"
            ],
            "text/plain": [
              "    PCA_V_0   PCA_V_1   PCA_V_2  ...  PCA_V_27  PCA_V_28  PCA_V_29\n",
              "0 -0.153477 -0.234965 -0.087372  ...  0.016069 -0.026891 -0.025466\n",
              "1  0.164787 -0.014400  0.027499  ... -0.001551  0.000943 -0.008022\n",
              "2 -0.145220 -0.236204 -0.085772  ... -0.000765  0.010495 -0.008472\n",
              "3 -0.148197 -0.243113 -0.090288  ... -0.001686  0.006050 -0.009605\n",
              "4 -0.099110 -0.598494  1.275604  ...  0.018091 -0.060369  0.055510\n",
              "\n",
              "[5 rows x 30 columns]"
            ]
          },
          "metadata": {
            "tags": []
          },
          "execution_count": 20
        },
        {
          "output_type": "display_data",
          "data": {
            "image/png": "[encoded data removed]",
            "text/plain": [
              "<Figure size 432x288 with 1 Axes>"
            ]
          },
          "metadata": {
            "tags": []
          }
        }
      ]
    },
    {
      "cell_type": "code",
      "metadata": {
        "id": "BT6RM8zyomni",
        "colab_type": "code",
        "colab": {}
      },
      "source": [
        "df_train.drop(vfeatures, axis = 1, inplace =True)\n",
        "df_test.drop(vfeatures, axis = 1, inplace =True)\n",
        "\n",
        "df_train = pd.concat([df_train, merged_train_test[0:len(df_train)]], axis = 1)\n",
        "df_test = pd.concat([df_test, merged_train_test[len(df_train):].reset_index(drop= True)], axis = 1)"
      ],
      "execution_count": 0,
      "outputs": []
    },
    {
      "cell_type": "code",
      "metadata": {
        "id": "_NK-OEMJ9nZC",
        "colab_type": "code",
        "outputId": "e8db9389-4011-4f12-f531-5402616a8d5c",
        "colab": {
          "base_uri": "https://localhost:8080/",
          "height": 35
        }
      },
      "source": [
        "del merged_train_test\n",
        "gc.collect()"
      ],
      "execution_count": 22,
      "outputs": [
        {
          "output_type": "execute_result",
          "data": {
            "text/plain": [
              "2486"
            ]
          },
          "metadata": {
            "tags": []
          },
          "execution_count": 22
        }
      ]
    },
    {
      "cell_type": "code",
      "metadata": {
        "id": "3y6ZlVeoovKM",
        "colab_type": "code",
        "outputId": "492c6f77-79bc-42dd-a7b6-5d476bdce5bf",
        "colab": {
          "base_uri": "https://localhost:8080/",
          "height": 35
        }
      },
      "source": [
        "df_test.shape"
      ],
      "execution_count": 23,
      "outputs": [
        {
          "output_type": "execute_result",
          "data": {
            "text/plain": [
              "(506691, 182)"
            ]
          },
          "metadata": {
            "tags": []
          },
          "execution_count": 23
        }
      ]
    },
    {
      "cell_type": "code",
      "metadata": {
        "id": "m1BLSVDeabjf",
        "colab_type": "code",
        "outputId": "56461304-4df7-46f5-e253-fee5fe2a112d",
        "colab": {
          "base_uri": "https://localhost:8080/",
          "height": 35
        }
      },
      "source": [
        "df_train.shape"
      ],
      "execution_count": 24,
      "outputs": [
        {
          "output_type": "execute_result",
          "data": {
            "text/plain": [
              "(590540, 183)"
            ]
          },
          "metadata": {
            "tags": []
          },
          "execution_count": 24
        }
      ]
    },
    {
      "cell_type": "markdown",
      "metadata": {
        "id": "TEDtLmBXYqX0",
        "colab_type": "text"
      },
      "source": [
        "## 2.1 Outlier removing"
      ]
    },
    {
      "cell_type": "code",
      "metadata": {
        "id": "MSlPr_-c_VYf",
        "colab_type": "code",
        "colab": {}
      },
      "source": [
        "TransactionAmt = df_train['TransactionAmt'].astype(np.float64)\n",
        "Trans_mean, Trans_std = TransactionAmt.mean(), TransactionAmt.std()\n",
        "lower_trans, upper_trans = Trans_mean - 3*Trans_std, Trans_mean+3*Trans_std"
      ],
      "execution_count": 0,
      "outputs": []
    },
    {
      "cell_type": "code",
      "metadata": {
        "id": "xl5i6GxX_mtX",
        "colab_type": "code",
        "colab": {}
      },
      "source": [
        "df_train = df_train[(TransactionAmt <upper_trans)& (TransactionAmt > lower_trans)]"
      ],
      "execution_count": 0,
      "outputs": []
    },
    {
      "cell_type": "code",
      "metadata": {
        "id": "HUGcngwcF3IN",
        "colab_type": "code",
        "colab": {}
      },
      "source": [
        "Y_train = df_train['isFraud']\n",
        "df_train.drop(['isFraud', 'TransactionID', 'TransactionDT'], axis = 1, inplace = True)"
      ],
      "execution_count": 0,
      "outputs": []
    },
    {
      "cell_type": "code",
      "metadata": {
        "id": "hEkoUAKMIXmk",
        "colab_type": "code",
        "colab": {}
      },
      "source": [
        "df_test.drop(['TransactionID', 'TransactionDT'], axis = 1, inplace = True)"
      ],
      "execution_count": 0,
      "outputs": []
    },
    {
      "cell_type": "code",
      "metadata": {
        "id": "9--Ujv5FHQtA",
        "colab_type": "code",
        "outputId": "25f7b64c-3acb-4374-ac1c-3ab4abbd911a",
        "colab": {
          "base_uri": "https://localhost:8080/",
          "height": 35
        }
      },
      "source": [
        "df_train.shape"
      ],
      "execution_count": 29,
      "outputs": [
        {
          "output_type": "execute_result",
          "data": {
            "text/plain": [
              "(585222, 180)"
            ]
          },
          "metadata": {
            "tags": []
          },
          "execution_count": 29
        }
      ]
    },
    {
      "cell_type": "markdown",
      "metadata": {
        "id": "I10px9jGFmQU",
        "colab_type": "text"
      },
      "source": [
        "## 2.2 Variance threshold"
      ]
    },
    {
      "cell_type": "code",
      "metadata": {
        "id": "k_lPOJdhFfxJ",
        "colab_type": "code",
        "outputId": "b400bf92-e1ce-4c09-910a-95a897eb97d0",
        "colab": {
          "base_uri": "https://localhost:8080/",
          "height": 53
        }
      },
      "source": [
        "%%time\n",
        "from sklearn.feature_selection import VarianceThreshold\n",
        "sel = VarianceThreshold(threshold=np.var(Y_train))\n",
        "\n",
        "sel.fit(df_train)"
      ],
      "execution_count": 30,
      "outputs": [
        {
          "output_type": "stream",
          "text": [
            "CPU times: user 6.66 s, sys: 1.06 s, total: 7.72 s\n",
            "Wall time: 7.77 s\n"
          ],
          "name": "stdout"
        }
      ]
    },
    {
      "cell_type": "code",
      "metadata": {
        "id": "LIeTvslXIgGH",
        "colab_type": "code",
        "colab": {}
      },
      "source": [
        "df_train = df_train.iloc[:, sel.get_support()]\n",
        "df_test = df_test.iloc[:, sel.get_support()]"
      ],
      "execution_count": 0,
      "outputs": []
    },
    {
      "cell_type": "code",
      "metadata": {
        "id": "EzsgUnB1GY95",
        "colab_type": "code",
        "outputId": "80fdd868-9d0d-4c4e-a34b-70528f832094",
        "colab": {
          "base_uri": "https://localhost:8080/",
          "height": 35
        }
      },
      "source": [
        "df_train.shape"
      ],
      "execution_count": 32,
      "outputs": [
        {
          "output_type": "execute_result",
          "data": {
            "text/plain": [
              "(585222, 123)"
            ]
          },
          "metadata": {
            "tags": []
          },
          "execution_count": 32
        }
      ]
    },
    {
      "cell_type": "markdown",
      "metadata": {
        "id": "QpQVXIFaGhkK",
        "colab_type": "text"
      },
      "source": [
        "## 2.3. Multicolinearity\n",
        "\n"
      ]
    },
    {
      "cell_type": "code",
      "metadata": {
        "id": "gBhCsAcRO5HJ",
        "colab_type": "code",
        "colab": {}
      },
      "source": [
        "from sklearn.linear_model import LinearRegression\n",
        "from statsmodels.regression.linear_model import OLS\n",
        "from statsmodels.tools.tools import add_constant"
      ],
      "execution_count": 0,
      "outputs": []
    },
    {
      "cell_type": "code",
      "metadata": {
        "id": "5WBQXlBXGgm0",
        "colab_type": "code",
        "colab": {}
      },
      "source": [
        "def variance_inflation_factors(exog_df):\n",
        "    '''\n",
        "    Parameters\n",
        "    ----------\n",
        "    exog_df : dataframe, (nobs, k_vars)\n",
        "        design matrix with all explanatory variables, as for example used in\n",
        "        regression.\n",
        "\n",
        "    Returns\n",
        "    -------\n",
        "    vif : Series\n",
        "        variance inflation factors\n",
        "    '''\n",
        "    lm = LinearRegression()\n",
        "    vifs = pd.Series(\n",
        "        [1 / (1. - lm.fit(exog_df.loc[:, exog_df.columns != col].values, exog_df[col].values).score(exog_df.loc[:, exog_df.columns != col].values, exog_df[col].values)) \n",
        "        for col in exog_df.columns],\n",
        "        index=exog_df.columns,\n",
        "        name='VIF'\n",
        "    )\n",
        "    return vifs"
      ],
      "execution_count": 0,
      "outputs": []
    },
    {
      "cell_type": "code",
      "metadata": {
        "id": "k1uVm3BnJSLy",
        "colab_type": "code",
        "colab": {}
      },
      "source": [
        "for col in df_train.columns:\n",
        "    if df_train[col].dtype == bool : \n",
        "        df_train[col] = df_train[col]*1\n",
        "        df_test[col] = df_test[col]*1"
      ],
      "execution_count": 0,
      "outputs": []
    },
    {
      "cell_type": "code",
      "metadata": {
        "id": "izLxXWQaIyan",
        "colab_type": "code",
        "outputId": "6411c44e-12a4-4300-a1e0-c01b66b1bd69",
        "colab": {
          "base_uri": "https://localhost:8080/",
          "height": 1000
        }
      },
      "source": [
        "%%time\n",
        "res = variance_inflation_factors(df_train)"
      ],
      "execution_count": 36,
      "outputs": [
        {
          "output_type": "stream",
          "text": [
            "/usr/local/lib/python3.6/dist-packages/sklearn/metrics/_regression.py:594: RuntimeWarning:\n",
            "\n",
            "overflow encountered in square\n",
            "\n",
            "/usr/local/lib/python3.6/dist-packages/numpy/lib/function_base.py:425: RuntimeWarning:\n",
            "\n",
            "invalid value encountered in double_scalars\n",
            "\n",
            "/usr/local/lib/python3.6/dist-packages/sklearn/metrics/_regression.py:594: RuntimeWarning:\n",
            "\n",
            "overflow encountered in square\n",
            "\n",
            "/usr/local/lib/python3.6/dist-packages/numpy/lib/function_base.py:425: RuntimeWarning:\n",
            "\n",
            "invalid value encountered in double_scalars\n",
            "\n",
            "/usr/local/lib/python3.6/dist-packages/sklearn/metrics/_regression.py:594: RuntimeWarning:\n",
            "\n",
            "overflow encountered in square\n",
            "\n",
            "/usr/local/lib/python3.6/dist-packages/numpy/lib/function_base.py:425: RuntimeWarning:\n",
            "\n",
            "invalid value encountered in double_scalars\n",
            "\n",
            "/usr/local/lib/python3.6/dist-packages/sklearn/metrics/_regression.py:594: RuntimeWarning:\n",
            "\n",
            "overflow encountered in square\n",
            "\n",
            "/usr/local/lib/python3.6/dist-packages/numpy/lib/function_base.py:425: RuntimeWarning:\n",
            "\n",
            "invalid value encountered in double_scalars\n",
            "\n",
            "/usr/local/lib/python3.6/dist-packages/sklearn/metrics/_regression.py:594: RuntimeWarning:\n",
            "\n",
            "overflow encountered in square\n",
            "\n",
            "/usr/local/lib/python3.6/dist-packages/numpy/lib/function_base.py:425: RuntimeWarning:\n",
            "\n",
            "invalid value encountered in double_scalars\n",
            "\n",
            "/usr/local/lib/python3.6/dist-packages/sklearn/metrics/_regression.py:594: RuntimeWarning:\n",
            "\n",
            "overflow encountered in square\n",
            "\n",
            "/usr/local/lib/python3.6/dist-packages/numpy/lib/function_base.py:425: RuntimeWarning:\n",
            "\n",
            "invalid value encountered in double_scalars\n",
            "\n",
            "/usr/local/lib/python3.6/dist-packages/sklearn/metrics/_regression.py:594: RuntimeWarning:\n",
            "\n",
            "overflow encountered in square\n",
            "\n",
            "/usr/local/lib/python3.6/dist-packages/numpy/lib/function_base.py:425: RuntimeWarning:\n",
            "\n",
            "invalid value encountered in double_scalars\n",
            "\n",
            "/usr/local/lib/python3.6/dist-packages/sklearn/metrics/_regression.py:594: RuntimeWarning:\n",
            "\n",
            "overflow encountered in square\n",
            "\n",
            "/usr/local/lib/python3.6/dist-packages/numpy/lib/function_base.py:425: RuntimeWarning:\n",
            "\n",
            "invalid value encountered in double_scalars\n",
            "\n",
            "/usr/local/lib/python3.6/dist-packages/sklearn/metrics/_regression.py:594: RuntimeWarning:\n",
            "\n",
            "overflow encountered in square\n",
            "\n",
            "/usr/local/lib/python3.6/dist-packages/numpy/lib/function_base.py:425: RuntimeWarning:\n",
            "\n",
            "invalid value encountered in double_scalars\n",
            "\n",
            "/usr/local/lib/python3.6/dist-packages/sklearn/metrics/_regression.py:594: RuntimeWarning:\n",
            "\n",
            "overflow encountered in square\n",
            "\n",
            "/usr/local/lib/python3.6/dist-packages/numpy/lib/function_base.py:425: RuntimeWarning:\n",
            "\n",
            "invalid value encountered in double_scalars\n",
            "\n",
            "/usr/local/lib/python3.6/dist-packages/sklearn/metrics/_regression.py:594: RuntimeWarning:\n",
            "\n",
            "overflow encountered in square\n",
            "\n",
            "/usr/local/lib/python3.6/dist-packages/numpy/lib/function_base.py:425: RuntimeWarning:\n",
            "\n",
            "invalid value encountered in double_scalars\n",
            "\n",
            "/usr/local/lib/python3.6/dist-packages/sklearn/metrics/_regression.py:594: RuntimeWarning:\n",
            "\n",
            "overflow encountered in square\n",
            "\n",
            "/usr/local/lib/python3.6/dist-packages/numpy/lib/function_base.py:425: RuntimeWarning:\n",
            "\n",
            "invalid value encountered in double_scalars\n",
            "\n",
            "/usr/local/lib/python3.6/dist-packages/sklearn/metrics/_regression.py:594: RuntimeWarning:\n",
            "\n",
            "overflow encountered in square\n",
            "\n",
            "/usr/local/lib/python3.6/dist-packages/numpy/lib/function_base.py:425: RuntimeWarning:\n",
            "\n",
            "invalid value encountered in double_scalars\n",
            "\n",
            "/usr/local/lib/python3.6/dist-packages/sklearn/metrics/_regression.py:594: RuntimeWarning:\n",
            "\n",
            "overflow encountered in square\n",
            "\n",
            "/usr/local/lib/python3.6/dist-packages/numpy/lib/function_base.py:425: RuntimeWarning:\n",
            "\n",
            "invalid value encountered in double_scalars\n",
            "\n",
            "/usr/local/lib/python3.6/dist-packages/sklearn/metrics/_regression.py:594: RuntimeWarning:\n",
            "\n",
            "overflow encountered in square\n",
            "\n",
            "/usr/local/lib/python3.6/dist-packages/numpy/lib/function_base.py:425: RuntimeWarning:\n",
            "\n",
            "invalid value encountered in double_scalars\n",
            "\n",
            "/usr/local/lib/python3.6/dist-packages/sklearn/metrics/_regression.py:594: RuntimeWarning:\n",
            "\n",
            "overflow encountered in square\n",
            "\n",
            "/usr/local/lib/python3.6/dist-packages/numpy/lib/function_base.py:425: RuntimeWarning:\n",
            "\n",
            "invalid value encountered in double_scalars\n",
            "\n",
            "/usr/local/lib/python3.6/dist-packages/sklearn/metrics/_regression.py:594: RuntimeWarning:\n",
            "\n",
            "overflow encountered in square\n",
            "\n",
            "/usr/local/lib/python3.6/dist-packages/numpy/lib/function_base.py:425: RuntimeWarning:\n",
            "\n",
            "invalid value encountered in double_scalars\n",
            "\n",
            "/usr/local/lib/python3.6/dist-packages/sklearn/metrics/_regression.py:594: RuntimeWarning:\n",
            "\n",
            "overflow encountered in square\n",
            "\n",
            "/usr/local/lib/python3.6/dist-packages/numpy/lib/function_base.py:425: RuntimeWarning:\n",
            "\n",
            "invalid value encountered in double_scalars\n",
            "\n",
            "/usr/local/lib/python3.6/dist-packages/sklearn/metrics/_regression.py:594: RuntimeWarning:\n",
            "\n",
            "overflow encountered in square\n",
            "\n",
            "/usr/local/lib/python3.6/dist-packages/numpy/lib/function_base.py:425: RuntimeWarning:\n",
            "\n",
            "invalid value encountered in double_scalars\n",
            "\n",
            "/usr/local/lib/python3.6/dist-packages/sklearn/metrics/_regression.py:594: RuntimeWarning:\n",
            "\n",
            "overflow encountered in square\n",
            "\n",
            "/usr/local/lib/python3.6/dist-packages/numpy/lib/function_base.py:425: RuntimeWarning:\n",
            "\n",
            "invalid value encountered in double_scalars\n",
            "\n",
            "/usr/local/lib/python3.6/dist-packages/sklearn/metrics/_regression.py:594: RuntimeWarning:\n",
            "\n",
            "overflow encountered in square\n",
            "\n",
            "/usr/local/lib/python3.6/dist-packages/numpy/lib/function_base.py:425: RuntimeWarning:\n",
            "\n",
            "invalid value encountered in double_scalars\n",
            "\n",
            "/usr/local/lib/python3.6/dist-packages/sklearn/metrics/_regression.py:594: RuntimeWarning:\n",
            "\n",
            "overflow encountered in square\n",
            "\n",
            "/usr/local/lib/python3.6/dist-packages/numpy/lib/function_base.py:425: RuntimeWarning:\n",
            "\n",
            "invalid value encountered in double_scalars\n",
            "\n",
            "/usr/local/lib/python3.6/dist-packages/sklearn/metrics/_regression.py:594: RuntimeWarning:\n",
            "\n",
            "overflow encountered in square\n",
            "\n",
            "/usr/local/lib/python3.6/dist-packages/numpy/lib/function_base.py:425: RuntimeWarning:\n",
            "\n",
            "invalid value encountered in double_scalars\n",
            "\n",
            "/usr/local/lib/python3.6/dist-packages/sklearn/metrics/_regression.py:594: RuntimeWarning:\n",
            "\n",
            "overflow encountered in square\n",
            "\n",
            "/usr/local/lib/python3.6/dist-packages/numpy/lib/function_base.py:425: RuntimeWarning:\n",
            "\n",
            "invalid value encountered in double_scalars\n",
            "\n",
            "/usr/local/lib/python3.6/dist-packages/sklearn/metrics/_regression.py:594: RuntimeWarning:\n",
            "\n",
            "overflow encountered in square\n",
            "\n",
            "/usr/local/lib/python3.6/dist-packages/numpy/lib/function_base.py:425: RuntimeWarning:\n",
            "\n",
            "invalid value encountered in double_scalars\n",
            "\n",
            "/usr/local/lib/python3.6/dist-packages/sklearn/metrics/_regression.py:594: RuntimeWarning:\n",
            "\n",
            "overflow encountered in square\n",
            "\n",
            "/usr/local/lib/python3.6/dist-packages/numpy/lib/function_base.py:425: RuntimeWarning:\n",
            "\n",
            "invalid value encountered in double_scalars\n",
            "\n",
            "/usr/local/lib/python3.6/dist-packages/sklearn/metrics/_regression.py:594: RuntimeWarning:\n",
            "\n",
            "overflow encountered in square\n",
            "\n",
            "/usr/local/lib/python3.6/dist-packages/numpy/lib/function_base.py:425: RuntimeWarning:\n",
            "\n",
            "invalid value encountered in double_scalars\n",
            "\n",
            "/usr/local/lib/python3.6/dist-packages/sklearn/metrics/_regression.py:594: RuntimeWarning:\n",
            "\n",
            "overflow encountered in square\n",
            "\n",
            "/usr/local/lib/python3.6/dist-packages/numpy/lib/function_base.py:425: RuntimeWarning:\n",
            "\n",
            "invalid value encountered in double_scalars\n",
            "\n",
            "/usr/local/lib/python3.6/dist-packages/sklearn/metrics/_regression.py:594: RuntimeWarning:\n",
            "\n",
            "overflow encountered in square\n",
            "\n",
            "/usr/local/lib/python3.6/dist-packages/numpy/lib/function_base.py:425: RuntimeWarning:\n",
            "\n",
            "invalid value encountered in double_scalars\n",
            "\n",
            "/usr/local/lib/python3.6/dist-packages/ipykernel_launcher.py:17: RuntimeWarning:\n",
            "\n",
            "divide by zero encountered in double_scalars\n",
            "\n",
            "/usr/local/lib/python3.6/dist-packages/ipykernel_launcher.py:17: RuntimeWarning:\n",
            "\n",
            "divide by zero encountered in double_scalars\n",
            "\n",
            "/usr/local/lib/python3.6/dist-packages/ipykernel_launcher.py:17: RuntimeWarning:\n",
            "\n",
            "divide by zero encountered in double_scalars\n",
            "\n",
            "/usr/local/lib/python3.6/dist-packages/ipykernel_launcher.py:17: RuntimeWarning:\n",
            "\n",
            "divide by zero encountered in double_scalars\n",
            "\n",
            "/usr/local/lib/python3.6/dist-packages/ipykernel_launcher.py:17: RuntimeWarning:\n",
            "\n",
            "divide by zero encountered in double_scalars\n",
            "\n",
            "/usr/local/lib/python3.6/dist-packages/ipykernel_launcher.py:17: RuntimeWarning:\n",
            "\n",
            "divide by zero encountered in double_scalars\n",
            "\n",
            "/usr/local/lib/python3.6/dist-packages/ipykernel_launcher.py:17: RuntimeWarning:\n",
            "\n",
            "divide by zero encountered in double_scalars\n",
            "\n",
            "/usr/local/lib/python3.6/dist-packages/ipykernel_launcher.py:17: RuntimeWarning:\n",
            "\n",
            "divide by zero encountered in double_scalars\n",
            "\n",
            "/usr/local/lib/python3.6/dist-packages/ipykernel_launcher.py:17: RuntimeWarning:\n",
            "\n",
            "divide by zero encountered in double_scalars\n",
            "\n",
            "/usr/local/lib/python3.6/dist-packages/ipykernel_launcher.py:17: RuntimeWarning:\n",
            "\n",
            "divide by zero encountered in double_scalars\n",
            "\n",
            "/usr/local/lib/python3.6/dist-packages/ipykernel_launcher.py:17: RuntimeWarning:\n",
            "\n",
            "divide by zero encountered in double_scalars\n",
            "\n",
            "/usr/local/lib/python3.6/dist-packages/ipykernel_launcher.py:17: RuntimeWarning:\n",
            "\n",
            "divide by zero encountered in double_scalars\n",
            "\n",
            "/usr/local/lib/python3.6/dist-packages/ipykernel_launcher.py:17: RuntimeWarning:\n",
            "\n",
            "divide by zero encountered in double_scalars\n",
            "\n",
            "/usr/local/lib/python3.6/dist-packages/ipykernel_launcher.py:17: RuntimeWarning:\n",
            "\n",
            "divide by zero encountered in double_scalars\n",
            "\n",
            "/usr/local/lib/python3.6/dist-packages/ipykernel_launcher.py:17: RuntimeWarning:\n",
            "\n",
            "divide by zero encountered in double_scalars\n",
            "\n",
            "/usr/local/lib/python3.6/dist-packages/ipykernel_launcher.py:17: RuntimeWarning:\n",
            "\n",
            "divide by zero encountered in double_scalars\n",
            "\n",
            "/usr/local/lib/python3.6/dist-packages/ipykernel_launcher.py:17: RuntimeWarning:\n",
            "\n",
            "divide by zero encountered in double_scalars\n",
            "\n",
            "/usr/local/lib/python3.6/dist-packages/ipykernel_launcher.py:17: RuntimeWarning:\n",
            "\n",
            "divide by zero encountered in double_scalars\n",
            "\n",
            "/usr/local/lib/python3.6/dist-packages/ipykernel_launcher.py:17: RuntimeWarning:\n",
            "\n",
            "divide by zero encountered in double_scalars\n",
            "\n",
            "/usr/local/lib/python3.6/dist-packages/ipykernel_launcher.py:17: RuntimeWarning:\n",
            "\n",
            "divide by zero encountered in double_scalars\n",
            "\n",
            "/usr/local/lib/python3.6/dist-packages/ipykernel_launcher.py:17: RuntimeWarning:\n",
            "\n",
            "divide by zero encountered in double_scalars\n",
            "\n",
            "/usr/local/lib/python3.6/dist-packages/ipykernel_launcher.py:17: RuntimeWarning:\n",
            "\n",
            "divide by zero encountered in double_scalars\n",
            "\n",
            "/usr/local/lib/python3.6/dist-packages/ipykernel_launcher.py:17: RuntimeWarning:\n",
            "\n",
            "divide by zero encountered in double_scalars\n",
            "\n",
            "/usr/local/lib/python3.6/dist-packages/ipykernel_launcher.py:17: RuntimeWarning:\n",
            "\n",
            "divide by zero encountered in double_scalars\n",
            "\n",
            "/usr/local/lib/python3.6/dist-packages/ipykernel_launcher.py:17: RuntimeWarning:\n",
            "\n",
            "divide by zero encountered in double_scalars\n",
            "\n",
            "/usr/local/lib/python3.6/dist-packages/ipykernel_launcher.py:17: RuntimeWarning:\n",
            "\n",
            "divide by zero encountered in double_scalars\n",
            "\n",
            "/usr/local/lib/python3.6/dist-packages/ipykernel_launcher.py:17: RuntimeWarning:\n",
            "\n",
            "divide by zero encountered in double_scalars\n",
            "\n",
            "/usr/local/lib/python3.6/dist-packages/ipykernel_launcher.py:17: RuntimeWarning:\n",
            "\n",
            "divide by zero encountered in double_scalars\n",
            "\n",
            "/usr/local/lib/python3.6/dist-packages/ipykernel_launcher.py:17: RuntimeWarning:\n",
            "\n",
            "divide by zero encountered in double_scalars\n",
            "\n",
            "/usr/local/lib/python3.6/dist-packages/ipykernel_launcher.py:17: RuntimeWarning:\n",
            "\n",
            "divide by zero encountered in double_scalars\n",
            "\n",
            "/usr/local/lib/python3.6/dist-packages/ipykernel_launcher.py:17: RuntimeWarning:\n",
            "\n",
            "divide by zero encountered in double_scalars\n",
            "\n",
            "/usr/local/lib/python3.6/dist-packages/ipykernel_launcher.py:17: RuntimeWarning:\n",
            "\n",
            "divide by zero encountered in double_scalars\n",
            "\n",
            "/usr/local/lib/python3.6/dist-packages/ipykernel_launcher.py:17: RuntimeWarning:\n",
            "\n",
            "divide by zero encountered in double_scalars\n",
            "\n",
            "/usr/local/lib/python3.6/dist-packages/ipykernel_launcher.py:17: RuntimeWarning:\n",
            "\n",
            "divide by zero encountered in double_scalars\n",
            "\n",
            "/usr/local/lib/python3.6/dist-packages/ipykernel_launcher.py:17: RuntimeWarning:\n",
            "\n",
            "divide by zero encountered in double_scalars\n",
            "\n",
            "/usr/local/lib/python3.6/dist-packages/ipykernel_launcher.py:17: RuntimeWarning:\n",
            "\n",
            "divide by zero encountered in double_scalars\n",
            "\n",
            "/usr/local/lib/python3.6/dist-packages/ipykernel_launcher.py:17: RuntimeWarning:\n",
            "\n",
            "divide by zero encountered in double_scalars\n",
            "\n",
            "/usr/local/lib/python3.6/dist-packages/ipykernel_launcher.py:17: RuntimeWarning:\n",
            "\n",
            "divide by zero encountered in double_scalars\n",
            "\n",
            "/usr/local/lib/python3.6/dist-packages/ipykernel_launcher.py:17: RuntimeWarning:\n",
            "\n",
            "divide by zero encountered in double_scalars\n",
            "\n",
            "/usr/local/lib/python3.6/dist-packages/ipykernel_launcher.py:17: RuntimeWarning:\n",
            "\n",
            "divide by zero encountered in double_scalars\n",
            "\n",
            "/usr/local/lib/python3.6/dist-packages/ipykernel_launcher.py:17: RuntimeWarning:\n",
            "\n",
            "divide by zero encountered in double_scalars\n",
            "\n",
            "/usr/local/lib/python3.6/dist-packages/ipykernel_launcher.py:17: RuntimeWarning:\n",
            "\n",
            "divide by zero encountered in double_scalars\n",
            "\n",
            "/usr/local/lib/python3.6/dist-packages/ipykernel_launcher.py:17: RuntimeWarning:\n",
            "\n",
            "divide by zero encountered in double_scalars\n",
            "\n",
            "/usr/local/lib/python3.6/dist-packages/ipykernel_launcher.py:17: RuntimeWarning:\n",
            "\n",
            "divide by zero encountered in double_scalars\n",
            "\n",
            "/usr/local/lib/python3.6/dist-packages/ipykernel_launcher.py:17: RuntimeWarning:\n",
            "\n",
            "divide by zero encountered in double_scalars\n",
            "\n",
            "/usr/local/lib/python3.6/dist-packages/ipykernel_launcher.py:17: RuntimeWarning:\n",
            "\n",
            "divide by zero encountered in double_scalars\n",
            "\n",
            "/usr/local/lib/python3.6/dist-packages/ipykernel_launcher.py:17: RuntimeWarning:\n",
            "\n",
            "divide by zero encountered in double_scalars\n",
            "\n",
            "/usr/local/lib/python3.6/dist-packages/ipykernel_launcher.py:17: RuntimeWarning:\n",
            "\n",
            "divide by zero encountered in double_scalars\n",
            "\n"
          ],
          "name": "stderr"
        },
        {
          "output_type": "stream",
          "text": [
            "CPU times: user 48min 8s, sys: 4min 41s, total: 52min 49s\n",
            "Wall time: 16min 5s\n"
          ],
          "name": "stdout"
        }
      ]
    },
    {
      "cell_type": "code",
      "metadata": {
        "id": "Jh9EyAC9XG1w",
        "colab_type": "code",
        "outputId": "fa18c6f4-1447-4ee9-a7a7-8f93422bbfd8",
        "colab": {
          "base_uri": "https://localhost:8080/",
          "height": 1000
        }
      },
      "source": [
        "res[res>10]"
      ],
      "execution_count": 37,
      "outputs": [
        {
          "output_type": "execute_result",
          "data": {
            "text/plain": [
              "addr2                 2.957032e+01\n",
              "C9                    6.722115e+01\n",
              "ProductCD_C           5.261254e+01\n",
              "ProductCD_W           2.509950e+01\n",
              "card4_mastercard      1.084408e+01\n",
              "card4_visa            1.145424e+01\n",
              "card6_credit          8.898633e+01\n",
              "card6_debit           9.037987e+01\n",
              "M1_Miss                        inf\n",
              "M1_T                  5.821825e+03\n",
              "M2_F                           inf\n",
              "M2_Miss                        inf\n",
              "M2_T                           inf\n",
              "M3_F                           inf\n",
              "M3_Miss                        inf\n",
              "M3_T                           inf\n",
              "M4_M0                          inf\n",
              "M4_M1                          inf\n",
              "M4_M2                          inf\n",
              "M4_Miss                        inf\n",
              "M5_F                           inf\n",
              "M5_Miss                        inf\n",
              "M5_T                           inf\n",
              "M6_F                           inf\n",
              "M6_Miss                        inf\n",
              "M6_T                           inf\n",
              "M7_F                           inf\n",
              "M7_Miss                        inf\n",
              "M7_T                           inf\n",
              "M8_F                           inf\n",
              "M8_Miss                        inf\n",
              "M8_T                           inf\n",
              "M9_F                           inf\n",
              "M9_Miss                        inf\n",
              "M9_T                           inf\n",
              "id_12_Found                    inf\n",
              "id_12_Miss                     inf\n",
              "id_12_NotFound                 inf\n",
              "id_15_Found                    inf\n",
              "id_15_Miss            1.826619e+04\n",
              "id_15_New                      inf\n",
              "id_16_Found                    inf\n",
              "id_16_Miss                     inf\n",
              "id_16_NotFound                 inf\n",
              "id_28_Found                    inf\n",
              "id_28_Miss                     inf\n",
              "id_28_New                      inf\n",
              "id_29_Found                    inf\n",
              "id_29_Miss                     inf\n",
              "id_29_NotFound                 inf\n",
              "id_30_Miss            2.818792e+02\n",
              "id_35_F                        inf\n",
              "id_35_T                        inf\n",
              "id_37_F                        inf\n",
              "id_37_T                        inf\n",
              "id_38_F                        inf\n",
              "id_38_T                        inf\n",
              "DeviceType_desktop             inf\n",
              "DeviceType_mobile              inf\n",
              "Name: VIF, dtype: float64"
            ]
          },
          "metadata": {
            "tags": []
          },
          "execution_count": 37
        }
      ]
    },
    {
      "cell_type": "code",
      "metadata": {
        "id": "vvga1213ZMsk",
        "colab_type": "code",
        "colab": {}
      },
      "source": [
        "multicolinearity_var = list(res[res>10].index)"
      ],
      "execution_count": 0,
      "outputs": []
    },
    {
      "cell_type": "code",
      "metadata": {
        "id": "NlM_gqsDZb-v",
        "colab_type": "code",
        "colab": {}
      },
      "source": [
        "df_train.drop(multicolinearity_var, axis = 1, inplace = True)\n",
        "df_test.drop(multicolinearity_var, axis = 1, inplace = True)"
      ],
      "execution_count": 0,
      "outputs": []
    },
    {
      "cell_type": "code",
      "metadata": {
        "id": "OioNgIsAZjp4",
        "colab_type": "code",
        "outputId": "bdd84182-ee4e-4fc2-87e6-eb43f9ee7bd5",
        "colab": {
          "base_uri": "https://localhost:8080/",
          "height": 35
        }
      },
      "source": [
        "df_train.shape"
      ],
      "execution_count": 40,
      "outputs": [
        {
          "output_type": "execute_result",
          "data": {
            "text/plain": [
              "(585222, 64)"
            ]
          },
          "metadata": {
            "tags": []
          },
          "execution_count": 40
        }
      ]
    },
    {
      "cell_type": "markdown",
      "metadata": {
        "id": "Odze0U6RZsd7",
        "colab_type": "text"
      },
      "source": [
        "## 2.4. Train validation split"
      ]
    },
    {
      "cell_type": "code",
      "metadata": {
        "id": "jZPv3_MdSZs2",
        "colab_type": "code",
        "outputId": "27421cb4-462c-40ff-eb4e-e31712b77e42",
        "colab": {
          "base_uri": "https://localhost:8080/",
          "height": 35
        }
      },
      "source": [
        "from sklearn.model_selection import train_test_split\n",
        "\n",
        "X_train, X_val, y_train, y_val = train_test_split(\n",
        "    df_train,\n",
        "    Y_train,\n",
        "    stratify = Y_train,\n",
        "    test_size=0.3,\n",
        "    random_state=10)\n",
        "X_train.shape, X_val.shape"
      ],
      "execution_count": 41,
      "outputs": [
        {
          "output_type": "execute_result",
          "data": {
            "text/plain": [
              "((409655, 64), (175567, 64))"
            ]
          },
          "metadata": {
            "tags": []
          },
          "execution_count": 41
        }
      ]
    },
    {
      "cell_type": "markdown",
      "metadata": {
        "id": "7TLtX-iEaiUi",
        "colab_type": "text"
      },
      "source": [
        "# 3. Modeling"
      ]
    },
    {
      "cell_type": "code",
      "metadata": {
        "id": "DY3Oya9B3tzj",
        "colab_type": "code",
        "colab": {}
      },
      "source": [
        "from sklearn.ensemble import RandomForestClassifier\n",
        "from sklearn.datasets import make_classification \n",
        "\n",
        "def model_res(model,X_train, X_val, y_train, y_val, test, title= ''):\n",
        "  model.fit(X_train, y_train)\n",
        "  pred_train = model.predict_proba(X_train)\n",
        "  print(\"score auc train :\",roc_auc_score(y_train, pred_train[:, 1]))\n",
        "  pred_test = model.predict_proba(X_val)\n",
        "  print(\"score auc test :\",roc_auc_score(y_val, pred_test[:, 1]))\n",
        "  predict=model.predict_proba(test)\n",
        "  sample_submission['isFraud']=predict[:,1]\n",
        "  sample_submission.to_csv(title+'.csv',index=False)"
      ],
      "execution_count": 0,
      "outputs": []
    },
    {
      "cell_type": "markdown",
      "metadata": {
        "colab_type": "text",
        "id": "JW9GeYhOwNrb"
      },
      "source": [
        "#LASSO"
      ]
    },
    {
      "cell_type": "markdown",
      "metadata": {
        "colab_type": "text",
        "id": "SzAKmIe7wlX5"
      },
      "source": [
        "La méthode de lasso va nous permettre de mettre certaines features à 0 ce qui nous permettra de les enlever de notre modèles."
      ]
    },
    {
      "cell_type": "code",
      "metadata": {
        "id": "YCxCkV_5a1eu",
        "colab_type": "code",
        "colab": {}
      },
      "source": [
        "from sklearn.preprocessing import StandardScaler\n",
        "from sklearn.feature_selection import SelectFromModel\n",
        "from sklearn.linear_model import Lasso, LogisticRegression, SGDRegressor"
      ],
      "execution_count": 0,
      "outputs": []
    },
    {
      "cell_type": "code",
      "metadata": {
        "colab_type": "code",
        "id": "Y7PjQUDjtebH",
        "outputId": "1206f698-1f6e-4438-b4fe-99b84bc7f9c9",
        "colab": {
          "base_uri": "https://localhost:8080/",
          "height": 35
        }
      },
      "source": [
        "scaler = StandardScaler()\n",
        "scaler.fit(X_train)"
      ],
      "execution_count": 44,
      "outputs": [
        {
          "output_type": "execute_result",
          "data": {
            "text/plain": [
              "StandardScaler(copy=True, with_mean=True, with_std=True)"
            ]
          },
          "metadata": {
            "tags": []
          },
          "execution_count": 44
        }
      ]
    },
    {
      "cell_type": "code",
      "metadata": {
        "colab_type": "code",
        "id": "WO5IK3m7uWq4",
        "outputId": "ec58ef51-abf2-4dcd-9b2a-0041ae807d3f",
        "colab": {
          "base_uri": "https://localhost:8080/",
          "height": 53
        }
      },
      "source": [
        "%%time\n",
        "sel_ = SelectFromModel(LogisticRegression(C=1, penalty='l1', solver ='saga',max_iter=10000))\n",
        "sel_.fit(scaler.transform(X_train), y_train)"
      ],
      "execution_count": 45,
      "outputs": [
        {
          "output_type": "stream",
          "text": [
            "CPU times: user 26min 43s, sys: 281 ms, total: 26min 43s\n",
            "Wall time: 26min 44s\n"
          ],
          "name": "stdout"
        }
      ]
    },
    {
      "cell_type": "code",
      "metadata": {
        "colab_type": "code",
        "id": "qEcDqiWb4_ru",
        "outputId": "0b7dcbd8-3e2c-445a-9ff0-fea295c7e93f",
        "colab": {
          "base_uri": "https://localhost:8080/",
          "height": 71
        }
      },
      "source": [
        "selected_feat = X_train.columns[(sel_.get_support())]\n",
        "print('total features: {}'.format((X_train.shape[1])))\n",
        "print('selected features: {}'.format(len(selected_feat)))\n",
        "print('features with coefficients shrank to zero: {}'.format(\n",
        "      np.sum(sel_.estimator_.coef_ == 0)))"
      ],
      "execution_count": 46,
      "outputs": [
        {
          "output_type": "stream",
          "text": [
            "total features: 64\n",
            "selected features: 64\n",
            "features with coefficients shrank to zero: 0\n"
          ],
          "name": "stdout"
        }
      ]
    },
    {
      "cell_type": "code",
      "metadata": {
        "colab_type": "code",
        "id": "sz3BSQBE5Kzr",
        "outputId": "b3df86cf-88ea-41d8-a9dc-7a250b0218f5",
        "colab": {
          "base_uri": "https://localhost:8080/",
          "height": 35
        }
      },
      "source": [
        "removed_feats = X_train.columns[(sel_.estimator_.coef_ == 0).ravel().tolist()]\n",
        "removed_feats"
      ],
      "execution_count": 47,
      "outputs": [
        {
          "output_type": "execute_result",
          "data": {
            "text/plain": [
              "Index([], dtype='object')"
            ]
          },
          "metadata": {
            "tags": []
          },
          "execution_count": 47
        }
      ]
    },
    {
      "cell_type": "code",
      "metadata": {
        "colab_type": "code",
        "id": "q6PhqAKgsfJH",
        "colab": {
          "base_uri": "https://localhost:8080/",
          "height": 35
        },
        "outputId": "2c7d20e1-8d71-40db-83d4-878a090accf9"
      },
      "source": [
        "X_train_selected = sel_.transform(X_train)\n",
        "X_val_selected = sel_.transform(X_val)\n",
        "X_train_selected.shape, X_val_selected.shape"
      ],
      "execution_count": 48,
      "outputs": [
        {
          "output_type": "execute_result",
          "data": {
            "text/plain": [
              "((409655, 64), (175567, 64))"
            ]
          },
          "metadata": {
            "tags": []
          },
          "execution_count": 48
        }
      ]
    },
    {
      "cell_type": "code",
      "metadata": {
        "id": "jCfHwaexO8C_",
        "colab_type": "code",
        "colab": {}
      },
      "source": [
        "df_test_lasso = sel_.transform(df_test)"
      ],
      "execution_count": 0,
      "outputs": []
    },
    {
      "cell_type": "code",
      "metadata": {
        "id": "pNfHAIEbPDnU",
        "colab_type": "code",
        "colab": {
          "base_uri": "https://localhost:8080/",
          "height": 89
        },
        "outputId": "b4b08ec7-7a7a-4dae-9d41-b03ad1038282"
      },
      "source": [
        "## Random Forest\n",
        "%%time\n",
        "from sklearn.ensemble import RandomForestClassifier\n",
        "from sklearn.datasets import make_classification \n",
        "rf = RandomForestClassifier(n_estimators = 50, random_state = 42)\n",
        "model_res(rf, X_train_selected, X_val_selected, y_train, y_val, df_test_lasso, title='rf_lasso')"
      ],
      "execution_count": 54,
      "outputs": [
        {
          "output_type": "stream",
          "text": [
            "score auc train : 0.9999999933906375\n",
            "score auc test : 0.9280740470153142\n",
            "CPU times: user 1min 38s, sys: 94.8 ms, total: 1min 38s\n",
            "Wall time: 1min 38s\n"
          ],
          "name": "stdout"
        }
      ]
    },
    {
      "cell_type": "code",
      "metadata": {
        "id": "iZpo-EyiZjOq",
        "colab_type": "code",
        "colab": {
          "base_uri": "https://localhost:8080/",
          "height": 89
        },
        "outputId": "18247c5b-1bc7-48a1-fc49-d000391fe194"
      },
      "source": [
        "## KNN \n",
        "%%time\n",
        "from sklearn import neighbors\n",
        "knn = neighbors.KNeighborsClassifier(n_neighbors=3)\n",
        "\n",
        "model_res(knn, X_train_selected, X_val_selected, y_train, y_val, df_test_lasso, title='knn_lasso')"
      ],
      "execution_count": 63,
      "outputs": [
        {
          "output_type": "stream",
          "text": [
            "score auc train : 0.9904853505255286\n",
            "score auc test : 0.7655903021353637\n",
            "CPU times: user 27min 52s, sys: 1.02 s, total: 27min 53s\n",
            "Wall time: 27min 51s\n"
          ],
          "name": "stdout"
        }
      ]
    },
    {
      "cell_type": "markdown",
      "metadata": {
        "colab_type": "text",
        "id": "-CLCBW_ay5aH"
      },
      "source": [
        "# Elastic net"
      ]
    },
    {
      "cell_type": "code",
      "metadata": {
        "colab_type": "code",
        "id": "5V5JrfhQypik",
        "outputId": "17b0cb94-4c78-47fd-c384-4e5a22bd69e8",
        "colab": {
          "base_uri": "https://localhost:8080/",
          "height": 53
        }
      },
      "source": [
        "%%time\n",
        "sel2_ = SelectFromModel(LogisticRegression(C=1, penalty = 'elasticnet', l1_ratio = 0.5, solver = 'saga', max_iter=10000))\n",
        "sel2_.fit(scaler.transform(X_train), y_train)"
      ],
      "execution_count": 55,
      "outputs": [
        {
          "output_type": "stream",
          "text": [
            "CPU times: user 25min 37s, sys: 169 ms, total: 25min 37s\n",
            "Wall time: 25min 37s\n"
          ],
          "name": "stdout"
        }
      ]
    },
    {
      "cell_type": "code",
      "metadata": {
        "colab_type": "code",
        "id": "dMb9dXrIz1YQ",
        "outputId": "1e973048-3fe5-43c6-bc13-b2d99264b331",
        "colab": {
          "base_uri": "https://localhost:8080/",
          "height": 161
        }
      },
      "source": [
        "sel2_.get_support()"
      ],
      "execution_count": 56,
      "outputs": [
        {
          "output_type": "execute_result",
          "data": {
            "text/plain": [
              "array([False, False, False, False, False, False, False, False, False,\n",
              "        True,  True, False,  True,  True,  True, False,  True,  True,\n",
              "        True,  True,  True, False, False, False, False, False, False,\n",
              "       False, False, False, False, False, False, False, False, False,\n",
              "       False, False, False, False, False, False, False, False, False,\n",
              "       False, False, False, False, False, False, False, False, False,\n",
              "       False, False, False, False, False, False, False,  True,  True,\n",
              "        True])"
            ]
          },
          "metadata": {
            "tags": []
          },
          "execution_count": 56
        }
      ]
    },
    {
      "cell_type": "code",
      "metadata": {
        "colab_type": "code",
        "id": "DXwKV7E4z6xU",
        "outputId": "9e220c3d-ed1f-4ef1-9dfe-e69af10df891",
        "colab": {
          "base_uri": "https://localhost:8080/",
          "height": 71
        }
      },
      "source": [
        "selected2_feat = X_train.columns[(sel2_.get_support())]\n",
        "print('total features: {}'.format((X_train.shape[1])))\n",
        "print('selected features: {}'.format(len(selected2_feat)))\n",
        "print('features with coefficients shrank to zero: {}'.format(\n",
        "      np.sum(sel2_.estimator_.coef_ == 0)))"
      ],
      "execution_count": 57,
      "outputs": [
        {
          "output_type": "stream",
          "text": [
            "total features: 64\n",
            "selected features: 13\n",
            "features with coefficients shrank to zero: 0\n"
          ],
          "name": "stdout"
        }
      ]
    },
    {
      "cell_type": "code",
      "metadata": {
        "colab_type": "code",
        "id": "I_krIHD50C66",
        "outputId": "a4b609cc-b8cf-4ea3-a100-5a04aa6b8856",
        "colab": {
          "base_uri": "https://localhost:8080/",
          "height": 35
        }
      },
      "source": [
        "removed2_feats = X_train.columns[(sel2_.estimator_.coef_ == 0).ravel().tolist()]\n",
        "removed2_feats"
      ],
      "execution_count": 58,
      "outputs": [
        {
          "output_type": "execute_result",
          "data": {
            "text/plain": [
              "Index([], dtype='object')"
            ]
          },
          "metadata": {
            "tags": []
          },
          "execution_count": 58
        }
      ]
    },
    {
      "cell_type": "code",
      "metadata": {
        "colab_type": "code",
        "id": "DH8ZxIeS0IMI",
        "outputId": "c4df6800-c3ab-4914-c062-370ba39dc28e",
        "colab": {
          "base_uri": "https://localhost:8080/",
          "height": 35
        }
      },
      "source": [
        "X_train_selected2 = sel2_.transform(X_train)\n",
        "X_val_selected2 = sel2_.transform(X_val)\n",
        "X_train_selected2.shape, X_val_selected2.shape"
      ],
      "execution_count": 59,
      "outputs": [
        {
          "output_type": "execute_result",
          "data": {
            "text/plain": [
              "((409655, 13), (175567, 13))"
            ]
          },
          "metadata": {
            "tags": []
          },
          "execution_count": 59
        }
      ]
    },
    {
      "cell_type": "code",
      "metadata": {
        "id": "SEwyNOPxD2l8",
        "colab_type": "code",
        "colab": {}
      },
      "source": [
        "df_test_elnet = sel2_.transform(df_test)"
      ],
      "execution_count": 0,
      "outputs": []
    },
    {
      "cell_type": "code",
      "metadata": {
        "id": "V0gdzxU8HNAD",
        "colab_type": "code",
        "outputId": "c03ae3ec-83a2-4e7e-d1d8-4811494d2080",
        "colab": {
          "base_uri": "https://localhost:8080/",
          "height": 89
        }
      },
      "source": [
        "## Random forest :\n",
        "%%time\n",
        "model_res(rf, X_train_selected2, X_val_selected2, y_train, y_val, df_test_elnet, title='rf_elnet')"
      ],
      "execution_count": 61,
      "outputs": [
        {
          "output_type": "stream",
          "text": [
            "score auc train : 0.9808604866709494\n",
            "score auc test : 0.8951284953752436\n",
            "CPU times: user 53.2 s, sys: 99.3 ms, total: 53.3 s\n",
            "Wall time: 53.3 s\n"
          ],
          "name": "stdout"
        }
      ]
    },
    {
      "cell_type": "code",
      "metadata": {
        "id": "odbJDjXjZfls",
        "colab_type": "code",
        "colab": {
          "base_uri": "https://localhost:8080/",
          "height": 89
        },
        "outputId": "26ea1be4-f6b0-48f4-fffe-d9678fe0b3e0"
      },
      "source": [
        "## KNN :\n",
        "%%time\n",
        "knn = neighbors.KNeighborsClassifier(n_neighbors=3)\n",
        "model_res(knn, X_train_selected2, X_val_selected2, y_train, y_val, df_test_elnet, title='knn_elnet')"
      ],
      "execution_count": 64,
      "outputs": [
        {
          "output_type": "stream",
          "text": [
            "score auc train : 0.9241905559497615\n",
            "score auc test : 0.8121833528217052\n",
            "CPU times: user 10min 51s, sys: 321 ms, total: 10min 52s\n",
            "Wall time: 10min 51s\n"
          ],
          "name": "stdout"
        }
      ]
    }
  ]
}