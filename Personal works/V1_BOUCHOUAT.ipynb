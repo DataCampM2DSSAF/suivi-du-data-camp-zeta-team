{
  "nbformat": 4,
  "nbformat_minor": 0,
  "metadata": {
    "colab": {
      "name": "V1_BOUCHOUAT.ipynb",
      "provenance": [],
      "collapsed_sections": []
    },
    "kernelspec": {
      "name": "python3",
      "display_name": "Python 3"
    },
    "accelerator": "GPU"
  },
  "cells": [
    {
      "cell_type": "markdown",
      "metadata": {
        "id": "2aCA-KKSkC1b",
        "colab_type": "text"
      },
      "source": [
        "# IEEE Fraud"
      ]
    },
    {
      "cell_type": "markdown",
      "metadata": {
        "id": "mPTgxUqGCeJg",
        "colab_type": "text"
      },
      "source": [
        "Le but de cette compétition est de prédire la probabilité qu'une transaction en ligne soit frauduleuse. "
      ]
    },
    {
      "cell_type": "markdown",
      "metadata": {
        "id": "f1IuMqMxC646",
        "colab_type": "text"
      },
      "source": [
        "**Transaction variables**\n",
        "\n",
        "* TransactionDT: timedelta from a given reference  datetime (not an actual timestamp)\n",
        "* TransactionAMT: transaction payment amount in USD\n",
        "* ProductCD: product code, the product for each transaction\n",
        "* card1 - card6: payment card information, such as card type, card category, issue bank, country, etc.\n",
        "* addr: address\n",
        "* dist: distance\n",
        "* P_ and (R__) emaildomain: purchaser and recipient email domain\n",
        "* C1-C14: counting, such as how many addresses are found to be associated with the payment card, etc. The actual meaning is masked.\n",
        "* D1-D15: timedelta, such as days between previous transaction, etc.\n",
        "* M1-M9: match, such as names on card and address, etc.\n",
        "* Vxxx: Vesta engineered rich features, including ranking, counting, and other entity relations.\n",
        "\n",
        "**Categorical Features - Transaction**\n",
        "\n",
        "* ProductCD\n",
        "* emaildomain\n",
        "* card1 - card6\n",
        "* addr1, addr2\n",
        "* P_emaildomain\n",
        "* R_emaildomain\n",
        "* M1 - M9\n",
        "\n",
        "**Categorical Features - Identity**\n",
        "\n",
        "* DeviceType\n",
        "* DeviceInfo\n",
        "* id_12 - id_38\n",
        "\n",
        "The TransactionDT feature is a timedelta from a given reference datetime (not an actual timestamp).\n",
        "\n",
        "\n"
      ]
    },
    {
      "cell_type": "markdown",
      "metadata": {
        "id": "3eFNpS7eAaoj",
        "colab_type": "text"
      },
      "source": [
        "## Data preprocessing & analysis : "
      ]
    },
    {
      "cell_type": "code",
      "metadata": {
        "id": "uIVfpMji_Zlj",
        "colab_type": "code",
        "outputId": "27cbdce7-8422-4bb3-ead0-52e60d309d09",
        "colab": {
          "base_uri": "https://localhost:8080/",
          "height": 17
        }
      },
      "source": [
        "import pandas as pd\n",
        "import numpy as np\n",
        "import scipy as sp\n",
        "from scipy import stats\n",
        "import matplotlib.pyplot as plt\n",
        "import seaborn as sns\n",
        "\n",
        "# Standard plotly imports\n",
        "#import plotly.plotly as py\n",
        "import plotly.graph_objs as go\n",
        "import plotly.tools as tls\n",
        "from plotly.offline import iplot, init_notebook_mode\n",
        "#import cufflinks\n",
        "#import cufflinks as cf\n",
        "import plotly.figure_factory as ff\n",
        "\n",
        "# Using plotly + cufflinks in offline mode\n",
        "init_notebook_mode(connected=True)\n",
        "#cufflinks.go_offline(connected=True)\n",
        "\n",
        "# Preprocessing, modelling and evaluating\n",
        "from sklearn import preprocessing\n",
        "from sklearn.model_selection import train_test_split\n",
        "from sklearn.metrics import confusion_matrix, roc_auc_score\n",
        "from sklearn.model_selection import StratifiedKFold, cross_val_score, KFold\n",
        "from xgboost import XGBClassifier\n",
        "import xgboost as xgb"
      ],
      "execution_count": 2,
      "outputs": [
        {
          "output_type": "display_data",
          "data": {
            "text/html": [
              "        <script type=\"text/javascript\">\n",
              "        window.PlotlyConfig = {MathJaxConfig: 'local'};\n",
              "        if (window.MathJax) {MathJax.Hub.Config({SVG: {font: \"STIX-Web\"}});}\n",
              "        if (typeof require !== 'undefined') {\n",
              "        require.undef(\"plotly\");\n",
              "        requirejs.config({\n",
              "            paths: {\n",
              "                'plotly': ['https://cdn.plot.ly/plotly-latest.min']\n",
              "            }\n",
              "        });\n",
              "        require(['plotly'], function(Plotly) {\n",
              "            window._Plotly = Plotly;\n",
              "        });\n",
              "        }\n",
              "        </script>\n",
              "        "
            ]
          },
          "metadata": {
            "tags": []
          }
        }
      ]
    },
    {
      "cell_type": "markdown",
      "metadata": {
        "id": "ORXCm6OpRIya",
        "colab_type": "text"
      },
      "source": [
        "### Importer la Data :"
      ]
    },
    {
      "cell_type": "code",
      "metadata": {
        "id": "xIRUV3KNkYYh",
        "colab_type": "code",
        "outputId": "8a3ff974-45c0-4576-931b-93506b7b2550",
        "colab": {
          "base_uri": "https://localhost:8080/",
          "height": 55
        }
      },
      "source": [
        "from google.colab import drive\n",
        "drive.mount('/content/drive')"
      ],
      "execution_count": 3,
      "outputs": [
        {
          "output_type": "stream",
          "text": [
            "Drive already mounted at /content/drive; to attempt to forcibly remount, call drive.mount(\"/content/drive\", force_remount=True).\n"
          ],
          "name": "stdout"
        }
      ]
    },
    {
      "cell_type": "code",
      "metadata": {
        "id": "UrsTE-iLWG3J",
        "colab_type": "code",
        "colab": {}
      },
      "source": [
        "path = '/content/drive/My Drive/Data Fraud/'"
      ],
      "execution_count": 0,
      "outputs": []
    },
    {
      "cell_type": "code",
      "metadata": {
        "id": "2G0798hW-68D",
        "colab_type": "code",
        "colab": {}
      },
      "source": [
        "train_id = pd.read_csv(path+'train_identity.csv')\n",
        "train_tr = pd.read_csv(path+'train_transaction.csv')\n",
        "test_id = pd.read_csv(path+'test_identity.csv')\n",
        "test_tr = pd.read_csv(path+'test_transaction.csv')"
      ],
      "execution_count": 0,
      "outputs": []
    },
    {
      "cell_type": "markdown",
      "metadata": {
        "id": "WAgCJ0rGmkv9",
        "colab_type": "text"
      },
      "source": [
        "Ces données semblent assez énormes et difficiles à comprendre. TransactionID est la colonne commune dans les données de transaction et les données d'identité et les deux tables peuvent être jointes à l'aide de cette colonne commune."
      ]
    },
    {
      "cell_type": "markdown",
      "metadata": {
        "id": "7ASCjxX5R6eK",
        "colab_type": "text"
      },
      "source": [
        "###**Merging data** : "
      ]
    },
    {
      "cell_type": "code",
      "metadata": {
        "id": "U5j8eqDdR6BN",
        "colab_type": "code",
        "colab": {}
      },
      "source": [
        "train_data = pd.merge(train_tr, train_id, on='TransactionID', how='left')\n",
        "test_data = pd.merge(test_tr, test_id, on='TransactionID', how='left')"
      ],
      "execution_count": 0,
      "outputs": []
    },
    {
      "cell_type": "code",
      "metadata": {
        "id": "gUhdgGGgUTje",
        "colab_type": "code",
        "colab": {
          "base_uri": "https://localhost:8080/",
          "height": 107
        },
        "outputId": "bc28ff0a-0cb5-4c50-dea4-47ea54c6b155"
      },
      "source": [
        "train_data.info()"
      ],
      "execution_count": 7,
      "outputs": [
        {
          "output_type": "stream",
          "text": [
            "<class 'pandas.core.frame.DataFrame'>\n",
            "Int64Index: 590540 entries, 0 to 590539\n",
            "Columns: 434 entries, TransactionID to DeviceInfo\n",
            "dtypes: float64(399), int64(4), object(31)\n",
            "memory usage: 1.9+ GB\n"
          ],
          "name": "stdout"
        }
      ]
    },
    {
      "cell_type": "code",
      "metadata": {
        "id": "VBQFbFceXmIb",
        "colab_type": "code",
        "colab": {
          "base_uri": "https://localhost:8080/",
          "height": 107
        },
        "outputId": "dede9fbf-e64d-4d4d-d5d7-88dea6c21455"
      },
      "source": [
        "test_data.info()"
      ],
      "execution_count": 8,
      "outputs": [
        {
          "output_type": "stream",
          "text": [
            "<class 'pandas.core.frame.DataFrame'>\n",
            "Int64Index: 506691 entries, 0 to 506690\n",
            "Columns: 433 entries, TransactionID to DeviceInfo\n",
            "dtypes: float64(399), int64(3), object(31)\n",
            "memory usage: 1.6+ GB\n"
          ],
          "name": "stdout"
        }
      ]
    },
    {
      "cell_type": "markdown",
      "metadata": {
        "id": "TtxPiL1kRlzu",
        "colab_type": "text"
      },
      "source": [
        "### **Reduce memory :**\n",
        "\n"
      ]
    },
    {
      "cell_type": "code",
      "metadata": {
        "id": "vXH8C4BUnSii",
        "colab_type": "code",
        "colab": {}
      },
      "source": [
        "def reduce_mem_usage(df, verbose=True):\n",
        "    numerics = ['int16', 'int32', 'int64', 'float16', 'float32', 'float64']\n",
        "    start_mem = df.memory_usage().sum() / 1024**2    \n",
        "    for col in df.columns:\n",
        "        col_type = df[col].dtypes\n",
        "        if col_type in numerics:\n",
        "            c_min = df[col].min()\n",
        "            c_max = df[col].max()\n",
        "            if str(col_type)[:3] == 'int':\n",
        "                if c_min > np.iinfo(np.int8).min and c_max < np.iinfo(np.int8).max:\n",
        "                    df[col] = df[col].astype(np.int8)\n",
        "                elif c_min > np.iinfo(np.int16).min and c_max < np.iinfo(np.int16).max:\n",
        "                    df[col] = df[col].astype(np.int16)\n",
        "                elif c_min > np.iinfo(np.int32).min and c_max < np.iinfo(np.int32).max:\n",
        "                    df[col] = df[col].astype(np.int32)\n",
        "                elif c_min > np.iinfo(np.int64).min and c_max < np.iinfo(np.int64).max:\n",
        "                    df[col] = df[col].astype(np.int64)  \n",
        "            else:\n",
        "                if c_min > np.finfo(np.float16).min and c_max < np.finfo(np.float16).max:\n",
        "                    df[col] = df[col].astype(np.float16)\n",
        "                elif c_min > np.finfo(np.float32).min and c_max < np.finfo(np.float32).max:\n",
        "                    df[col] = df[col].astype(np.float32)\n",
        "                else:\n",
        "                    df[col] = df[col].astype(np.float64)    \n",
        "    end_mem = df.memory_usage().sum() / 1024**2\n",
        "    if verbose: \n",
        "        print('Mem. usage decreased to {:5.2f} Mb ({:.1f}% reduction)'.format(end_mem, 100 * (start_mem - end_mem) / start_mem))\n",
        "    return df"
      ],
      "execution_count": 0,
      "outputs": []
    },
    {
      "cell_type": "code",
      "metadata": {
        "id": "pJYRbbRsRjrn",
        "colab_type": "code",
        "colab": {
          "base_uri": "https://localhost:8080/",
          "height": 53
        },
        "outputId": "ba75561b-dbed-45f6-cc92-8b871d4402e1"
      },
      "source": [
        "train = reduce_mem_usage(train_data)\n",
        "test = reduce_mem_usage(test_data)"
      ],
      "execution_count": 10,
      "outputs": [
        {
          "output_type": "stream",
          "text": [
            "Mem. usage decreased to 650.48 Mb (66.8% reduction)\n",
            "Mem. usage decreased to 565.37 Mb (66.3% reduction)\n"
          ],
          "name": "stdout"
        }
      ]
    },
    {
      "cell_type": "markdown",
      "metadata": {
        "id": "mYCX6fXenp5R",
        "colab_type": "text"
      },
      "source": [
        "Comme on a fusionné les deux data et on a pu réduire leur mémoire,  **train_id** et **train_trasaction** (de même pour données test), maintenant on supprime les autres qui nous seront inutiles."
      ]
    },
    {
      "cell_type": "code",
      "metadata": {
        "id": "P6fhkjZ8npOP",
        "colab_type": "code",
        "colab": {}
      },
      "source": [
        "del train_id, train_tr, test_id, test_tr, train_data, test_data"
      ],
      "execution_count": 0,
      "outputs": []
    },
    {
      "cell_type": "markdown",
      "metadata": {
        "id": "liUpynvcZLee",
        "colab_type": "text"
      },
      "source": [
        "**Reconnaître les variables catégorielles et numériques.**"
      ]
    },
    {
      "cell_type": "markdown",
      "metadata": {
        "id": "TUb2a_zAERuE",
        "colab_type": "text"
      },
      "source": [
        "1. Variables numériques :"
      ]
    },
    {
      "cell_type": "code",
      "metadata": {
        "id": "ZKO_W4qqTsMj",
        "colab_type": "code",
        "colab": {
          "base_uri": "https://localhost:8080/",
          "height": 1000
        },
        "outputId": "2b4e2990-62bd-446d-c926-4377847ac547"
      },
      "source": [
        "num = list(train.select_dtypes(exclude=['object']).columns)\n",
        "num"
      ],
      "execution_count": 12,
      "outputs": [
        {
          "output_type": "execute_result",
          "data": {
            "text/plain": [
              "['TransactionID',\n",
              " 'isFraud',\n",
              " 'TransactionDT',\n",
              " 'TransactionAmt',\n",
              " 'card1',\n",
              " 'card2',\n",
              " 'card3',\n",
              " 'card5',\n",
              " 'addr1',\n",
              " 'addr2',\n",
              " 'dist1',\n",
              " 'dist2',\n",
              " 'C1',\n",
              " 'C2',\n",
              " 'C3',\n",
              " 'C4',\n",
              " 'C5',\n",
              " 'C6',\n",
              " 'C7',\n",
              " 'C8',\n",
              " 'C9',\n",
              " 'C10',\n",
              " 'C11',\n",
              " 'C12',\n",
              " 'C13',\n",
              " 'C14',\n",
              " 'D1',\n",
              " 'D2',\n",
              " 'D3',\n",
              " 'D4',\n",
              " 'D5',\n",
              " 'D6',\n",
              " 'D7',\n",
              " 'D8',\n",
              " 'D9',\n",
              " 'D10',\n",
              " 'D11',\n",
              " 'D12',\n",
              " 'D13',\n",
              " 'D14',\n",
              " 'D15',\n",
              " 'V1',\n",
              " 'V2',\n",
              " 'V3',\n",
              " 'V4',\n",
              " 'V5',\n",
              " 'V6',\n",
              " 'V7',\n",
              " 'V8',\n",
              " 'V9',\n",
              " 'V10',\n",
              " 'V11',\n",
              " 'V12',\n",
              " 'V13',\n",
              " 'V14',\n",
              " 'V15',\n",
              " 'V16',\n",
              " 'V17',\n",
              " 'V18',\n",
              " 'V19',\n",
              " 'V20',\n",
              " 'V21',\n",
              " 'V22',\n",
              " 'V23',\n",
              " 'V24',\n",
              " 'V25',\n",
              " 'V26',\n",
              " 'V27',\n",
              " 'V28',\n",
              " 'V29',\n",
              " 'V30',\n",
              " 'V31',\n",
              " 'V32',\n",
              " 'V33',\n",
              " 'V34',\n",
              " 'V35',\n",
              " 'V36',\n",
              " 'V37',\n",
              " 'V38',\n",
              " 'V39',\n",
              " 'V40',\n",
              " 'V41',\n",
              " 'V42',\n",
              " 'V43',\n",
              " 'V44',\n",
              " 'V45',\n",
              " 'V46',\n",
              " 'V47',\n",
              " 'V48',\n",
              " 'V49',\n",
              " 'V50',\n",
              " 'V51',\n",
              " 'V52',\n",
              " 'V53',\n",
              " 'V54',\n",
              " 'V55',\n",
              " 'V56',\n",
              " 'V57',\n",
              " 'V58',\n",
              " 'V59',\n",
              " 'V60',\n",
              " 'V61',\n",
              " 'V62',\n",
              " 'V63',\n",
              " 'V64',\n",
              " 'V65',\n",
              " 'V66',\n",
              " 'V67',\n",
              " 'V68',\n",
              " 'V69',\n",
              " 'V70',\n",
              " 'V71',\n",
              " 'V72',\n",
              " 'V73',\n",
              " 'V74',\n",
              " 'V75',\n",
              " 'V76',\n",
              " 'V77',\n",
              " 'V78',\n",
              " 'V79',\n",
              " 'V80',\n",
              " 'V81',\n",
              " 'V82',\n",
              " 'V83',\n",
              " 'V84',\n",
              " 'V85',\n",
              " 'V86',\n",
              " 'V87',\n",
              " 'V88',\n",
              " 'V89',\n",
              " 'V90',\n",
              " 'V91',\n",
              " 'V92',\n",
              " 'V93',\n",
              " 'V94',\n",
              " 'V95',\n",
              " 'V96',\n",
              " 'V97',\n",
              " 'V98',\n",
              " 'V99',\n",
              " 'V100',\n",
              " 'V101',\n",
              " 'V102',\n",
              " 'V103',\n",
              " 'V104',\n",
              " 'V105',\n",
              " 'V106',\n",
              " 'V107',\n",
              " 'V108',\n",
              " 'V109',\n",
              " 'V110',\n",
              " 'V111',\n",
              " 'V112',\n",
              " 'V113',\n",
              " 'V114',\n",
              " 'V115',\n",
              " 'V116',\n",
              " 'V117',\n",
              " 'V118',\n",
              " 'V119',\n",
              " 'V120',\n",
              " 'V121',\n",
              " 'V122',\n",
              " 'V123',\n",
              " 'V124',\n",
              " 'V125',\n",
              " 'V126',\n",
              " 'V127',\n",
              " 'V128',\n",
              " 'V129',\n",
              " 'V130',\n",
              " 'V131',\n",
              " 'V132',\n",
              " 'V133',\n",
              " 'V134',\n",
              " 'V135',\n",
              " 'V136',\n",
              " 'V137',\n",
              " 'V138',\n",
              " 'V139',\n",
              " 'V140',\n",
              " 'V141',\n",
              " 'V142',\n",
              " 'V143',\n",
              " 'V144',\n",
              " 'V145',\n",
              " 'V146',\n",
              " 'V147',\n",
              " 'V148',\n",
              " 'V149',\n",
              " 'V150',\n",
              " 'V151',\n",
              " 'V152',\n",
              " 'V153',\n",
              " 'V154',\n",
              " 'V155',\n",
              " 'V156',\n",
              " 'V157',\n",
              " 'V158',\n",
              " 'V159',\n",
              " 'V160',\n",
              " 'V161',\n",
              " 'V162',\n",
              " 'V163',\n",
              " 'V164',\n",
              " 'V165',\n",
              " 'V166',\n",
              " 'V167',\n",
              " 'V168',\n",
              " 'V169',\n",
              " 'V170',\n",
              " 'V171',\n",
              " 'V172',\n",
              " 'V173',\n",
              " 'V174',\n",
              " 'V175',\n",
              " 'V176',\n",
              " 'V177',\n",
              " 'V178',\n",
              " 'V179',\n",
              " 'V180',\n",
              " 'V181',\n",
              " 'V182',\n",
              " 'V183',\n",
              " 'V184',\n",
              " 'V185',\n",
              " 'V186',\n",
              " 'V187',\n",
              " 'V188',\n",
              " 'V189',\n",
              " 'V190',\n",
              " 'V191',\n",
              " 'V192',\n",
              " 'V193',\n",
              " 'V194',\n",
              " 'V195',\n",
              " 'V196',\n",
              " 'V197',\n",
              " 'V198',\n",
              " 'V199',\n",
              " 'V200',\n",
              " 'V201',\n",
              " 'V202',\n",
              " 'V203',\n",
              " 'V204',\n",
              " 'V205',\n",
              " 'V206',\n",
              " 'V207',\n",
              " 'V208',\n",
              " 'V209',\n",
              " 'V210',\n",
              " 'V211',\n",
              " 'V212',\n",
              " 'V213',\n",
              " 'V214',\n",
              " 'V215',\n",
              " 'V216',\n",
              " 'V217',\n",
              " 'V218',\n",
              " 'V219',\n",
              " 'V220',\n",
              " 'V221',\n",
              " 'V222',\n",
              " 'V223',\n",
              " 'V224',\n",
              " 'V225',\n",
              " 'V226',\n",
              " 'V227',\n",
              " 'V228',\n",
              " 'V229',\n",
              " 'V230',\n",
              " 'V231',\n",
              " 'V232',\n",
              " 'V233',\n",
              " 'V234',\n",
              " 'V235',\n",
              " 'V236',\n",
              " 'V237',\n",
              " 'V238',\n",
              " 'V239',\n",
              " 'V240',\n",
              " 'V241',\n",
              " 'V242',\n",
              " 'V243',\n",
              " 'V244',\n",
              " 'V245',\n",
              " 'V246',\n",
              " 'V247',\n",
              " 'V248',\n",
              " 'V249',\n",
              " 'V250',\n",
              " 'V251',\n",
              " 'V252',\n",
              " 'V253',\n",
              " 'V254',\n",
              " 'V255',\n",
              " 'V256',\n",
              " 'V257',\n",
              " 'V258',\n",
              " 'V259',\n",
              " 'V260',\n",
              " 'V261',\n",
              " 'V262',\n",
              " 'V263',\n",
              " 'V264',\n",
              " 'V265',\n",
              " 'V266',\n",
              " 'V267',\n",
              " 'V268',\n",
              " 'V269',\n",
              " 'V270',\n",
              " 'V271',\n",
              " 'V272',\n",
              " 'V273',\n",
              " 'V274',\n",
              " 'V275',\n",
              " 'V276',\n",
              " 'V277',\n",
              " 'V278',\n",
              " 'V279',\n",
              " 'V280',\n",
              " 'V281',\n",
              " 'V282',\n",
              " 'V283',\n",
              " 'V284',\n",
              " 'V285',\n",
              " 'V286',\n",
              " 'V287',\n",
              " 'V288',\n",
              " 'V289',\n",
              " 'V290',\n",
              " 'V291',\n",
              " 'V292',\n",
              " 'V293',\n",
              " 'V294',\n",
              " 'V295',\n",
              " 'V296',\n",
              " 'V297',\n",
              " 'V298',\n",
              " 'V299',\n",
              " 'V300',\n",
              " 'V301',\n",
              " 'V302',\n",
              " 'V303',\n",
              " 'V304',\n",
              " 'V305',\n",
              " 'V306',\n",
              " 'V307',\n",
              " 'V308',\n",
              " 'V309',\n",
              " 'V310',\n",
              " 'V311',\n",
              " 'V312',\n",
              " 'V313',\n",
              " 'V314',\n",
              " 'V315',\n",
              " 'V316',\n",
              " 'V317',\n",
              " 'V318',\n",
              " 'V319',\n",
              " 'V320',\n",
              " 'V321',\n",
              " 'V322',\n",
              " 'V323',\n",
              " 'V324',\n",
              " 'V325',\n",
              " 'V326',\n",
              " 'V327',\n",
              " 'V328',\n",
              " 'V329',\n",
              " 'V330',\n",
              " 'V331',\n",
              " 'V332',\n",
              " 'V333',\n",
              " 'V334',\n",
              " 'V335',\n",
              " 'V336',\n",
              " 'V337',\n",
              " 'V338',\n",
              " 'V339',\n",
              " 'id_01',\n",
              " 'id_02',\n",
              " 'id_03',\n",
              " 'id_04',\n",
              " 'id_05',\n",
              " 'id_06',\n",
              " 'id_07',\n",
              " 'id_08',\n",
              " 'id_09',\n",
              " 'id_10',\n",
              " 'id_11',\n",
              " 'id_13',\n",
              " 'id_14',\n",
              " 'id_17',\n",
              " 'id_18',\n",
              " 'id_19',\n",
              " 'id_20',\n",
              " 'id_21',\n",
              " 'id_22',\n",
              " 'id_24',\n",
              " 'id_25',\n",
              " 'id_26',\n",
              " 'id_32']"
            ]
          },
          "metadata": {
            "tags": []
          },
          "execution_count": 12
        }
      ]
    },
    {
      "cell_type": "markdown",
      "metadata": {
        "id": "QZ55jhn6Euvt",
        "colab_type": "text"
      },
      "source": [
        "2. variables catégorielles :"
      ]
    },
    {
      "cell_type": "code",
      "metadata": {
        "id": "caj22JVKqA-U",
        "colab_type": "code",
        "colab": {
          "base_uri": "https://localhost:8080/",
          "height": 575
        },
        "outputId": "b67b2ae2-dfd5-4056-b918-fdd7fb5d4221"
      },
      "source": [
        "cat = list(train.select_dtypes(include=['object']).columns)\n",
        "cat"
      ],
      "execution_count": 13,
      "outputs": [
        {
          "output_type": "execute_result",
          "data": {
            "text/plain": [
              "['ProductCD',\n",
              " 'card4',\n",
              " 'card6',\n",
              " 'P_emaildomain',\n",
              " 'R_emaildomain',\n",
              " 'M1',\n",
              " 'M2',\n",
              " 'M3',\n",
              " 'M4',\n",
              " 'M5',\n",
              " 'M6',\n",
              " 'M7',\n",
              " 'M8',\n",
              " 'M9',\n",
              " 'id_12',\n",
              " 'id_15',\n",
              " 'id_16',\n",
              " 'id_23',\n",
              " 'id_27',\n",
              " 'id_28',\n",
              " 'id_29',\n",
              " 'id_30',\n",
              " 'id_31',\n",
              " 'id_33',\n",
              " 'id_34',\n",
              " 'id_35',\n",
              " 'id_36',\n",
              " 'id_37',\n",
              " 'id_38',\n",
              " 'DeviceType',\n",
              " 'DeviceInfo']"
            ]
          },
          "metadata": {
            "tags": []
          },
          "execution_count": 13
        }
      ]
    },
    {
      "cell_type": "markdown",
      "metadata": {
        "id": "ymWZnIheWYeF",
        "colab_type": "text"
      },
      "source": [
        "### Les données manquantes :"
      ]
    },
    {
      "cell_type": "code",
      "metadata": {
        "id": "Od2p7I5vV4ol",
        "colab_type": "code",
        "colab": {
          "base_uri": "https://localhost:8080/",
          "height": 35
        },
        "outputId": "d8ab0f70-2abc-4999-b5ab-0be43e876d2c"
      },
      "source": [
        "print(f'There are {train.isnull().any().sum()} columns in train dataset with missing values.')"
      ],
      "execution_count": 14,
      "outputs": [
        {
          "output_type": "stream",
          "text": [
            "There are 414 columns in train dataset with missing values.\n"
          ],
          "name": "stdout"
        }
      ]
    },
    {
      "cell_type": "code",
      "metadata": {
        "id": "nE3lNpUVWfY5",
        "colab_type": "code",
        "colab": {
          "base_uri": "https://localhost:8080/",
          "height": 35
        },
        "outputId": "310b1dfb-b144-424d-ebab-0943bd73993e"
      },
      "source": [
        "print(f'There are {test.isnull().any().sum()} columns in train dataset with missing values.')\n"
      ],
      "execution_count": 15,
      "outputs": [
        {
          "output_type": "stream",
          "text": [
            "There are 385 columns in train dataset with missing values.\n"
          ],
          "name": "stdout"
        }
      ]
    },
    {
      "cell_type": "code",
      "metadata": {
        "id": "2pvgJhlIqFrK",
        "colab_type": "code",
        "colab": {
          "base_uri": "https://localhost:8080/",
          "height": 204
        },
        "outputId": "53fe8180-4094-4132-b414-eb01e69bc9ac"
      },
      "source": [
        "data_null = train.isnull().sum()/len(train) * 100\n",
        "data_null = data_null.drop(data_null[data_null == 0].index).sort_values(ascending=False)[:500]\n",
        "missing_data = pd.DataFrame({'Missing Ratio': data_null})\n",
        "missing_data.head()"
      ],
      "execution_count": 16,
      "outputs": [
        {
          "output_type": "execute_result",
          "data": {
            "text/html": [
              "<div>\n",
              "<style scoped>\n",
              "    .dataframe tbody tr th:only-of-type {\n",
              "        vertical-align: middle;\n",
              "    }\n",
              "\n",
              "    .dataframe tbody tr th {\n",
              "        vertical-align: top;\n",
              "    }\n",
              "\n",
              "    .dataframe thead th {\n",
              "        text-align: right;\n",
              "    }\n",
              "</style>\n",
              "<table border=\"1\" class=\"dataframe\">\n",
              "  <thead>\n",
              "    <tr style=\"text-align: right;\">\n",
              "      <th></th>\n",
              "      <th>Missing Ratio</th>\n",
              "    </tr>\n",
              "  </thead>\n",
              "  <tbody>\n",
              "    <tr>\n",
              "      <th>id_24</th>\n",
              "      <td>99.196159</td>\n",
              "    </tr>\n",
              "    <tr>\n",
              "      <th>id_25</th>\n",
              "      <td>99.130965</td>\n",
              "    </tr>\n",
              "    <tr>\n",
              "      <th>id_07</th>\n",
              "      <td>99.127070</td>\n",
              "    </tr>\n",
              "    <tr>\n",
              "      <th>id_08</th>\n",
              "      <td>99.127070</td>\n",
              "    </tr>\n",
              "    <tr>\n",
              "      <th>id_21</th>\n",
              "      <td>99.126393</td>\n",
              "    </tr>\n",
              "  </tbody>\n",
              "</table>\n",
              "</div>"
            ],
            "text/plain": [
              "       Missing Ratio\n",
              "id_24      99.196159\n",
              "id_25      99.130965\n",
              "id_07      99.127070\n",
              "id_08      99.127070\n",
              "id_21      99.126393"
            ]
          },
          "metadata": {
            "tags": []
          },
          "execution_count": 16
        }
      ]
    },
    {
      "cell_type": "markdown",
      "metadata": {
        "id": "_IO3RWZCvNhq",
        "colab_type": "text"
      },
      "source": [
        "**Approche naïve :** Nous allons maintenant supprimer les variables dont la valeur manquante est supérieure à 70%."
      ]
    },
    {
      "cell_type": "code",
      "metadata": {
        "id": "bgWGhnD7ZqM2",
        "colab_type": "code",
        "colab": {}
      },
      "source": [
        "def null_attr(data):\n",
        "    null_cols = [c for c in data.columns if data[c].isnull().sum() / data.shape[0] > 0.7]\n",
        "    return null_cols"
      ],
      "execution_count": 0,
      "outputs": []
    },
    {
      "cell_type": "code",
      "metadata": {
        "id": "nndOY0T8BQ5k",
        "colab_type": "code",
        "colab": {}
      },
      "source": [
        "def repeated_val(data):\n",
        "    repval_cols = [c for c in train.columns if train[c].value_counts(dropna=False, normalize=True).values[0] > 0.9]\n",
        "    return repval_cols"
      ],
      "execution_count": 0,
      "outputs": []
    },
    {
      "cell_type": "code",
      "metadata": {
        "id": "peVszRdyBQyC",
        "colab_type": "code",
        "colab": {}
      },
      "source": [
        "def useless_columns(data):\n",
        "    null = null_attr(data)\n",
        "    print(\"More than 90% null: \" + str(len(null)))\n",
        "    repeated = repeated_val(data)\n",
        "    print(\"More than 90% repeated value: \" + str(len(repeated)))\n",
        "    cols_to_drop = list(set(null + repeated))\n",
        "    cols_to_drop.remove('isFraud')\n",
        "    return cols_to_drop"
      ],
      "execution_count": 0,
      "outputs": []
    },
    {
      "cell_type": "code",
      "metadata": {
        "id": "dceoCEM-BQoJ",
        "colab_type": "code",
        "colab": {
          "base_uri": "https://localhost:8080/",
          "height": 1000
        },
        "outputId": "09d595c9-ce87-4ab4-9d8b-4b533f32d8be"
      },
      "source": [
        "useless_columns(train)"
      ],
      "execution_count": 20,
      "outputs": [
        {
          "output_type": "stream",
          "text": [
            "More than 90% null: 208\n",
            "More than 90% repeated value: 67\n"
          ],
          "name": "stdout"
        },
        {
          "output_type": "execute_result",
          "data": {
            "text/plain": [
              "['V168',\n",
              " 'V145',\n",
              " 'V139',\n",
              " 'V146',\n",
              " 'V253',\n",
              " 'V117',\n",
              " 'V187',\n",
              " 'id_28',\n",
              " 'id_36',\n",
              " 'V275',\n",
              " 'V192',\n",
              " 'V158',\n",
              " 'V177',\n",
              " 'V101',\n",
              " 'V200',\n",
              " 'V246',\n",
              " 'V254',\n",
              " 'V256',\n",
              " 'V231',\n",
              " 'V104',\n",
              " 'V148',\n",
              " 'V190',\n",
              " 'V199',\n",
              " 'V232',\n",
              " 'V169',\n",
              " 'V181',\n",
              " 'V170',\n",
              " 'id_22',\n",
              " 'V269',\n",
              " 'V132',\n",
              " 'id_14',\n",
              " 'V159',\n",
              " 'V106',\n",
              " 'V213',\n",
              " 'V171',\n",
              " 'V109',\n",
              " 'V153',\n",
              " 'V277',\n",
              " 'V118',\n",
              " 'V273',\n",
              " 'V259',\n",
              " 'id_11',\n",
              " 'C3',\n",
              " 'V266',\n",
              " 'V142',\n",
              " 'V201',\n",
              " 'V239',\n",
              " 'V267',\n",
              " 'V320',\n",
              " 'V208',\n",
              " 'V298',\n",
              " 'id_27',\n",
              " 'V162',\n",
              " 'V240',\n",
              " 'V244',\n",
              " 'V186',\n",
              " 'V218',\n",
              " 'V250',\n",
              " 'V141',\n",
              " 'V197',\n",
              " 'V222',\n",
              " 'V110',\n",
              " 'V281',\n",
              " 'V329',\n",
              " 'V184',\n",
              " 'V178',\n",
              " 'DeviceType',\n",
              " 'id_31',\n",
              " 'V173',\n",
              " 'V174',\n",
              " 'V247',\n",
              " 'V157',\n",
              " 'V120',\n",
              " 'V268',\n",
              " 'V327',\n",
              " 'V149',\n",
              " 'V263',\n",
              " 'V144',\n",
              " 'id_06',\n",
              " 'V233',\n",
              " 'V252',\n",
              " 'V274',\n",
              " 'V234',\n",
              " 'V207',\n",
              " 'V276',\n",
              " 'D8',\n",
              " 'id_08',\n",
              " 'id_15',\n",
              " 'V188',\n",
              " 'V185',\n",
              " 'id_13',\n",
              " 'V286',\n",
              " 'V251',\n",
              " 'V165',\n",
              " 'id_32',\n",
              " 'V335',\n",
              " 'id_17',\n",
              " 'V124',\n",
              " 'V206',\n",
              " 'V237',\n",
              " 'V242',\n",
              " 'V129',\n",
              " 'V189',\n",
              " 'V133',\n",
              " 'V305',\n",
              " 'V227',\n",
              " 'V336',\n",
              " 'V297',\n",
              " 'D9',\n",
              " 'V179',\n",
              " 'V215',\n",
              " 'V220',\n",
              " 'id_37',\n",
              " 'V112',\n",
              " 'V134',\n",
              " 'V214',\n",
              " 'id_05',\n",
              " 'V203',\n",
              " 'V114',\n",
              " 'id_30',\n",
              " 'V338',\n",
              " 'V154',\n",
              " 'V113',\n",
              " 'V205',\n",
              " 'id_38',\n",
              " 'V115',\n",
              " 'V226',\n",
              " 'V210',\n",
              " 'V325',\n",
              " 'V331',\n",
              " 'V116',\n",
              " 'V119',\n",
              " 'V122',\n",
              " 'V223',\n",
              " 'V334',\n",
              " 'V296',\n",
              " 'V260',\n",
              " 'D7',\n",
              " 'id_03',\n",
              " 'V166',\n",
              " 'V257',\n",
              " 'V125',\n",
              " 'V309',\n",
              " 'V196',\n",
              " 'V284',\n",
              " 'V321',\n",
              " 'V163',\n",
              " 'V236',\n",
              " 'V265',\n",
              " 'V107',\n",
              " 'id_19',\n",
              " 'V121',\n",
              " 'V316',\n",
              " 'V211',\n",
              " 'id_12',\n",
              " 'V161',\n",
              " 'id_23',\n",
              " 'V333',\n",
              " 'id_20',\n",
              " 'V248',\n",
              " 'V224',\n",
              " 'id_16',\n",
              " 'V255',\n",
              " 'V217',\n",
              " 'V293',\n",
              " 'V295',\n",
              " 'V332',\n",
              " 'D13',\n",
              " 'V147',\n",
              " 'V272',\n",
              " 'V175',\n",
              " 'id_35',\n",
              " 'V137',\n",
              " 'V328',\n",
              " 'V245',\n",
              " 'V212',\n",
              " 'V271',\n",
              " 'V180',\n",
              " 'V241',\n",
              " 'V216',\n",
              " 'V290',\n",
              " 'V167',\n",
              " 'V150',\n",
              " 'V209',\n",
              " 'D14',\n",
              " 'V182',\n",
              " 'V230',\n",
              " 'V278',\n",
              " 'V123',\n",
              " 'V264',\n",
              " 'id_18',\n",
              " 'V140',\n",
              " 'V164',\n",
              " 'V262',\n",
              " 'id_02',\n",
              " 'D6',\n",
              " 'DeviceInfo',\n",
              " 'V326',\n",
              " 'V339',\n",
              " 'id_34',\n",
              " 'V103',\n",
              " 'V319',\n",
              " 'V261',\n",
              " 'id_25',\n",
              " 'V156',\n",
              " 'V160',\n",
              " 'V219',\n",
              " 'V323',\n",
              " 'id_29',\n",
              " 'V108',\n",
              " 'V299',\n",
              " 'V198',\n",
              " 'V229',\n",
              " 'V300',\n",
              " 'id_01',\n",
              " 'id_09',\n",
              " 'id_26',\n",
              " 'id_33',\n",
              " 'V98',\n",
              " 'V111',\n",
              " 'id_04',\n",
              " 'dist2',\n",
              " 'V238',\n",
              " 'D12',\n",
              " 'V194',\n",
              " 'id_07',\n",
              " 'id_24',\n",
              " 'id_21',\n",
              " 'V136',\n",
              " 'V324',\n",
              " 'V228',\n",
              " 'V105',\n",
              " 'V172',\n",
              " 'V155',\n",
              " 'V243',\n",
              " 'V221',\n",
              " 'V322',\n",
              " 'V318',\n",
              " 'V138',\n",
              " 'V151',\n",
              " 'V183',\n",
              " 'V235',\n",
              " 'V195',\n",
              " 'V330',\n",
              " 'V191',\n",
              " 'V135',\n",
              " 'V311',\n",
              " 'V225',\n",
              " 'V270',\n",
              " 'V337',\n",
              " 'R_emaildomain',\n",
              " 'V249',\n",
              " 'V258',\n",
              " 'V152',\n",
              " 'V193',\n",
              " 'V176',\n",
              " 'V301',\n",
              " 'V202',\n",
              " 'V204',\n",
              " 'id_10',\n",
              " 'V143',\n",
              " 'V102']"
            ]
          },
          "metadata": {
            "tags": []
          },
          "execution_count": 20
        }
      ]
    },
    {
      "cell_type": "code",
      "metadata": {
        "id": "Tan8kO-zGq8F",
        "colab_type": "code",
        "colab": {
          "base_uri": "https://localhost:8080/",
          "height": 53
        },
        "outputId": "ef7d154a-ebbb-4c19-8757-bf50d8170567"
      },
      "source": [
        "train = train.drop(useless_columns(train), axis=1)"
      ],
      "execution_count": 21,
      "outputs": [
        {
          "output_type": "stream",
          "text": [
            "More than 90% null: 208\n",
            "More than 90% repeated value: 67\n"
          ],
          "name": "stdout"
        }
      ]
    },
    {
      "cell_type": "code",
      "metadata": {
        "id": "lBqJtZoDGq5J",
        "colab_type": "code",
        "colab": {
          "base_uri": "https://localhost:8080/",
          "height": 53
        },
        "outputId": "b2b6174e-c60a-4c64-bd2b-d86ed28ff2e1"
      },
      "source": [
        "test = test.drop(useless_columns(test),axis=1)"
      ],
      "execution_count": 22,
      "outputs": [
        {
          "output_type": "stream",
          "text": [
            "More than 90% null: 208\n",
            "More than 90% repeated value: 1\n"
          ],
          "name": "stdout"
        }
      ]
    },
    {
      "cell_type": "code",
      "metadata": {
        "id": "ZTrKxDYVGq2B",
        "colab_type": "code",
        "colab": {
          "base_uri": "https://localhost:8080/",
          "height": 253
        },
        "outputId": "8d820de7-90e5-418a-ba2d-87e0c041f931"
      },
      "source": [
        "train.head(5)"
      ],
      "execution_count": 23,
      "outputs": [
        {
          "output_type": "execute_result",
          "data": {
            "text/html": [
              "<div>\n",
              "<style scoped>\n",
              "    .dataframe tbody tr th:only-of-type {\n",
              "        vertical-align: middle;\n",
              "    }\n",
              "\n",
              "    .dataframe tbody tr th {\n",
              "        vertical-align: top;\n",
              "    }\n",
              "\n",
              "    .dataframe thead th {\n",
              "        text-align: right;\n",
              "    }\n",
              "</style>\n",
              "<table border=\"1\" class=\"dataframe\">\n",
              "  <thead>\n",
              "    <tr style=\"text-align: right;\">\n",
              "      <th></th>\n",
              "      <th>TransactionID</th>\n",
              "      <th>isFraud</th>\n",
              "      <th>TransactionDT</th>\n",
              "      <th>TransactionAmt</th>\n",
              "      <th>ProductCD</th>\n",
              "      <th>card1</th>\n",
              "      <th>card2</th>\n",
              "      <th>card3</th>\n",
              "      <th>card4</th>\n",
              "      <th>card5</th>\n",
              "      <th>card6</th>\n",
              "      <th>addr1</th>\n",
              "      <th>addr2</th>\n",
              "      <th>dist1</th>\n",
              "      <th>P_emaildomain</th>\n",
              "      <th>C1</th>\n",
              "      <th>C2</th>\n",
              "      <th>C4</th>\n",
              "      <th>C5</th>\n",
              "      <th>C6</th>\n",
              "      <th>C7</th>\n",
              "      <th>C8</th>\n",
              "      <th>C9</th>\n",
              "      <th>C10</th>\n",
              "      <th>C11</th>\n",
              "      <th>C12</th>\n",
              "      <th>C13</th>\n",
              "      <th>C14</th>\n",
              "      <th>D1</th>\n",
              "      <th>D2</th>\n",
              "      <th>D3</th>\n",
              "      <th>D4</th>\n",
              "      <th>D5</th>\n",
              "      <th>D10</th>\n",
              "      <th>D11</th>\n",
              "      <th>D15</th>\n",
              "      <th>M1</th>\n",
              "      <th>M2</th>\n",
              "      <th>M3</th>\n",
              "      <th>M4</th>\n",
              "      <th>...</th>\n",
              "      <th>V88</th>\n",
              "      <th>V89</th>\n",
              "      <th>V90</th>\n",
              "      <th>V91</th>\n",
              "      <th>V92</th>\n",
              "      <th>V93</th>\n",
              "      <th>V94</th>\n",
              "      <th>V95</th>\n",
              "      <th>V96</th>\n",
              "      <th>V97</th>\n",
              "      <th>V99</th>\n",
              "      <th>V100</th>\n",
              "      <th>V126</th>\n",
              "      <th>V127</th>\n",
              "      <th>V128</th>\n",
              "      <th>V130</th>\n",
              "      <th>V131</th>\n",
              "      <th>V279</th>\n",
              "      <th>V280</th>\n",
              "      <th>V282</th>\n",
              "      <th>V283</th>\n",
              "      <th>V285</th>\n",
              "      <th>V287</th>\n",
              "      <th>V288</th>\n",
              "      <th>V289</th>\n",
              "      <th>V291</th>\n",
              "      <th>V292</th>\n",
              "      <th>V294</th>\n",
              "      <th>V302</th>\n",
              "      <th>V303</th>\n",
              "      <th>V304</th>\n",
              "      <th>V306</th>\n",
              "      <th>V307</th>\n",
              "      <th>V308</th>\n",
              "      <th>V310</th>\n",
              "      <th>V312</th>\n",
              "      <th>V313</th>\n",
              "      <th>V314</th>\n",
              "      <th>V315</th>\n",
              "      <th>V317</th>\n",
              "    </tr>\n",
              "  </thead>\n",
              "  <tbody>\n",
              "    <tr>\n",
              "      <th>0</th>\n",
              "      <td>2987000</td>\n",
              "      <td>0</td>\n",
              "      <td>86400</td>\n",
              "      <td>68.5</td>\n",
              "      <td>W</td>\n",
              "      <td>13926</td>\n",
              "      <td>NaN</td>\n",
              "      <td>150.0</td>\n",
              "      <td>discover</td>\n",
              "      <td>142.0</td>\n",
              "      <td>credit</td>\n",
              "      <td>315.0</td>\n",
              "      <td>87.0</td>\n",
              "      <td>19.0</td>\n",
              "      <td>NaN</td>\n",
              "      <td>1.0</td>\n",
              "      <td>1.0</td>\n",
              "      <td>0.0</td>\n",
              "      <td>0.0</td>\n",
              "      <td>1.0</td>\n",
              "      <td>0.0</td>\n",
              "      <td>0.0</td>\n",
              "      <td>1.0</td>\n",
              "      <td>0.0</td>\n",
              "      <td>2.0</td>\n",
              "      <td>0.0</td>\n",
              "      <td>1.0</td>\n",
              "      <td>1.0</td>\n",
              "      <td>14.0</td>\n",
              "      <td>NaN</td>\n",
              "      <td>13.0</td>\n",
              "      <td>NaN</td>\n",
              "      <td>NaN</td>\n",
              "      <td>13.0</td>\n",
              "      <td>13.0</td>\n",
              "      <td>0.0</td>\n",
              "      <td>T</td>\n",
              "      <td>T</td>\n",
              "      <td>T</td>\n",
              "      <td>M2</td>\n",
              "      <td>...</td>\n",
              "      <td>1.0</td>\n",
              "      <td>0.0</td>\n",
              "      <td>0.0</td>\n",
              "      <td>0.0</td>\n",
              "      <td>0.0</td>\n",
              "      <td>0.0</td>\n",
              "      <td>0.0</td>\n",
              "      <td>0.0</td>\n",
              "      <td>1.0</td>\n",
              "      <td>0.0</td>\n",
              "      <td>0.0</td>\n",
              "      <td>0.0</td>\n",
              "      <td>0.0</td>\n",
              "      <td>117.0</td>\n",
              "      <td>0.0</td>\n",
              "      <td>0.0</td>\n",
              "      <td>0.0</td>\n",
              "      <td>0.0</td>\n",
              "      <td>0.0</td>\n",
              "      <td>1.0</td>\n",
              "      <td>1.0</td>\n",
              "      <td>0.0</td>\n",
              "      <td>0.0</td>\n",
              "      <td>0.0</td>\n",
              "      <td>0.0</td>\n",
              "      <td>1.0</td>\n",
              "      <td>1.0</td>\n",
              "      <td>1.0</td>\n",
              "      <td>0.0</td>\n",
              "      <td>0.0</td>\n",
              "      <td>0.0</td>\n",
              "      <td>0.0</td>\n",
              "      <td>117.0</td>\n",
              "      <td>0.0</td>\n",
              "      <td>0.0</td>\n",
              "      <td>0.0</td>\n",
              "      <td>0.0</td>\n",
              "      <td>0.0</td>\n",
              "      <td>0.0</td>\n",
              "      <td>117.0</td>\n",
              "    </tr>\n",
              "    <tr>\n",
              "      <th>1</th>\n",
              "      <td>2987001</td>\n",
              "      <td>0</td>\n",
              "      <td>86401</td>\n",
              "      <td>29.0</td>\n",
              "      <td>W</td>\n",
              "      <td>2755</td>\n",
              "      <td>404.0</td>\n",
              "      <td>150.0</td>\n",
              "      <td>mastercard</td>\n",
              "      <td>102.0</td>\n",
              "      <td>credit</td>\n",
              "      <td>325.0</td>\n",
              "      <td>87.0</td>\n",
              "      <td>NaN</td>\n",
              "      <td>gmail.com</td>\n",
              "      <td>1.0</td>\n",
              "      <td>1.0</td>\n",
              "      <td>0.0</td>\n",
              "      <td>0.0</td>\n",
              "      <td>1.0</td>\n",
              "      <td>0.0</td>\n",
              "      <td>0.0</td>\n",
              "      <td>0.0</td>\n",
              "      <td>0.0</td>\n",
              "      <td>1.0</td>\n",
              "      <td>0.0</td>\n",
              "      <td>1.0</td>\n",
              "      <td>1.0</td>\n",
              "      <td>0.0</td>\n",
              "      <td>NaN</td>\n",
              "      <td>NaN</td>\n",
              "      <td>0.0</td>\n",
              "      <td>NaN</td>\n",
              "      <td>0.0</td>\n",
              "      <td>NaN</td>\n",
              "      <td>0.0</td>\n",
              "      <td>NaN</td>\n",
              "      <td>NaN</td>\n",
              "      <td>NaN</td>\n",
              "      <td>M0</td>\n",
              "      <td>...</td>\n",
              "      <td>1.0</td>\n",
              "      <td>0.0</td>\n",
              "      <td>0.0</td>\n",
              "      <td>0.0</td>\n",
              "      <td>0.0</td>\n",
              "      <td>0.0</td>\n",
              "      <td>0.0</td>\n",
              "      <td>0.0</td>\n",
              "      <td>0.0</td>\n",
              "      <td>0.0</td>\n",
              "      <td>0.0</td>\n",
              "      <td>0.0</td>\n",
              "      <td>0.0</td>\n",
              "      <td>0.0</td>\n",
              "      <td>0.0</td>\n",
              "      <td>0.0</td>\n",
              "      <td>0.0</td>\n",
              "      <td>0.0</td>\n",
              "      <td>0.0</td>\n",
              "      <td>1.0</td>\n",
              "      <td>1.0</td>\n",
              "      <td>0.0</td>\n",
              "      <td>0.0</td>\n",
              "      <td>0.0</td>\n",
              "      <td>0.0</td>\n",
              "      <td>1.0</td>\n",
              "      <td>1.0</td>\n",
              "      <td>0.0</td>\n",
              "      <td>0.0</td>\n",
              "      <td>0.0</td>\n",
              "      <td>0.0</td>\n",
              "      <td>0.0</td>\n",
              "      <td>0.0</td>\n",
              "      <td>0.0</td>\n",
              "      <td>0.0</td>\n",
              "      <td>0.0</td>\n",
              "      <td>0.0</td>\n",
              "      <td>0.0</td>\n",
              "      <td>0.0</td>\n",
              "      <td>0.0</td>\n",
              "    </tr>\n",
              "    <tr>\n",
              "      <th>2</th>\n",
              "      <td>2987002</td>\n",
              "      <td>0</td>\n",
              "      <td>86469</td>\n",
              "      <td>59.0</td>\n",
              "      <td>W</td>\n",
              "      <td>4663</td>\n",
              "      <td>490.0</td>\n",
              "      <td>150.0</td>\n",
              "      <td>visa</td>\n",
              "      <td>166.0</td>\n",
              "      <td>debit</td>\n",
              "      <td>330.0</td>\n",
              "      <td>87.0</td>\n",
              "      <td>287.0</td>\n",
              "      <td>outlook.com</td>\n",
              "      <td>1.0</td>\n",
              "      <td>1.0</td>\n",
              "      <td>0.0</td>\n",
              "      <td>0.0</td>\n",
              "      <td>1.0</td>\n",
              "      <td>0.0</td>\n",
              "      <td>0.0</td>\n",
              "      <td>1.0</td>\n",
              "      <td>0.0</td>\n",
              "      <td>1.0</td>\n",
              "      <td>0.0</td>\n",
              "      <td>1.0</td>\n",
              "      <td>1.0</td>\n",
              "      <td>0.0</td>\n",
              "      <td>NaN</td>\n",
              "      <td>NaN</td>\n",
              "      <td>0.0</td>\n",
              "      <td>NaN</td>\n",
              "      <td>0.0</td>\n",
              "      <td>315.0</td>\n",
              "      <td>315.0</td>\n",
              "      <td>T</td>\n",
              "      <td>T</td>\n",
              "      <td>T</td>\n",
              "      <td>M0</td>\n",
              "      <td>...</td>\n",
              "      <td>1.0</td>\n",
              "      <td>0.0</td>\n",
              "      <td>0.0</td>\n",
              "      <td>0.0</td>\n",
              "      <td>0.0</td>\n",
              "      <td>0.0</td>\n",
              "      <td>0.0</td>\n",
              "      <td>0.0</td>\n",
              "      <td>0.0</td>\n",
              "      <td>0.0</td>\n",
              "      <td>0.0</td>\n",
              "      <td>0.0</td>\n",
              "      <td>0.0</td>\n",
              "      <td>0.0</td>\n",
              "      <td>0.0</td>\n",
              "      <td>0.0</td>\n",
              "      <td>0.0</td>\n",
              "      <td>0.0</td>\n",
              "      <td>0.0</td>\n",
              "      <td>1.0</td>\n",
              "      <td>1.0</td>\n",
              "      <td>0.0</td>\n",
              "      <td>0.0</td>\n",
              "      <td>0.0</td>\n",
              "      <td>0.0</td>\n",
              "      <td>1.0</td>\n",
              "      <td>1.0</td>\n",
              "      <td>0.0</td>\n",
              "      <td>0.0</td>\n",
              "      <td>0.0</td>\n",
              "      <td>0.0</td>\n",
              "      <td>0.0</td>\n",
              "      <td>0.0</td>\n",
              "      <td>0.0</td>\n",
              "      <td>0.0</td>\n",
              "      <td>0.0</td>\n",
              "      <td>0.0</td>\n",
              "      <td>0.0</td>\n",
              "      <td>0.0</td>\n",
              "      <td>0.0</td>\n",
              "    </tr>\n",
              "    <tr>\n",
              "      <th>3</th>\n",
              "      <td>2987003</td>\n",
              "      <td>0</td>\n",
              "      <td>86499</td>\n",
              "      <td>50.0</td>\n",
              "      <td>W</td>\n",
              "      <td>18132</td>\n",
              "      <td>567.0</td>\n",
              "      <td>150.0</td>\n",
              "      <td>mastercard</td>\n",
              "      <td>117.0</td>\n",
              "      <td>debit</td>\n",
              "      <td>476.0</td>\n",
              "      <td>87.0</td>\n",
              "      <td>NaN</td>\n",
              "      <td>yahoo.com</td>\n",
              "      <td>2.0</td>\n",
              "      <td>5.0</td>\n",
              "      <td>0.0</td>\n",
              "      <td>0.0</td>\n",
              "      <td>4.0</td>\n",
              "      <td>0.0</td>\n",
              "      <td>0.0</td>\n",
              "      <td>1.0</td>\n",
              "      <td>0.0</td>\n",
              "      <td>1.0</td>\n",
              "      <td>0.0</td>\n",
              "      <td>25.0</td>\n",
              "      <td>1.0</td>\n",
              "      <td>112.0</td>\n",
              "      <td>112.0</td>\n",
              "      <td>0.0</td>\n",
              "      <td>94.0</td>\n",
              "      <td>0.0</td>\n",
              "      <td>84.0</td>\n",
              "      <td>NaN</td>\n",
              "      <td>111.0</td>\n",
              "      <td>NaN</td>\n",
              "      <td>NaN</td>\n",
              "      <td>NaN</td>\n",
              "      <td>M0</td>\n",
              "      <td>...</td>\n",
              "      <td>1.0</td>\n",
              "      <td>0.0</td>\n",
              "      <td>0.0</td>\n",
              "      <td>0.0</td>\n",
              "      <td>0.0</td>\n",
              "      <td>0.0</td>\n",
              "      <td>0.0</td>\n",
              "      <td>1.0</td>\n",
              "      <td>48.0</td>\n",
              "      <td>28.0</td>\n",
              "      <td>10.0</td>\n",
              "      <td>4.0</td>\n",
              "      <td>50.0</td>\n",
              "      <td>1758.0</td>\n",
              "      <td>925.0</td>\n",
              "      <td>354.0</td>\n",
              "      <td>135.0</td>\n",
              "      <td>1.0</td>\n",
              "      <td>28.0</td>\n",
              "      <td>0.0</td>\n",
              "      <td>0.0</td>\n",
              "      <td>10.0</td>\n",
              "      <td>4.0</td>\n",
              "      <td>0.0</td>\n",
              "      <td>0.0</td>\n",
              "      <td>1.0</td>\n",
              "      <td>1.0</td>\n",
              "      <td>38.0</td>\n",
              "      <td>0.0</td>\n",
              "      <td>0.0</td>\n",
              "      <td>0.0</td>\n",
              "      <td>50.0</td>\n",
              "      <td>1758.0</td>\n",
              "      <td>925.0</td>\n",
              "      <td>354.0</td>\n",
              "      <td>135.0</td>\n",
              "      <td>0.0</td>\n",
              "      <td>0.0</td>\n",
              "      <td>0.0</td>\n",
              "      <td>1404.0</td>\n",
              "    </tr>\n",
              "    <tr>\n",
              "      <th>4</th>\n",
              "      <td>2987004</td>\n",
              "      <td>0</td>\n",
              "      <td>86506</td>\n",
              "      <td>50.0</td>\n",
              "      <td>H</td>\n",
              "      <td>4497</td>\n",
              "      <td>514.0</td>\n",
              "      <td>150.0</td>\n",
              "      <td>mastercard</td>\n",
              "      <td>102.0</td>\n",
              "      <td>credit</td>\n",
              "      <td>420.0</td>\n",
              "      <td>87.0</td>\n",
              "      <td>NaN</td>\n",
              "      <td>gmail.com</td>\n",
              "      <td>1.0</td>\n",
              "      <td>1.0</td>\n",
              "      <td>0.0</td>\n",
              "      <td>0.0</td>\n",
              "      <td>1.0</td>\n",
              "      <td>0.0</td>\n",
              "      <td>1.0</td>\n",
              "      <td>0.0</td>\n",
              "      <td>1.0</td>\n",
              "      <td>1.0</td>\n",
              "      <td>0.0</td>\n",
              "      <td>1.0</td>\n",
              "      <td>1.0</td>\n",
              "      <td>0.0</td>\n",
              "      <td>NaN</td>\n",
              "      <td>NaN</td>\n",
              "      <td>NaN</td>\n",
              "      <td>NaN</td>\n",
              "      <td>NaN</td>\n",
              "      <td>NaN</td>\n",
              "      <td>NaN</td>\n",
              "      <td>NaN</td>\n",
              "      <td>NaN</td>\n",
              "      <td>NaN</td>\n",
              "      <td>NaN</td>\n",
              "      <td>...</td>\n",
              "      <td>NaN</td>\n",
              "      <td>NaN</td>\n",
              "      <td>NaN</td>\n",
              "      <td>NaN</td>\n",
              "      <td>NaN</td>\n",
              "      <td>NaN</td>\n",
              "      <td>NaN</td>\n",
              "      <td>0.0</td>\n",
              "      <td>0.0</td>\n",
              "      <td>0.0</td>\n",
              "      <td>0.0</td>\n",
              "      <td>0.0</td>\n",
              "      <td>0.0</td>\n",
              "      <td>0.0</td>\n",
              "      <td>0.0</td>\n",
              "      <td>0.0</td>\n",
              "      <td>0.0</td>\n",
              "      <td>0.0</td>\n",
              "      <td>0.0</td>\n",
              "      <td>1.0</td>\n",
              "      <td>1.0</td>\n",
              "      <td>0.0</td>\n",
              "      <td>0.0</td>\n",
              "      <td>0.0</td>\n",
              "      <td>0.0</td>\n",
              "      <td>1.0</td>\n",
              "      <td>1.0</td>\n",
              "      <td>0.0</td>\n",
              "      <td>1.0</td>\n",
              "      <td>1.0</td>\n",
              "      <td>1.0</td>\n",
              "      <td>0.0</td>\n",
              "      <td>0.0</td>\n",
              "      <td>0.0</td>\n",
              "      <td>0.0</td>\n",
              "      <td>0.0</td>\n",
              "      <td>0.0</td>\n",
              "      <td>0.0</td>\n",
              "      <td>0.0</td>\n",
              "      <td>0.0</td>\n",
              "    </tr>\n",
              "  </tbody>\n",
              "</table>\n",
              "<p>5 rows × 172 columns</p>\n",
              "</div>"
            ],
            "text/plain": [
              "   TransactionID  isFraud  TransactionDT  ...  V314 V315    V317\n",
              "0        2987000        0          86400  ...   0.0  0.0   117.0\n",
              "1        2987001        0          86401  ...   0.0  0.0     0.0\n",
              "2        2987002        0          86469  ...   0.0  0.0     0.0\n",
              "3        2987003        0          86499  ...   0.0  0.0  1404.0\n",
              "4        2987004        0          86506  ...   0.0  0.0     0.0\n",
              "\n",
              "[5 rows x 172 columns]"
            ]
          },
          "metadata": {
            "tags": []
          },
          "execution_count": 23
        }
      ]
    },
    {
      "cell_type": "code",
      "metadata": {
        "id": "hqpqqY1ULM4I",
        "colab_type": "code",
        "colab": {}
      },
      "source": [
        "le=preprocessing.LabelEncoder()\n",
        "def imputation(data):\n",
        "   for i in data.columns:\n",
        "      if data[i].dtypes=='int64' or data[i].dtypes=='float64':\n",
        "         data[i].fillna(data[i].mean(),inplace=True)\n",
        "      if data[i].dtypes=='object':\n",
        "         data[i].fillna(data[i].mode()[0],inplace=True)\n",
        "      if 'M' in i:\n",
        "         data[i].fillna(data[i].mode()[0],inplace=True)\n",
        "         data[i]=le.fit_transform(data[i])"
      ],
      "execution_count": 0,
      "outputs": []
    },
    {
      "cell_type": "code",
      "metadata": {
        "id": "62Czjw00LM1T",
        "colab_type": "code",
        "colab": {}
      },
      "source": [
        "imputation(train)\n",
        "imputation(test)"
      ],
      "execution_count": 0,
      "outputs": []
    },
    {
      "cell_type": "code",
      "metadata": {
        "id": "cfgrKcL2XZ9T",
        "colab_type": "code",
        "colab": {}
      },
      "source": [
        ""
      ],
      "execution_count": 0,
      "outputs": []
    },
    {
      "cell_type": "markdown",
      "metadata": {
        "id": "Rw9atAtxL_t_",
        "colab_type": "text"
      },
      "source": [
        "###**Application de modèles :**"
      ]
    },
    {
      "cell_type": "markdown",
      "metadata": {
        "id": "UpyKJnlYQHdq",
        "colab_type": "text"
      },
      "source": [
        "récupération des variables numériques :"
      ]
    },
    {
      "cell_type": "code",
      "metadata": {
        "id": "uKy-GtEdP8My",
        "colab_type": "code",
        "colab": {}
      },
      "source": [
        "X_num = [i for i in train.columns if i in num]"
      ],
      "execution_count": 0,
      "outputs": []
    },
    {
      "cell_type": "code",
      "metadata": {
        "id": "0C_XPKzYRCAj",
        "colab_type": "code",
        "colab": {}
      },
      "source": [
        "X=train[X_num]"
      ],
      "execution_count": 0,
      "outputs": []
    },
    {
      "cell_type": "code",
      "metadata": {
        "id": "yhrRCrWoYfpU",
        "colab_type": "code",
        "colab": {}
      },
      "source": [
        "X.fillna(X.mean(), inplace=True)"
      ],
      "execution_count": 0,
      "outputs": []
    },
    {
      "cell_type": "code",
      "metadata": {
        "id": "dRRVBv5laer1",
        "colab_type": "code",
        "colab": {
          "base_uri": "https://localhost:8080/",
          "height": 253
        },
        "outputId": "9927ece5-8a78-460e-a538-fcea8ab6a67c"
      },
      "source": [
        "X.head()"
      ],
      "execution_count": 29,
      "outputs": [
        {
          "output_type": "execute_result",
          "data": {
            "text/html": [
              "<div>\n",
              "<style scoped>\n",
              "    .dataframe tbody tr th:only-of-type {\n",
              "        vertical-align: middle;\n",
              "    }\n",
              "\n",
              "    .dataframe tbody tr th {\n",
              "        vertical-align: top;\n",
              "    }\n",
              "\n",
              "    .dataframe thead th {\n",
              "        text-align: right;\n",
              "    }\n",
              "</style>\n",
              "<table border=\"1\" class=\"dataframe\">\n",
              "  <thead>\n",
              "    <tr style=\"text-align: right;\">\n",
              "      <th></th>\n",
              "      <th>TransactionID</th>\n",
              "      <th>isFraud</th>\n",
              "      <th>TransactionDT</th>\n",
              "      <th>TransactionAmt</th>\n",
              "      <th>card1</th>\n",
              "      <th>card2</th>\n",
              "      <th>card3</th>\n",
              "      <th>card5</th>\n",
              "      <th>addr1</th>\n",
              "      <th>addr2</th>\n",
              "      <th>dist1</th>\n",
              "      <th>C1</th>\n",
              "      <th>C2</th>\n",
              "      <th>C4</th>\n",
              "      <th>C5</th>\n",
              "      <th>C6</th>\n",
              "      <th>C7</th>\n",
              "      <th>C8</th>\n",
              "      <th>C9</th>\n",
              "      <th>C10</th>\n",
              "      <th>C11</th>\n",
              "      <th>C12</th>\n",
              "      <th>C13</th>\n",
              "      <th>C14</th>\n",
              "      <th>D1</th>\n",
              "      <th>D2</th>\n",
              "      <th>D3</th>\n",
              "      <th>D4</th>\n",
              "      <th>D5</th>\n",
              "      <th>D10</th>\n",
              "      <th>D11</th>\n",
              "      <th>D15</th>\n",
              "      <th>V1</th>\n",
              "      <th>V2</th>\n",
              "      <th>V3</th>\n",
              "      <th>V4</th>\n",
              "      <th>V5</th>\n",
              "      <th>V6</th>\n",
              "      <th>V7</th>\n",
              "      <th>V8</th>\n",
              "      <th>...</th>\n",
              "      <th>V88</th>\n",
              "      <th>V89</th>\n",
              "      <th>V90</th>\n",
              "      <th>V91</th>\n",
              "      <th>V92</th>\n",
              "      <th>V93</th>\n",
              "      <th>V94</th>\n",
              "      <th>V95</th>\n",
              "      <th>V96</th>\n",
              "      <th>V97</th>\n",
              "      <th>V99</th>\n",
              "      <th>V100</th>\n",
              "      <th>V126</th>\n",
              "      <th>V127</th>\n",
              "      <th>V128</th>\n",
              "      <th>V130</th>\n",
              "      <th>V131</th>\n",
              "      <th>V279</th>\n",
              "      <th>V280</th>\n",
              "      <th>V282</th>\n",
              "      <th>V283</th>\n",
              "      <th>V285</th>\n",
              "      <th>V287</th>\n",
              "      <th>V288</th>\n",
              "      <th>V289</th>\n",
              "      <th>V291</th>\n",
              "      <th>V292</th>\n",
              "      <th>V294</th>\n",
              "      <th>V302</th>\n",
              "      <th>V303</th>\n",
              "      <th>V304</th>\n",
              "      <th>V306</th>\n",
              "      <th>V307</th>\n",
              "      <th>V308</th>\n",
              "      <th>V310</th>\n",
              "      <th>V312</th>\n",
              "      <th>V313</th>\n",
              "      <th>V314</th>\n",
              "      <th>V315</th>\n",
              "      <th>V317</th>\n",
              "    </tr>\n",
              "  </thead>\n",
              "  <tbody>\n",
              "    <tr>\n",
              "      <th>0</th>\n",
              "      <td>2987000</td>\n",
              "      <td>0</td>\n",
              "      <td>86400</td>\n",
              "      <td>68.5</td>\n",
              "      <td>13926</td>\n",
              "      <td>362.5</td>\n",
              "      <td>150.0</td>\n",
              "      <td>142.0</td>\n",
              "      <td>315.0</td>\n",
              "      <td>87.0</td>\n",
              "      <td>19.0</td>\n",
              "      <td>1.0</td>\n",
              "      <td>1.0</td>\n",
              "      <td>0.0</td>\n",
              "      <td>0.0</td>\n",
              "      <td>1.0</td>\n",
              "      <td>0.0</td>\n",
              "      <td>0.0</td>\n",
              "      <td>1.0</td>\n",
              "      <td>0.0</td>\n",
              "      <td>2.0</td>\n",
              "      <td>0.0</td>\n",
              "      <td>1.0</td>\n",
              "      <td>1.0</td>\n",
              "      <td>14.0</td>\n",
              "      <td>169.625</td>\n",
              "      <td>13.00000</td>\n",
              "      <td>140.0</td>\n",
              "      <td>42.34375</td>\n",
              "      <td>13.0</td>\n",
              "      <td>13.000</td>\n",
              "      <td>0.00</td>\n",
              "      <td>1.0</td>\n",
              "      <td>1.000000</td>\n",
              "      <td>1.000000</td>\n",
              "      <td>1.00000</td>\n",
              "      <td>1.000000</td>\n",
              "      <td>1.000000</td>\n",
              "      <td>1.000000</td>\n",
              "      <td>1.000000</td>\n",
              "      <td>...</td>\n",
              "      <td>1.000000</td>\n",
              "      <td>0.000000</td>\n",
              "      <td>0.000000</td>\n",
              "      <td>0.00000</td>\n",
              "      <td>0.000000</td>\n",
              "      <td>0.000000</td>\n",
              "      <td>0.000000</td>\n",
              "      <td>0.0</td>\n",
              "      <td>1.0</td>\n",
              "      <td>0.0</td>\n",
              "      <td>0.0</td>\n",
              "      <td>0.0</td>\n",
              "      <td>0.0</td>\n",
              "      <td>117.0</td>\n",
              "      <td>0.0</td>\n",
              "      <td>0.0</td>\n",
              "      <td>0.0</td>\n",
              "      <td>0.0</td>\n",
              "      <td>0.0</td>\n",
              "      <td>1.0</td>\n",
              "      <td>1.0</td>\n",
              "      <td>0.0</td>\n",
              "      <td>0.0</td>\n",
              "      <td>0.0</td>\n",
              "      <td>0.0</td>\n",
              "      <td>1.0</td>\n",
              "      <td>1.0</td>\n",
              "      <td>1.0</td>\n",
              "      <td>0.0</td>\n",
              "      <td>0.0</td>\n",
              "      <td>0.0</td>\n",
              "      <td>0.0</td>\n",
              "      <td>117.0</td>\n",
              "      <td>0.0</td>\n",
              "      <td>0.0</td>\n",
              "      <td>0.0</td>\n",
              "      <td>0.0</td>\n",
              "      <td>0.0</td>\n",
              "      <td>0.0</td>\n",
              "      <td>117.0</td>\n",
              "    </tr>\n",
              "    <tr>\n",
              "      <th>1</th>\n",
              "      <td>2987001</td>\n",
              "      <td>0</td>\n",
              "      <td>86401</td>\n",
              "      <td>29.0</td>\n",
              "      <td>2755</td>\n",
              "      <td>404.0</td>\n",
              "      <td>150.0</td>\n",
              "      <td>102.0</td>\n",
              "      <td>325.0</td>\n",
              "      <td>87.0</td>\n",
              "      <td>118.5</td>\n",
              "      <td>1.0</td>\n",
              "      <td>1.0</td>\n",
              "      <td>0.0</td>\n",
              "      <td>0.0</td>\n",
              "      <td>1.0</td>\n",
              "      <td>0.0</td>\n",
              "      <td>0.0</td>\n",
              "      <td>0.0</td>\n",
              "      <td>0.0</td>\n",
              "      <td>1.0</td>\n",
              "      <td>0.0</td>\n",
              "      <td>1.0</td>\n",
              "      <td>1.0</td>\n",
              "      <td>0.0</td>\n",
              "      <td>169.625</td>\n",
              "      <td>28.34375</td>\n",
              "      <td>0.0</td>\n",
              "      <td>42.34375</td>\n",
              "      <td>0.0</td>\n",
              "      <td>146.625</td>\n",
              "      <td>0.00</td>\n",
              "      <td>1.0</td>\n",
              "      <td>1.044922</td>\n",
              "      <td>1.078125</td>\n",
              "      <td>0.84668</td>\n",
              "      <td>0.876953</td>\n",
              "      <td>1.045898</td>\n",
              "      <td>1.073242</td>\n",
              "      <td>1.027344</td>\n",
              "      <td>...</td>\n",
              "      <td>1.000000</td>\n",
              "      <td>0.000000</td>\n",
              "      <td>0.000000</td>\n",
              "      <td>0.00000</td>\n",
              "      <td>0.000000</td>\n",
              "      <td>0.000000</td>\n",
              "      <td>0.000000</td>\n",
              "      <td>0.0</td>\n",
              "      <td>0.0</td>\n",
              "      <td>0.0</td>\n",
              "      <td>0.0</td>\n",
              "      <td>0.0</td>\n",
              "      <td>0.0</td>\n",
              "      <td>0.0</td>\n",
              "      <td>0.0</td>\n",
              "      <td>0.0</td>\n",
              "      <td>0.0</td>\n",
              "      <td>0.0</td>\n",
              "      <td>0.0</td>\n",
              "      <td>1.0</td>\n",
              "      <td>1.0</td>\n",
              "      <td>0.0</td>\n",
              "      <td>0.0</td>\n",
              "      <td>0.0</td>\n",
              "      <td>0.0</td>\n",
              "      <td>1.0</td>\n",
              "      <td>1.0</td>\n",
              "      <td>0.0</td>\n",
              "      <td>0.0</td>\n",
              "      <td>0.0</td>\n",
              "      <td>0.0</td>\n",
              "      <td>0.0</td>\n",
              "      <td>0.0</td>\n",
              "      <td>0.0</td>\n",
              "      <td>0.0</td>\n",
              "      <td>0.0</td>\n",
              "      <td>0.0</td>\n",
              "      <td>0.0</td>\n",
              "      <td>0.0</td>\n",
              "      <td>0.0</td>\n",
              "    </tr>\n",
              "    <tr>\n",
              "      <th>2</th>\n",
              "      <td>2987002</td>\n",
              "      <td>0</td>\n",
              "      <td>86469</td>\n",
              "      <td>59.0</td>\n",
              "      <td>4663</td>\n",
              "      <td>490.0</td>\n",
              "      <td>150.0</td>\n",
              "      <td>166.0</td>\n",
              "      <td>330.0</td>\n",
              "      <td>87.0</td>\n",
              "      <td>287.0</td>\n",
              "      <td>1.0</td>\n",
              "      <td>1.0</td>\n",
              "      <td>0.0</td>\n",
              "      <td>0.0</td>\n",
              "      <td>1.0</td>\n",
              "      <td>0.0</td>\n",
              "      <td>0.0</td>\n",
              "      <td>1.0</td>\n",
              "      <td>0.0</td>\n",
              "      <td>1.0</td>\n",
              "      <td>0.0</td>\n",
              "      <td>1.0</td>\n",
              "      <td>1.0</td>\n",
              "      <td>0.0</td>\n",
              "      <td>169.625</td>\n",
              "      <td>28.34375</td>\n",
              "      <td>0.0</td>\n",
              "      <td>42.34375</td>\n",
              "      <td>0.0</td>\n",
              "      <td>315.000</td>\n",
              "      <td>315.00</td>\n",
              "      <td>1.0</td>\n",
              "      <td>1.000000</td>\n",
              "      <td>1.000000</td>\n",
              "      <td>1.00000</td>\n",
              "      <td>1.000000</td>\n",
              "      <td>1.000000</td>\n",
              "      <td>1.000000</td>\n",
              "      <td>1.000000</td>\n",
              "      <td>...</td>\n",
              "      <td>1.000000</td>\n",
              "      <td>0.000000</td>\n",
              "      <td>0.000000</td>\n",
              "      <td>0.00000</td>\n",
              "      <td>0.000000</td>\n",
              "      <td>0.000000</td>\n",
              "      <td>0.000000</td>\n",
              "      <td>0.0</td>\n",
              "      <td>0.0</td>\n",
              "      <td>0.0</td>\n",
              "      <td>0.0</td>\n",
              "      <td>0.0</td>\n",
              "      <td>0.0</td>\n",
              "      <td>0.0</td>\n",
              "      <td>0.0</td>\n",
              "      <td>0.0</td>\n",
              "      <td>0.0</td>\n",
              "      <td>0.0</td>\n",
              "      <td>0.0</td>\n",
              "      <td>1.0</td>\n",
              "      <td>1.0</td>\n",
              "      <td>0.0</td>\n",
              "      <td>0.0</td>\n",
              "      <td>0.0</td>\n",
              "      <td>0.0</td>\n",
              "      <td>1.0</td>\n",
              "      <td>1.0</td>\n",
              "      <td>0.0</td>\n",
              "      <td>0.0</td>\n",
              "      <td>0.0</td>\n",
              "      <td>0.0</td>\n",
              "      <td>0.0</td>\n",
              "      <td>0.0</td>\n",
              "      <td>0.0</td>\n",
              "      <td>0.0</td>\n",
              "      <td>0.0</td>\n",
              "      <td>0.0</td>\n",
              "      <td>0.0</td>\n",
              "      <td>0.0</td>\n",
              "      <td>0.0</td>\n",
              "    </tr>\n",
              "    <tr>\n",
              "      <th>3</th>\n",
              "      <td>2987003</td>\n",
              "      <td>0</td>\n",
              "      <td>86499</td>\n",
              "      <td>50.0</td>\n",
              "      <td>18132</td>\n",
              "      <td>567.0</td>\n",
              "      <td>150.0</td>\n",
              "      <td>117.0</td>\n",
              "      <td>476.0</td>\n",
              "      <td>87.0</td>\n",
              "      <td>118.5</td>\n",
              "      <td>2.0</td>\n",
              "      <td>5.0</td>\n",
              "      <td>0.0</td>\n",
              "      <td>0.0</td>\n",
              "      <td>4.0</td>\n",
              "      <td>0.0</td>\n",
              "      <td>0.0</td>\n",
              "      <td>1.0</td>\n",
              "      <td>0.0</td>\n",
              "      <td>1.0</td>\n",
              "      <td>0.0</td>\n",
              "      <td>25.0</td>\n",
              "      <td>1.0</td>\n",
              "      <td>112.0</td>\n",
              "      <td>112.000</td>\n",
              "      <td>0.00000</td>\n",
              "      <td>94.0</td>\n",
              "      <td>0.00000</td>\n",
              "      <td>84.0</td>\n",
              "      <td>146.625</td>\n",
              "      <td>111.00</td>\n",
              "      <td>1.0</td>\n",
              "      <td>1.044922</td>\n",
              "      <td>1.078125</td>\n",
              "      <td>0.84668</td>\n",
              "      <td>0.876953</td>\n",
              "      <td>1.045898</td>\n",
              "      <td>1.073242</td>\n",
              "      <td>1.027344</td>\n",
              "      <td>...</td>\n",
              "      <td>1.000000</td>\n",
              "      <td>0.000000</td>\n",
              "      <td>0.000000</td>\n",
              "      <td>0.00000</td>\n",
              "      <td>0.000000</td>\n",
              "      <td>0.000000</td>\n",
              "      <td>0.000000</td>\n",
              "      <td>1.0</td>\n",
              "      <td>48.0</td>\n",
              "      <td>28.0</td>\n",
              "      <td>10.0</td>\n",
              "      <td>4.0</td>\n",
              "      <td>50.0</td>\n",
              "      <td>1758.0</td>\n",
              "      <td>925.0</td>\n",
              "      <td>354.0</td>\n",
              "      <td>135.0</td>\n",
              "      <td>1.0</td>\n",
              "      <td>28.0</td>\n",
              "      <td>0.0</td>\n",
              "      <td>0.0</td>\n",
              "      <td>10.0</td>\n",
              "      <td>4.0</td>\n",
              "      <td>0.0</td>\n",
              "      <td>0.0</td>\n",
              "      <td>1.0</td>\n",
              "      <td>1.0</td>\n",
              "      <td>38.0</td>\n",
              "      <td>0.0</td>\n",
              "      <td>0.0</td>\n",
              "      <td>0.0</td>\n",
              "      <td>50.0</td>\n",
              "      <td>1758.0</td>\n",
              "      <td>925.0</td>\n",
              "      <td>354.0</td>\n",
              "      <td>135.0</td>\n",
              "      <td>0.0</td>\n",
              "      <td>0.0</td>\n",
              "      <td>0.0</td>\n",
              "      <td>1404.0</td>\n",
              "    </tr>\n",
              "    <tr>\n",
              "      <th>4</th>\n",
              "      <td>2987004</td>\n",
              "      <td>0</td>\n",
              "      <td>86506</td>\n",
              "      <td>50.0</td>\n",
              "      <td>4497</td>\n",
              "      <td>514.0</td>\n",
              "      <td>150.0</td>\n",
              "      <td>102.0</td>\n",
              "      <td>420.0</td>\n",
              "      <td>87.0</td>\n",
              "      <td>118.5</td>\n",
              "      <td>1.0</td>\n",
              "      <td>1.0</td>\n",
              "      <td>0.0</td>\n",
              "      <td>0.0</td>\n",
              "      <td>1.0</td>\n",
              "      <td>0.0</td>\n",
              "      <td>1.0</td>\n",
              "      <td>0.0</td>\n",
              "      <td>1.0</td>\n",
              "      <td>1.0</td>\n",
              "      <td>0.0</td>\n",
              "      <td>1.0</td>\n",
              "      <td>1.0</td>\n",
              "      <td>0.0</td>\n",
              "      <td>169.625</td>\n",
              "      <td>28.34375</td>\n",
              "      <td>140.0</td>\n",
              "      <td>42.34375</td>\n",
              "      <td>124.0</td>\n",
              "      <td>146.625</td>\n",
              "      <td>163.75</td>\n",
              "      <td>1.0</td>\n",
              "      <td>1.044922</td>\n",
              "      <td>1.078125</td>\n",
              "      <td>0.84668</td>\n",
              "      <td>0.876953</td>\n",
              "      <td>1.045898</td>\n",
              "      <td>1.073242</td>\n",
              "      <td>1.027344</td>\n",
              "      <td>...</td>\n",
              "      <td>0.999023</td>\n",
              "      <td>0.000902</td>\n",
              "      <td>0.401855</td>\n",
              "      <td>0.42041</td>\n",
              "      <td>0.150269</td>\n",
              "      <td>0.154785</td>\n",
              "      <td>0.136963</td>\n",
              "      <td>0.0</td>\n",
              "      <td>0.0</td>\n",
              "      <td>0.0</td>\n",
              "      <td>0.0</td>\n",
              "      <td>0.0</td>\n",
              "      <td>0.0</td>\n",
              "      <td>0.0</td>\n",
              "      <td>0.0</td>\n",
              "      <td>0.0</td>\n",
              "      <td>0.0</td>\n",
              "      <td>0.0</td>\n",
              "      <td>0.0</td>\n",
              "      <td>1.0</td>\n",
              "      <td>1.0</td>\n",
              "      <td>0.0</td>\n",
              "      <td>0.0</td>\n",
              "      <td>0.0</td>\n",
              "      <td>0.0</td>\n",
              "      <td>1.0</td>\n",
              "      <td>1.0</td>\n",
              "      <td>0.0</td>\n",
              "      <td>1.0</td>\n",
              "      <td>1.0</td>\n",
              "      <td>1.0</td>\n",
              "      <td>0.0</td>\n",
              "      <td>0.0</td>\n",
              "      <td>0.0</td>\n",
              "      <td>0.0</td>\n",
              "      <td>0.0</td>\n",
              "      <td>0.0</td>\n",
              "      <td>0.0</td>\n",
              "      <td>0.0</td>\n",
              "      <td>0.0</td>\n",
              "    </tr>\n",
              "  </tbody>\n",
              "</table>\n",
              "<p>5 rows × 159 columns</p>\n",
              "</div>"
            ],
            "text/plain": [
              "   TransactionID  isFraud  TransactionDT  ...  V314  V315    V317\n",
              "0        2987000        0          86400  ...   0.0   0.0   117.0\n",
              "1        2987001        0          86401  ...   0.0   0.0     0.0\n",
              "2        2987002        0          86469  ...   0.0   0.0     0.0\n",
              "3        2987003        0          86499  ...   0.0   0.0  1404.0\n",
              "4        2987004        0          86506  ...   0.0   0.0     0.0\n",
              "\n",
              "[5 rows x 159 columns]"
            ]
          },
          "metadata": {
            "tags": []
          },
          "execution_count": 29
        }
      ]
    },
    {
      "cell_type": "markdown",
      "metadata": {
        "id": "1vA6DfrmNfGe",
        "colab_type": "text"
      },
      "source": [
        "**1) KNN :**"
      ]
    },
    {
      "cell_type": "code",
      "metadata": {
        "id": "gtIlXegeLMoc",
        "colab_type": "code",
        "colab": {}
      },
      "source": [
        "Y = X[\"isFraud\"] \n",
        "X = X.loc[:, X.columns != \"isFraud\"]"
      ],
      "execution_count": 0,
      "outputs": []
    },
    {
      "cell_type": "markdown",
      "metadata": {
        "id": "dGKOerhPNoH5",
        "colab_type": "text"
      },
      "source": [
        "split data :"
      ]
    },
    {
      "cell_type": "code",
      "metadata": {
        "id": "Zw55SQj8Nhr0",
        "colab_type": "code",
        "colab": {}
      },
      "source": [
        "X_train, X_test, y_train, y_test = train_test_split(X, Y, train_size=0.7, random_state=0)"
      ],
      "execution_count": 0,
      "outputs": []
    },
    {
      "cell_type": "code",
      "metadata": {
        "id": "IIyIOLiOOCl-",
        "colab_type": "code",
        "colab": {
          "base_uri": "https://localhost:8080/",
          "height": 71
        },
        "outputId": "4b014e63-fd1a-4a5f-f34e-b5748509bc2a"
      },
      "source": [
        "from sklearn import neighbors\n",
        "\n",
        "knn = neighbors.KNeighborsClassifier(n_neighbors=3)\n",
        "knn.fit(X_train, y_train)"
      ],
      "execution_count": 32,
      "outputs": [
        {
          "output_type": "execute_result",
          "data": {
            "text/plain": [
              "KNeighborsClassifier(algorithm='auto', leaf_size=30, metric='minkowski',\n",
              "                     metric_params=None, n_jobs=None, n_neighbors=3, p=2,\n",
              "                     weights='uniform')"
            ]
          },
          "metadata": {
            "tags": []
          },
          "execution_count": 32
        }
      ]
    },
    {
      "cell_type": "code",
      "metadata": {
        "id": "oZqsnNpmbUxe",
        "colab_type": "code",
        "colab": {
          "base_uri": "https://localhost:8080/",
          "height": 35
        },
        "outputId": "61dea554-1d23-407f-ef31-3992e200b712"
      },
      "source": [
        "pred_train = knn.predict_proba(X_train)\n",
        "print(\"score auc train :\",roc_auc_score(y_train, pred_train[:, 1]))"
      ],
      "execution_count": 33,
      "outputs": [
        {
          "output_type": "stream",
          "text": [
            "score auc train : 0.9817013035543113\n"
          ],
          "name": "stdout"
        }
      ]
    },
    {
      "cell_type": "code",
      "metadata": {
        "id": "1aZdYH-zcHAb",
        "colab_type": "code",
        "colab": {
          "base_uri": "https://localhost:8080/",
          "height": 35
        },
        "outputId": "9bdb83fa-fdbc-451f-c094-526c3e5a87d2"
      },
      "source": [
        "pred_test = knn.predict_proba(X_test)\n",
        "print(\"score auc test :\",roc_auc_score(y_test, pred_test[:, 1]))"
      ],
      "execution_count": 34,
      "outputs": [
        {
          "output_type": "stream",
          "text": [
            "score auc test : 0.6726890087845089\n"
          ],
          "name": "stdout"
        }
      ]
    },
    {
      "cell_type": "markdown",
      "metadata": {
        "id": "2xydcPpsckTO",
        "colab_type": "text"
      },
      "source": [
        "**2) Regression Tree :**"
      ]
    },
    {
      "cell_type": "code",
      "metadata": {
        "id": "vToYUnYMcjcY",
        "colab_type": "code",
        "colab": {
          "base_uri": "https://localhost:8080/",
          "height": 125
        },
        "outputId": "3886bc70-03dc-45b3-fff6-5c72d80db9c7"
      },
      "source": [
        "from sklearn import tree\n",
        "clf = tree.DecisionTreeClassifier()\n",
        "clf.fit(X_train, y_train)"
      ],
      "execution_count": 35,
      "outputs": [
        {
          "output_type": "execute_result",
          "data": {
            "text/plain": [
              "DecisionTreeClassifier(ccp_alpha=0.0, class_weight=None, criterion='gini',\n",
              "                       max_depth=None, max_features=None, max_leaf_nodes=None,\n",
              "                       min_impurity_decrease=0.0, min_impurity_split=None,\n",
              "                       min_samples_leaf=1, min_samples_split=2,\n",
              "                       min_weight_fraction_leaf=0.0, presort='deprecated',\n",
              "                       random_state=None, splitter='best')"
            ]
          },
          "metadata": {
            "tags": []
          },
          "execution_count": 35
        }
      ]
    },
    {
      "cell_type": "code",
      "metadata": {
        "id": "99x1z9ldcyd2",
        "colab_type": "code",
        "colab": {
          "base_uri": "https://localhost:8080/",
          "height": 35
        },
        "outputId": "cc49a6bd-59c1-4567-99c0-fcac0587877e"
      },
      "source": [
        "pred_train = clf.predict_proba(X_train)\n",
        "print(\"score auc train :\",roc_auc_score(y_train, pred_train[:, 1]))"
      ],
      "execution_count": 36,
      "outputs": [
        {
          "output_type": "stream",
          "text": [
            "score auc train : 1.0\n"
          ],
          "name": "stdout"
        }
      ]
    },
    {
      "cell_type": "markdown",
      "metadata": {
        "id": "TR4Lnh5fdQsA",
        "colab_type": "text"
      },
      "source": [
        "Comme on a le problème de imbalanced data, normal que ça 1 pour arbre de décision et même 0.98 pour KNN."
      ]
    },
    {
      "cell_type": "code",
      "metadata": {
        "id": "JHLMDB9kc2SR",
        "colab_type": "code",
        "colab": {
          "base_uri": "https://localhost:8080/",
          "height": 35
        },
        "outputId": "1ab03fbe-a5b8-47a7-9d01-e4e3146e1bf6"
      },
      "source": [
        "pred_test = clf.predict_proba(X_test)\n",
        "print(\"score auc test :\",roc_auc_score(y_test, pred_test[:, 1]))"
      ],
      "execution_count": 37,
      "outputs": [
        {
          "output_type": "stream",
          "text": [
            "score auc test : 0.7677666183445674\n"
          ],
          "name": "stdout"
        }
      ]
    },
    {
      "cell_type": "markdown",
      "metadata": {
        "id": "As_TsPXHdOtN",
        "colab_type": "text"
      },
      "source": [
        "On va essayer un dernier : \n",
        "\n",
        "**3) XGBoost:**"
      ]
    },
    {
      "cell_type": "code",
      "metadata": {
        "id": "YEhuYprZgirP",
        "colab_type": "code",
        "colab": {
          "base_uri": "https://localhost:8080/",
          "height": 143
        },
        "outputId": "6346087e-3f77-4a8b-b0aa-fa2c905fae0c"
      },
      "source": [
        "boost = XGBClassifier()\n",
        "boost.fit(X_train, y_train)"
      ],
      "execution_count": 39,
      "outputs": [
        {
          "output_type": "execute_result",
          "data": {
            "text/plain": [
              "XGBClassifier(base_score=0.5, booster='gbtree', colsample_bylevel=1,\n",
              "              colsample_bynode=1, colsample_bytree=1, gamma=0,\n",
              "              learning_rate=0.1, max_delta_step=0, max_depth=3,\n",
              "              min_child_weight=1, missing=None, n_estimators=100, n_jobs=1,\n",
              "              nthread=None, objective='binary:logistic', random_state=0,\n",
              "              reg_alpha=0, reg_lambda=1, scale_pos_weight=1, seed=None,\n",
              "              silent=None, subsample=1, verbosity=1)"
            ]
          },
          "metadata": {
            "tags": []
          },
          "execution_count": 39
        }
      ]
    },
    {
      "cell_type": "code",
      "metadata": {
        "id": "4mt0AqARgijU",
        "colab_type": "code",
        "colab": {
          "base_uri": "https://localhost:8080/",
          "height": 35
        },
        "outputId": "ab82aeec-f632-4950-c3b1-a02276245dc7"
      },
      "source": [
        "pred_train = boost.predict_proba(X_train)\n",
        "print(\"score auc train :\",roc_auc_score(y_train, pred_train[:, 1]))"
      ],
      "execution_count": 40,
      "outputs": [
        {
          "output_type": "stream",
          "text": [
            "score auc train : 0.8846411761809592\n"
          ],
          "name": "stdout"
        }
      ]
    },
    {
      "cell_type": "code",
      "metadata": {
        "id": "FxBoAcKOgiXD",
        "colab_type": "code",
        "colab": {
          "base_uri": "https://localhost:8080/",
          "height": 35
        },
        "outputId": "c2015504-13d6-41b2-d6ad-bceb463c8aaa"
      },
      "source": [
        "pred_test = boost.predict_proba(X_test)\n",
        "print(\"score auc test :\",roc_auc_score(y_test, pred_test[:, 1]))"
      ],
      "execution_count": 41,
      "outputs": [
        {
          "output_type": "stream",
          "text": [
            "score auc test : 0.8792474628877732\n"
          ],
          "name": "stdout"
        }
      ]
    },
    {
      "cell_type": "markdown",
      "metadata": {
        "id": "AiJVhONTk5s5",
        "colab_type": "text"
      },
      "source": [
        "Problème \"inbalanced Data\":"
      ]
    },
    {
      "cell_type": "markdown",
      "metadata": {
        "id": "obyr3YDBJdt9",
        "colab_type": "text"
      },
      "source": [
        "D-Features:\n",
        "\n",
        "V-Features:\n",
        "\n",
        "C-Features:\n",
        "\n",
        "P_R emails:"
      ]
    },
    {
      "cell_type": "code",
      "metadata": {
        "id": "ClfqDsMaGqyJ",
        "colab_type": "code",
        "colab": {}
      },
      "source": [
        ""
      ],
      "execution_count": 0,
      "outputs": []
    },
    {
      "cell_type": "code",
      "metadata": {
        "id": "ymPeD8JxGquS",
        "colab_type": "code",
        "colab": {}
      },
      "source": [
        ""
      ],
      "execution_count": 0,
      "outputs": []
    },
    {
      "cell_type": "code",
      "metadata": {
        "id": "YqLgDj5iGqrB",
        "colab_type": "code",
        "colab": {}
      },
      "source": [
        ""
      ],
      "execution_count": 0,
      "outputs": []
    }
  ]
}